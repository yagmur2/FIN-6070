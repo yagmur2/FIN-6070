{
 "cells": [
  {
   "cell_type": "markdown",
   "metadata": {},
   "source": [
    "# Topic 6 Assignemnt\n",
    "For this assignment, there is only one question. You are responsible for completing all of the steps that you believe are required to fully answer that question based on the notes for Topic 6. You must provide insights throughout the analysis as well as a conclusion.\n",
    "\n",
    "***For this solution guide I have not provided the exploratory data analysis portion. We have already completed this in our prior lectures. I am only providing the machine learning/model creation solutions here.***\n",
    "\n",
    "***Assignments should be uploaded in two formats to D2L. The first format is the .ipynb file that contains your code. The second format is an html file that you can obtain by File > Download As > HTML (.html).***"
   ]
  },
  {
   "cell_type": "markdown",
   "metadata": {},
   "source": [
    "## Question 1\n",
    "\n",
    "**Data Description:**\n",
    "All data needed to complete this assignment can be found in the file car_insurance.csv.\n",
    "\n",
    "**Context:**\n",
    "You have just been employed at a bank that provides car insurance. The bank has potential customers' data and it is our job to contant these individuals to advertise our available car insurnace options. We are given the results from the last car insurance advertising campaign and it is our job to create a model from this data that can be used for the new campaign. Which customers are likely to purchase the car insurance?\n",
    "\n",
    "**Attribute Information:** <br>\n",
    "Id: Customer ID <br>\n",
    "Age: Age of the client <br>\n",
    "Job: Job of the client <br>\n",
    "Marital: Marital status of the client <br>\n",
    "Education: Education level of the client <br>\n",
    "Default: Has credit in default? <br>\n",
    "Balance: Average yearly balance, in USD <br>\n",
    "HHInsurance: Is household insured <br>\n",
    "CarLoan: Does the client have a car loan <br>\n",
    "Communication: Contact/communication type <br>\n",
    "LastContactMonth: Month of last contact <br>\n",
    "LastContactDay: Start time of the last call (HH:MM:SS) <br>\n",
    "CallEnd: End time of the last call (HH:MM:SS) <br>\n",
    "NoOfContacts: Number of contacts performed during this campaign for this client <br>\n",
    "DaysPassed: Number of days that passed by after the client was last contacted from a previous campaign (-1 means client was not contacted) <br>\n",
    "PrevAttempts: Number of contacts performed before this campaign and for this client <br>\n",
    "Outcome: Outcome of the previous marketing campaign <br>\n",
    "CarInsurance: Has the client purchased car insurance from the bank ***Target Variable*** <br>\n",
    "\n",
    "**Objective:**\n",
    "- You should begin by exploring the data.\n",
    "- You must clean the data and remove those observations you do not want.\n",
    "- Examine any possible relationships within the data.\n",
    "- Prepare the data for modeling.\n",
    "- Create a logistic regression model to predict which customers will obtain car insurance.\n",
    "- Provide business insights based on your results."
   ]
  },
  {
   "cell_type": "markdown",
   "metadata": {},
   "source": [
    "#### Hint 1: Explore the data"
   ]
  },
  {
   "cell_type": "code",
   "execution_count": null,
   "metadata": {},
   "outputs": [],
   "source": []
  },
  {
   "cell_type": "markdown",
   "metadata": {},
   "source": [
    "#### Hint 2: Clean the data and drop unnecessary variables"
   ]
  },
  {
   "cell_type": "code",
   "execution_count": null,
   "metadata": {},
   "outputs": [],
   "source": []
  },
  {
   "cell_type": "markdown",
   "metadata": {},
   "source": [
    "#### Hint 3: Explore the data"
   ]
  },
  {
   "cell_type": "code",
   "execution_count": null,
   "metadata": {},
   "outputs": [],
   "source": []
  },
  {
   "cell_type": "markdown",
   "metadata": {},
   "source": [
    "#### Hint 4: Prepare data for modeling by creating training and testing data, filling in missing values, and creating dummy variables"
   ]
  },
  {
   "cell_type": "code",
   "execution_count": null,
   "metadata": {},
   "outputs": [],
   "source": []
  },
  {
   "cell_type": "markdown",
   "metadata": {},
   "source": [
    "#### Hint 5: Create our model"
   ]
  },
  {
   "cell_type": "code",
   "execution_count": null,
   "metadata": {},
   "outputs": [],
   "source": []
  },
  {
   "cell_type": "markdown",
   "metadata": {},
   "source": [
    "#### Hint 6: Business Insights"
   ]
  },
  {
   "cell_type": "code",
   "execution_count": null,
   "metadata": {},
   "outputs": [],
   "source": []
  }
 ],
 "metadata": {
  "kernelspec": {
   "display_name": "Python 3 (ipykernel)",
   "language": "python",
   "name": "python3"
  },
  "language_info": {
   "codemirror_mode": {
    "name": "ipython",
    "version": 3
   },
   "file_extension": ".py",
   "mimetype": "text/x-python",
   "name": "python",
   "nbconvert_exporter": "python",
   "pygments_lexer": "ipython3",
   "version": "3.9.16"
  }
 },
 "nbformat": 4,
 "nbformat_minor": 4
}
