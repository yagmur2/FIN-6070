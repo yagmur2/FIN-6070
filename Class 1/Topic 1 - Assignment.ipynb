{
 "cells": [
  {
   "cell_type": "markdown",
   "metadata": {},
   "source": [
    "# Topic 1 Assignemnt\n",
    "Provide the answers in the cell(s) below each question. If a question requires you to answer in code, you can provide the code. If the quesiton requires you to answer in the form of a sentence, you can convert the cell to Markdown and type out the answer there.\n",
    "\n",
    "***Assignments should be uploaded in two formats to D2L. The first format is the .ipynb file that contains your code. The second format is an html file that you can obtain by File > Download As > HTML (.html).***"
   ]
  },
  {
   "cell_type": "markdown",
   "metadata": {},
   "source": [
    "-------------------------------------------------------------------------------------------------------------------------------\n",
    "-------------------------------------------------------------------------------------------------------------------------------\n",
    "-------------------------------------------------------------------------------------------------------------------------------"
   ]
  },
  {
   "cell_type": "markdown",
   "metadata": {},
   "source": [
    "## Question 1\n",
    "\n",
    "Is Python a case sensitive language and what does that mean?"
   ]
  },
  {
   "cell_type": "markdown",
   "metadata": {},
   "source": [
    "### Answer to Question 1"
   ]
  },
  {
   "cell_type": "markdown",
   "metadata": {},
   "source": []
  },
  {
   "cell_type": "markdown",
   "metadata": {},
   "source": [
    "## Question 2\n",
    "\n",
    "What is the output to this bit of code?\n",
    "\n",
    "```python\n",
    "apple = 6 # The dividend Apple plans on paying  \n",
    "twitter = 5 # The dividend Twitter plans on paying\n",
    "  \n",
    "if apple < twitter:  \n",
    "    print(\"Twitter is paying a larger dividend that Apple\")  \n",
    "\n",
    "elif apple > twitter:  \n",
    "    print(\"Apple is paying a larger dividend than Twitter\")\n",
    "```"
   ]
  },
  {
   "cell_type": "markdown",
   "metadata": {},
   "source": [
    "### Answer to Question 2"
   ]
  },
  {
   "cell_type": "markdown",
   "metadata": {},
   "source": []
  },
  {
   "cell_type": "markdown",
   "metadata": {},
   "source": [
    "## Question 3\n",
    "\n",
    "What is the output to this bit of code?\n",
    "\n",
    "```python\n",
    "shares = 125000\n",
    "\n",
    "def func():\n",
    "\tshares = 250000\n",
    "\tprint ('Number of shares is', shares)\n",
    "\n",
    "func()\n",
    "```"
   ]
  },
  {
   "cell_type": "markdown",
   "metadata": {},
   "source": [
    "### Answer to Question 3"
   ]
  },
  {
   "cell_type": "markdown",
   "metadata": {},
   "source": []
  },
  {
   "cell_type": "markdown",
   "metadata": {},
   "source": [
    "## Question 4\n",
    "\n",
    "Modify the 2nd element of the list company to Amazon.\n",
    "\n",
    "```python\n",
    "company = ['WalMart', 'Citi', 'Apple', 'Target', 'Twitter', 'Tesla']\n",
    "\n",
    "# Type your code below\n",
    "company[__] = _____\n",
    "\n",
    "print (company)\n",
    "```"
   ]
  },
  {
   "cell_type": "markdown",
   "metadata": {},
   "source": [
    "### Answer to Question 4"
   ]
  },
  {
   "cell_type": "code",
   "execution_count": 1,
   "metadata": {},
   "outputs": [
    {
     "ename": "NameError",
     "evalue": "name '_____' is not defined",
     "output_type": "error",
     "traceback": [
      "\u001b[1;31m---------------------------------------------------------------------------\u001b[0m",
      "\u001b[1;31mNameError\u001b[0m                                 Traceback (most recent call last)",
      "\u001b[1;32mc:\\Users\\yagmu\\OneDrive\\Desktop\\Classes\\MS Finance\\Advanced Financial Data Analysis (6070)\\Class 1\\Topic 1 - Assignment.ipynb Cell 14\u001b[0m line \u001b[0;36m6\n\u001b[0;32m      <a href='vscode-notebook-cell:/c%3A/Users/yagmu/OneDrive/Desktop/Classes/MS%20Finance/Advanced%20Financial%20Data%20Analysis%20%286070%29/Class%201/Topic%201%20-%20Assignment.ipynb#X16sZmlsZQ%3D%3D?line=2'>3</a>\u001b[0m company \u001b[39m=\u001b[39m [\u001b[39m'\u001b[39m\u001b[39mWalMart\u001b[39m\u001b[39m'\u001b[39m, \u001b[39m'\u001b[39m\u001b[39mCiti\u001b[39m\u001b[39m'\u001b[39m, \u001b[39m'\u001b[39m\u001b[39mApple\u001b[39m\u001b[39m'\u001b[39m, \u001b[39m'\u001b[39m\u001b[39mTarget\u001b[39m\u001b[39m'\u001b[39m, \u001b[39m'\u001b[39m\u001b[39mTwitter\u001b[39m\u001b[39m'\u001b[39m, \u001b[39m'\u001b[39m\u001b[39mTesla\u001b[39m\u001b[39m'\u001b[39m]\n\u001b[0;32m      <a href='vscode-notebook-cell:/c%3A/Users/yagmu/OneDrive/Desktop/Classes/MS%20Finance/Advanced%20Financial%20Data%20Analysis%20%286070%29/Class%201/Topic%201%20-%20Assignment.ipynb#X16sZmlsZQ%3D%3D?line=4'>5</a>\u001b[0m \u001b[39m# Type your code below\u001b[39;00m\n\u001b[1;32m----> <a href='vscode-notebook-cell:/c%3A/Users/yagmu/OneDrive/Desktop/Classes/MS%20Finance/Advanced%20Financial%20Data%20Analysis%20%286070%29/Class%201/Topic%201%20-%20Assignment.ipynb#X16sZmlsZQ%3D%3D?line=5'>6</a>\u001b[0m company[__] \u001b[39m=\u001b[39m _____\n\u001b[0;32m      <a href='vscode-notebook-cell:/c%3A/Users/yagmu/OneDrive/Desktop/Classes/MS%20Finance/Advanced%20Financial%20Data%20Analysis%20%286070%29/Class%201/Topic%201%20-%20Assignment.ipynb#X16sZmlsZQ%3D%3D?line=7'>8</a>\u001b[0m \u001b[39mprint\u001b[39m (company)\n",
      "\u001b[1;31mNameError\u001b[0m: name '_____' is not defined"
     ]
    }
   ],
   "source": [
    "# Use the template below to fill in the missing values.\n",
    "\n",
    "company = ['WalMart', 'Citi', 'Apple', 'Target', 'Twitter', 'Tesla']\n",
    "\n",
    "# Type your code below\n",
    "company[__] = _____\n",
    "\n",
    "print (company)"
   ]
  },
  {
   "cell_type": "markdown",
   "metadata": {},
   "source": [
    "## Question 5\n",
    "\n",
    "You must write two lines of code:\n",
    "    1. Print the first four elements from the company list.\n",
    "    2. Print the 3rd element from the company list using a negative index.\n",
    "```python    \n",
    "company = ['WalMart', 'Citi', 'Apple', 'Target', 'Twitter', 'Tesla']\n",
    "```"
   ]
  },
  {
   "cell_type": "markdown",
   "metadata": {},
   "source": [
    "### Answer to Question 5"
   ]
  },
  {
   "cell_type": "code",
   "execution_count": null,
   "metadata": {},
   "outputs": [],
   "source": [
    "company = ['WalMart', 'Citi', 'Apple', 'Target', 'Twitter', 'Tesla']\n"
   ]
  },
  {
   "cell_type": "markdown",
   "metadata": {},
   "source": [
    "## Question 6\n",
    "\n",
    "Sort the company list in descending order and print out the list\n",
    "```python\n",
    "company = ['WalMart', 'Citi', 'Apple', 'Target', 'Twitter', 'Tesla']\n",
    "```"
   ]
  },
  {
   "cell_type": "markdown",
   "metadata": {},
   "source": [
    "### Answer to Question 6"
   ]
  },
  {
   "cell_type": "code",
   "execution_count": null,
   "metadata": {},
   "outputs": [],
   "source": [
    "company = ['WalMart', 'Citi', 'Apple', 'Target', 'Twitter', 'Tesla']\n"
   ]
  },
  {
   "cell_type": "markdown",
   "metadata": {},
   "source": [
    "## Question 7\n",
    "\n",
    "Insert a key-value pair (key='Tesla', value='Elon Musk'). \n",
    "Delete the key-value pair with 'Apple' as the key.\n",
    "Print the final result.\n",
    "```python\n",
    "company_people = {'Disney':'Walt Disney', 'Berkshire Hathaway':'Warren Buffett', 'Apple':'Bill Gates'}\n",
    "```"
   ]
  },
  {
   "cell_type": "markdown",
   "metadata": {},
   "source": [
    "### Answer to Question 7"
   ]
  },
  {
   "cell_type": "code",
   "execution_count": null,
   "metadata": {},
   "outputs": [],
   "source": [
    "company_people = {'Disney':'Walt Disney', 'Berkshire Hathaway':'Warren Buffett', 'Apple':'Bill Gates'}\n"
   ]
  },
  {
   "cell_type": "markdown",
   "metadata": {},
   "source": [
    "## Question 8\n",
    "\n",
    "Update the value in the dataframe column MSFT to [6, 8, 4, 7] and print the final result.\n",
    "```python\n",
    "dividend = {\n",
    "                'AAPL':pd.Series([9, 9, 11], index = ['D1', 'D2', 'D3']),\n",
    "                'MSFT':pd.Series([6, 7, 6, 7], index = ['D1', 'D2', 'D3', 'D4'])\n",
    "           }\n",
    "dividend_df = pd.DataFrame(dividend)  \n",
    "```"
   ]
  },
  {
   "cell_type": "markdown",
   "metadata": {},
   "source": [
    "### Answer to Question 8"
   ]
  },
  {
   "cell_type": "code",
   "execution_count": null,
   "metadata": {},
   "outputs": [],
   "source": [
    "import pandas as pd\n",
    "\n",
    "dividend = {\n",
    "                'AAPL':pd.Series([9, 9, 11], index = ['D1', 'D2', 'D3']),\n",
    "                'MSFT':pd.Series([6, 7, 6, 7], index = ['D1', 'D2', 'D3', 'D4'])\n",
    "           }\n",
    "dividend_df = pd.DataFrame(dividend) \n",
    "               \n",
    "            "
   ]
  },
  {
   "cell_type": "markdown",
   "metadata": {},
   "source": [
    "## Question 9\n",
    "\n",
    "How could you obtain the first 7 rows from a dataframe called df?"
   ]
  },
  {
   "cell_type": "markdown",
   "metadata": {},
   "source": [
    "### Answer to Question 9"
   ]
  },
  {
   "cell_type": "markdown",
   "metadata": {},
   "source": []
  },
  {
   "cell_type": "markdown",
   "metadata": {},
   "source": [
    "## Question 10\n",
    "\n",
    "How would you use yfinance to download Apple stock data between January 7, 1987 and September 1, 2015 from Yahoo Finance? Run the code and display the output."
   ]
  },
  {
   "cell_type": "markdown",
   "metadata": {},
   "source": [
    "### Answer to Question 10"
   ]
  },
  {
   "cell_type": "code",
   "execution_count": null,
   "metadata": {},
   "outputs": [],
   "source": []
  },
  {
   "cell_type": "markdown",
   "metadata": {},
   "source": [
    "## Question 11\n",
    "Fill NA values with a value of 7.85 and store it in the new dataframe updated_dividend. Print the result.\n",
    "```python\n",
    "dividend = {\n",
    "                'AAPL':pd.Series([9, 9, 11], index = ['D1', 'D2', 'D3']),\n",
    "                'MSFT':pd.Series([6, 7, 6, 7], index = ['D1', 'D2', 'D3', 'D4'])\n",
    "           }\n",
    "dividend_df = pd.DataFrame(dividend)\n",
    "```"
   ]
  },
  {
   "cell_type": "markdown",
   "metadata": {},
   "source": [
    "### Answer to Question 11"
   ]
  },
  {
   "cell_type": "code",
   "execution_count": null,
   "metadata": {},
   "outputs": [],
   "source": [
    "dividend = {\n",
    "                'AAPL':pd.Series([9, 9, 11], index = ['D1', 'D2', 'D3']),\n",
    "                'MSFT':pd.Series([6, 7, 6, 7], index = ['D1', 'D2', 'D3', 'D4'])\n",
    "           }\n",
    "dividend_df = pd.DataFrame(dividend)\n"
   ]
  },
  {
   "cell_type": "markdown",
   "metadata": {},
   "source": [
    "## Question 12\n",
    "\n",
    "Use yfinance to download Apple stock data between January 7, 1987 and September 1, 2015 from Yahoo Finance. Using this data, construct a line graph for the adjusted price. Be sure to include the following in your graph:\n",
    "\n",
    "1. Gridlines\n",
    "2. Xlabel as 'Date'\n",
    "3. Ylabel as 'Price of Apple Stock'\n",
    "4. Title as 'Change in Apple Stock Price'"
   ]
  },
  {
   "cell_type": "markdown",
   "metadata": {},
   "source": [
    "### Answer to Question 12"
   ]
  },
  {
   "cell_type": "code",
   "execution_count": null,
   "metadata": {},
   "outputs": [],
   "source": []
  },
  {
   "cell_type": "markdown",
   "metadata": {},
   "source": [
    "## Question 13\n",
    "\n",
    "If a candlestick is displyed as red, what does it mean with regards to the open and close price?"
   ]
  },
  {
   "cell_type": "markdown",
   "metadata": {},
   "source": [
    "### Answer to Question 13"
   ]
  },
  {
   "cell_type": "markdown",
   "metadata": {},
   "source": []
  },
  {
   "cell_type": "markdown",
   "metadata": {},
   "source": [
    "## Question 14\n",
    "If the average daily reutrn for your investments is 0.09% and you have a standard deviation of 0.03% with a risk-free rate of return equal to 0.02%, what is your sharpe ratio?"
   ]
  },
  {
   "cell_type": "markdown",
   "metadata": {},
   "source": [
    "### Answer to Question 14"
   ]
  },
  {
   "cell_type": "code",
   "execution_count": null,
   "metadata": {},
   "outputs": [],
   "source": []
  },
  {
   "cell_type": "markdown",
   "metadata": {},
   "source": [
    "## Question 15\n",
    "If you have to select one portfolio to invest in based on the Sharpe Ratio, which of the following would you select? Assume a risk free rate of 0%.\n",
    "1. 10% return with a standard deviation of 6%.\n",
    "2. 11% return with a standard deviation of 7%."
   ]
  },
  {
   "cell_type": "markdown",
   "metadata": {},
   "source": [
    "### Answer to Question 15"
   ]
  },
  {
   "cell_type": "code",
   "execution_count": null,
   "metadata": {},
   "outputs": [],
   "source": []
  }
 ],
 "metadata": {
  "kernelspec": {
   "display_name": "Python 3",
   "language": "python",
   "name": "python3"
  },
  "language_info": {
   "codemirror_mode": {
    "name": "ipython",
    "version": 3
   },
   "file_extension": ".py",
   "mimetype": "text/x-python",
   "name": "python",
   "nbconvert_exporter": "python",
   "pygments_lexer": "ipython3",
   "version": "3.11.5"
  }
 },
 "nbformat": 4,
 "nbformat_minor": 4
}
