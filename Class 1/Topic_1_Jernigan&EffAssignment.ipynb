{
  "cells": [
    {
      "cell_type": "markdown",
      "metadata": {
        "id": "o3X9t2iSPKO2"
      },
      "source": [
        "# Topic 1 Assignemnt\n",
        "Provide the answers in the cell(s) below each question. If a question requires you to answer in code, you can provide the code. If the quesiton requires you to answer in the form of a sentence, you can convert the cell to Markdown and type out the answer there.\n",
        "\n",
        "***Assignments should be uploaded in two formats to D2L. The first format is the .ipynb file that contains your code. The second format is an html file that you can obtain by File > Download As > HTML (.html).***"
      ]
    },
    {
      "cell_type": "markdown",
      "metadata": {
        "id": "8hXVh88CPKO4"
      },
      "source": [
        "-------------------------------------------------------------------------------------------------------------------------------\n",
        "-------------------------------------------------------------------------------------------------------------------------------\n",
        "-------------------------------------------------------------------------------------------------------------------------------"
      ]
    },
    {
      "cell_type": "markdown",
      "metadata": {
        "id": "otGI3kdaPKO5"
      },
      "source": [
        "## Question 1\n",
        "\n",
        "Is Python a case sensitive language and what does that mean?"
      ]
    },
    {
      "cell_type": "markdown",
      "metadata": {
        "id": "umArjb9DaPyF"
      },
      "source": [
        "### Answer to Question 1"
      ]
    },
    {
      "cell_type": "markdown",
      "metadata": {
        "id": "Pm6-LgEVPKO6"
      },
      "source": [
        "*Python is a case-sensitive programming language. This means that variables, functions, and objects in Python must be called exactly how they are named, including the case.*"
      ]
    },
    {
      "cell_type": "markdown",
      "metadata": {
        "id": "7EbTZAetPKO6"
      },
      "source": [
        "## Question 2\n",
        "\n",
        "What is the output to this bit of code?\n",
        "\n",
        "```python\n",
        "apple = 6 # The dividend Apple plans on paying  \n",
        "twitter = 5 # The dividend Twitter plans on paying\n",
        "  \n",
        "if apple < twitter:  \n",
        "    print(\"Twitter is paying a larger dividend that Apple\")  \n",
        "\n",
        "elif apple > twitter:  \n",
        "    print(\"Apple is paying a larger dividend than Twitter\")\n",
        "```"
      ]
    },
    {
      "cell_type": "markdown",
      "metadata": {
        "id": "YLAJDsy8PKO6"
      },
      "source": [
        "### Answer to Question 2"
      ]
    },
    {
      "cell_type": "markdown",
      "metadata": {
        "id": "eD1J5_MuPKO7"
      },
      "source": [
        "*The output will be \"Apple is paying a larger dividend than Twitter\". It will print this because it is an if statement telling it to print the second statement because the first statement is false, so it moves to the next statement which is true.*"
      ]
    },
    {
      "cell_type": "markdown",
      "metadata": {
        "id": "QAPDqad_PKO7"
      },
      "source": [
        "## Question 3\n",
        "\n",
        "What is the output to this bit of code?\n",
        "\n",
        "```python\n",
        "shares = 125000\n",
        "\n",
        "def func():\n",
        "\tshares = 250000\n",
        "\tprint ('Number of shares is', shares)\n",
        "\n",
        "func()\n",
        "```"
      ]
    },
    {
      "cell_type": "markdown",
      "metadata": {
        "id": "bQ9iQt3lPKO7"
      },
      "source": [
        "### Answer to Question 3"
      ]
    },
    {
      "cell_type": "markdown",
      "metadata": {
        "id": "scfNxYQLPKO7"
      },
      "source": [
        "The output is for it to print: *Number of shares is 250000*"
      ]
    },
    {
      "cell_type": "markdown",
      "metadata": {
        "id": "2iyuoSH-PKO8"
      },
      "source": [
        "## Question 4\n",
        "\n",
        "Modify the 2nd element of the list company to Amazon.\n",
        "\n",
        "```python\n",
        "company = ['WalMart', 'Citi', 'Apple', 'Target', 'Twitter', 'Tesla']\n",
        "\n",
        "# Type your code below\n",
        "company[__] = _____\n",
        "\n",
        "print (company)\n",
        "```"
      ]
    },
    {
      "cell_type": "markdown",
      "metadata": {
        "id": "DL3bMQmxPKO8"
      },
      "source": [
        "### Answer to Question 4"
      ]
    },
    {
      "cell_type": "code",
      "execution_count": 20,
      "metadata": {},
      "outputs": [
        {
          "name": "stdout",
          "output_type": "stream",
          "text": [
            "['WalMart', 'Amazon', 'Apple', 'Target', 'Twitter', 'Tesla']\n"
          ]
        }
      ],
      "source": [
        "# Use the template below to fill in the missing values.\n",
        "\n",
        "company = ['WalMart', 'Citi', 'Apple', 'Target', 'Twitter', 'Tesla']\n",
        "\n",
        "# Type your code below\n",
        "company[1] = 'Amazon'\n",
        "\n",
        "print (company)"
      ]
    },
    {
      "cell_type": "markdown",
      "metadata": {
        "id": "kXXE55h1PKO9"
      },
      "source": [
        "## Question 5\n",
        "\n",
        "You must write two lines of code:\n",
        "    1. Print the first four elements from the company list.\n",
        "    2. Print the 3rd element from the company list using a negative index.\n",
        "```python    \n",
        "company = ['WalMart', 'Citi', 'Apple', 'Target', 'Twitter', 'Tesla']\n",
        "```"
      ]
    },
    {
      "cell_type": "markdown",
      "metadata": {
        "id": "Ov8AGhr8PKO9"
      },
      "source": [
        "### Answer to Question 5"
      ]
    },
    {
      "cell_type": "code",
      "execution_count": 21,
      "metadata": {
        "colab": {
          "base_uri": "https://localhost:8080/"
        },
        "id": "ZbOhoZ_wPKO9",
        "outputId": "3c04343d-49bd-4ff2-b98a-063eea8896a1"
      },
      "outputs": [
        {
          "name": "stdout",
          "output_type": "stream",
          "text": [
            "['WalMart', 'Citi', 'Apple', 'Target']\n",
            "Apple\n"
          ]
        }
      ],
      "source": [
        "company = ['WalMart', 'Citi', 'Apple', 'Target', 'Twitter', 'Tesla']\n",
        "\n",
        "print(company[0:4])\n",
        "print(company[-4])"
      ]
    },
    {
      "cell_type": "markdown",
      "metadata": {
        "id": "jEaMVw46PKO9"
      },
      "source": [
        "## Question 6\n",
        "\n",
        "Sort the company list in descending order and print out the list\n",
        "```python\n",
        "company = ['WalMart', 'Citi', 'Apple', 'Target', 'Twitter', 'Tesla']\n",
        "```"
      ]
    },
    {
      "cell_type": "markdown",
      "metadata": {
        "id": "V64N1bpTPKO-"
      },
      "source": [
        "### Answer to Question 6"
      ]
    },
    {
      "cell_type": "code",
      "execution_count": 22,
      "metadata": {
        "colab": {
          "base_uri": "https://localhost:8080/"
        },
        "id": "-JRM6ujwPKO-",
        "outputId": "51416767-724f-443d-949f-655535f7c5bb"
      },
      "outputs": [
        {
          "name": "stdout",
          "output_type": "stream",
          "text": [
            "['WalMart', 'Twitter', 'Tesla', 'Target', 'Citi', 'Apple']\n"
          ]
        }
      ],
      "source": [
        "company = ['WalMart', 'Citi', 'Apple', 'Target', 'Twitter', 'Tesla']\n",
        "\n",
        "company = sorted(['WalMart', 'Citi', 'Apple', 'Target', 'Twitter', 'Tesla'], reverse=True)\n",
        "\n",
        "print(company)"
      ]
    },
    {
      "cell_type": "markdown",
      "metadata": {
        "id": "pNAp2CrjPKO-"
      },
      "source": [
        "## Question 7\n",
        "\n",
        "Insert a key-value pair (key='Tesla', value='Elon Musk').\n",
        "Delete the key-value pair with 'Apple' as the key.\n",
        "Print the final result.\n",
        "```python\n",
        "company_people = {'Disney':'Walt Disney', 'Berkshire Hathaway':'Warren Buffett', 'Apple':'Bill Gates'}\n",
        "```"
      ]
    },
    {
      "cell_type": "markdown",
      "metadata": {
        "id": "kFqT4OFbPKO-"
      },
      "source": [
        "### Answer to Question 7"
      ]
    },
    {
      "cell_type": "code",
      "execution_count": 23,
      "metadata": {
        "colab": {
          "base_uri": "https://localhost:8080/"
        },
        "id": "DE563sb6PKO-",
        "outputId": "f16e5639-184e-4df5-e1d4-b987cc8b8923"
      },
      "outputs": [
        {
          "name": "stdout",
          "output_type": "stream",
          "text": [
            "{'Disney': 'Walt Disney', 'Berkshire Hathaway': 'Warren Buffett', 'Tesla': 'Elon Musk'}\n"
          ]
        }
      ],
      "source": [
        "company_people = {'Disney':'Walt Disney', 'Berkshire Hathaway':'Warren Buffett', 'Apple':'Bill Gates'}\n",
        "\n",
        "del company_people['Apple']\n",
        "\n",
        "company_people['Tesla'] = 'Elon Musk'\n",
        "\n",
        "print(company_people)"
      ]
    },
    {
      "cell_type": "markdown",
      "metadata": {
        "id": "P-vqEs8rPKO-"
      },
      "source": [
        "## Question 8\n",
        "\n",
        "Update the value in the dataframe column MSFT to [6, 8, 4, 7] and print the final result.\n",
        "```python\n",
        "dividend = {\n",
        "                'AAPL':pd.Series([9, 9, 11], index = ['D1', 'D2', 'D3']),\n",
        "                'MSFT':pd.Series([6, 7, 6, 7], index = ['D1', 'D2', 'D3', 'D4'])\n",
        "           }\n",
        "dividend_df = pd.DataFrame(dividend)  \n",
        "```"
      ]
    },
    {
      "cell_type": "markdown",
      "metadata": {
        "id": "4KwNqJzHPKO-"
      },
      "source": [
        "### Answer to Question 8"
      ]
    },
    {
      "cell_type": "code",
      "execution_count": 24,
      "metadata": {
        "colab": {
          "base_uri": "https://localhost:8080/"
        },
        "id": "JI34KSRVPKO-",
        "outputId": "c3615d09-2d5c-4092-dea8-dc0a6258c705"
      },
      "outputs": [
        {
          "name": "stdout",
          "output_type": "stream",
          "text": [
            "    AAPL  MSFT\n",
            "D1   9.0     6\n",
            "D2   9.0     8\n",
            "D3  11.0     4\n",
            "D4   NaN     7\n"
          ]
        }
      ],
      "source": [
        "from os import replace\n",
        "import pandas as pd\n",
        "\n",
        "dividend = {\n",
        "                'AAPL':pd.Series([9, 9, 11], index = ['D1', 'D2', 'D3']),\n",
        "                'MSFT':pd.Series([6, 7, 6, 7], index = ['D1', 'D2', 'D3', 'D4'])\n",
        "           }\n",
        "dividend_df = pd.DataFrame(dividend)\n",
        "\n",
        "dividend_df.loc['D2', 'MSFT'] = 8\n",
        "dividend_df.loc['D3', 'MSFT'] = 4\n",
        "dividend_df.loc['D4', 'MSFT'] = 7\n",
        "\n",
        "print(dividend_df)"
      ]
    },
    {
      "cell_type": "markdown",
      "metadata": {
        "id": "AZWNH1s6PKO-"
      },
      "source": [
        "## Question 9\n",
        "\n",
        "How could you obtain the first 7 rows from a dataframe called df?"
      ]
    },
    {
      "cell_type": "markdown",
      "metadata": {
        "id": "2mkUy0bgPKO_"
      },
      "source": [
        "### Answer to Question 9"
      ]
    },
    {
      "cell_type": "markdown",
      "metadata": {
        "id": "LQ7GcRxbPKO_"
      },
      "source": [
        "*You can write df[0:7] and it should print the first 7 rows.*\n",
        "\n"
      ]
    },
    {
      "cell_type": "markdown",
      "metadata": {
        "id": "ur6m_habPKO_"
      },
      "source": [
        "## Question 10\n",
        "\n",
        "How would you use yfinance to download Apple stock data between January 7, 1987 and September 1, 2015 from Yahoo Finance? Run the code and display the output."
      ]
    },
    {
      "cell_type": "markdown",
      "metadata": {
        "id": "Jy40DKWuPKO_"
      },
      "source": [
        "### Answer to Question 10"
      ]
    },
    {
      "cell_type": "code",
      "execution_count": 25,
      "metadata": {
        "colab": {
          "base_uri": "https://localhost:8080/",
          "height": 255
        },
        "id": "ifTFikpAPKO_",
        "outputId": "9cfc9fc1-901d-4d84-fd59-129b4813015e"
      },
      "outputs": [
        {
          "name": "stdout",
          "output_type": "stream",
          "text": [
            "[*********************100%%**********************]  1 of 1 completed\n"
          ]
        },
        {
          "data": {
            "text/html": [
              "<div>\n",
              "<style scoped>\n",
              "    .dataframe tbody tr th:only-of-type {\n",
              "        vertical-align: middle;\n",
              "    }\n",
              "\n",
              "    .dataframe tbody tr th {\n",
              "        vertical-align: top;\n",
              "    }\n",
              "\n",
              "    .dataframe thead th {\n",
              "        text-align: right;\n",
              "    }\n",
              "</style>\n",
              "<table border=\"1\" class=\"dataframe\">\n",
              "  <thead>\n",
              "    <tr style=\"text-align: right;\">\n",
              "      <th></th>\n",
              "      <th>Open</th>\n",
              "      <th>High</th>\n",
              "      <th>Low</th>\n",
              "      <th>Close</th>\n",
              "      <th>Volume</th>\n",
              "    </tr>\n",
              "    <tr>\n",
              "      <th>Date</th>\n",
              "      <th></th>\n",
              "      <th></th>\n",
              "      <th></th>\n",
              "      <th></th>\n",
              "      <th></th>\n",
              "    </tr>\n",
              "  </thead>\n",
              "  <tbody>\n",
              "    <tr>\n",
              "      <th>1987-01-07</th>\n",
              "      <td>0.151569</td>\n",
              "      <td>0.155024</td>\n",
              "      <td>0.150705</td>\n",
              "      <td>0.154592</td>\n",
              "      <td>434560000</td>\n",
              "    </tr>\n",
              "    <tr>\n",
              "      <th>1987-01-08</th>\n",
              "      <td>0.154592</td>\n",
              "      <td>0.155887</td>\n",
              "      <td>0.153728</td>\n",
              "      <td>0.154592</td>\n",
              "      <td>291200000</td>\n",
              "    </tr>\n",
              "    <tr>\n",
              "      <th>1987-01-09</th>\n",
              "      <td>0.154592</td>\n",
              "      <td>0.158046</td>\n",
              "      <td>0.153297</td>\n",
              "      <td>0.156751</td>\n",
              "      <td>239680000</td>\n",
              "    </tr>\n",
              "    <tr>\n",
              "      <th>1987-01-12</th>\n",
              "      <td>0.157183</td>\n",
              "      <td>0.158046</td>\n",
              "      <td>0.154592</td>\n",
              "      <td>0.157183</td>\n",
              "      <td>232960000</td>\n",
              "    </tr>\n",
              "    <tr>\n",
              "      <th>1987-01-13</th>\n",
              "      <td>0.155888</td>\n",
              "      <td>0.156751</td>\n",
              "      <td>0.154160</td>\n",
              "      <td>0.154160</td>\n",
              "      <td>211724800</td>\n",
              "    </tr>\n",
              "  </tbody>\n",
              "</table>\n",
              "</div>"
            ],
            "text/plain": [
              "                Open      High       Low     Close     Volume\n",
              "Date                                                         \n",
              "1987-01-07  0.151569  0.155024  0.150705  0.154592  434560000\n",
              "1987-01-08  0.154592  0.155887  0.153728  0.154592  291200000\n",
              "1987-01-09  0.154592  0.158046  0.153297  0.156751  239680000\n",
              "1987-01-12  0.157183  0.158046  0.154592  0.157183  232960000\n",
              "1987-01-13  0.155888  0.156751  0.154160  0.154160  211724800"
            ]
          },
          "execution_count": 25,
          "metadata": {},
          "output_type": "execute_result"
        }
      ],
      "source": [
        "import pandas as pd\n",
        "import yfinance as yf\n",
        "stock = yf.download(tickers = ['AAPL'], start = '1987-01-07', end = '2015-09-01', auto_adjust = True, group_by = 'tickers')\n",
        "\n",
        "stock.head()"
      ]
    },
    {
      "cell_type": "markdown",
      "metadata": {
        "id": "_GmiP8KyPKO_"
      },
      "source": [
        "## Question 11\n",
        "Fill NA values with a value of 7.85 and store it in the new dataframe updated_dividend. Print the result.\n",
        "```python\n",
        "dividend = {\n",
        "                'AAPL':pd.Series([9, 9, 11], index = ['D1', 'D2', 'D3']),\n",
        "                'MSFT':pd.Series([6, 7, 6, 7], index = ['D1', 'D2', 'D3', 'D4'])\n",
        "           }\n",
        "dividend_df = pd.DataFrame(dividend)\n",
        "```"
      ]
    },
    {
      "cell_type": "markdown",
      "metadata": {
        "id": "_1e040cXPKO_"
      },
      "source": [
        "### Answer to Question 11"
      ]
    },
    {
      "cell_type": "code",
      "execution_count": 26,
      "metadata": {
        "colab": {
          "base_uri": "https://localhost:8080/"
        },
        "id": "GDZU9pJbPKO_",
        "outputId": "91d127a0-42c1-4305-cd1b-313a9200afa0"
      },
      "outputs": [
        {
          "name": "stdout",
          "output_type": "stream",
          "text": [
            "    AAPL  MSFT\n",
            "D1   9.0     6\n",
            "D2   9.0     7\n",
            "D3  11.0     6\n",
            "D4  7.85     7\n"
          ]
        }
      ],
      "source": [
        "dividend = {\n",
        "                'AAPL':pd.Series([9, 9, 11], index = ['D1', 'D2', 'D3']),\n",
        "                'MSFT':pd.Series([6, 7, 6, 7], index = ['D1', 'D2', 'D3', 'D4'])\n",
        "           }\n",
        "dividend_df = pd.DataFrame(dividend)\n",
        "\n",
        "updated_dividend = dividend_df.fillna('7.85')\n",
        "\n",
        "\n",
        "print(updated_dividend)"
      ]
    },
    {
      "cell_type": "markdown",
      "metadata": {
        "id": "aSRsLYBTPKO_"
      },
      "source": [
        "## Question 12\n",
        "\n",
        "Use yfinance to download Apple stock data between January 7, 1987 and September 1, 2015 from Yahoo Finance. Using this data, construct a line graph for the adjusted price. Be sure to include the following in your graph:\n",
        "\n",
        "1. Gridlines\n",
        "2. Xlabel as 'Date'\n",
        "3. Ylabel as 'Price of Apple Stock'\n",
        "4. Title as 'Change in Apple Stock Price'"
      ]
    },
    {
      "cell_type": "markdown",
      "metadata": {
        "id": "B1330N-bPKPA"
      },
      "source": [
        "### Answer to Question 12"
      ]
    },
    {
      "cell_type": "code",
      "execution_count": 27,
      "metadata": {
        "colab": {
          "base_uri": "https://localhost:8080/"
        },
        "id": "qaDZ5cA0PKPA",
        "outputId": "26b73b9b-6d56-4d65-99a5-5e965b4e764e"
      },
      "outputs": [
        {
          "name": "stdout",
          "output_type": "stream",
          "text": [
            "                 Open       High        Low      Close     Volume\n",
            "Date                                                             \n",
            "1987-01-07   0.151569   0.155024   0.150705   0.154592  434560000\n",
            "1987-01-08   0.154592   0.155887   0.153728   0.154592  291200000\n",
            "1987-01-09   0.154592   0.158046   0.153297   0.156751  239680000\n",
            "1987-01-12   0.157183   0.158046   0.154592   0.157183  232960000\n",
            "1987-01-13   0.155888   0.156751   0.154160   0.154160  211724800\n",
            "...               ...        ...        ...        ...        ...\n",
            "2015-08-25  25.180657  25.180657  23.456016  23.510406  414406400\n",
            "2015-08-26  24.269608  24.904168  23.807288  24.858843  387098400\n",
            "2015-08-27  25.434480  25.663374  24.933631  25.590853  338464400\n",
            "2015-08-28  25.420878  25.679233  25.278102  25.674702  212657600\n",
            "2015-08-31  25.389155  25.955725  25.382356  25.554594  224917200\n",
            "\n",
            "[7223 rows x 5 columns]\n"
          ]
        }
      ],
      "source": [
        "print(stock)"
      ]
    },
    {
      "cell_type": "code",
      "execution_count": 28,
      "metadata": {
        "colab": {
          "base_uri": "https://localhost:8080/",
          "height": 249
        },
        "id": "C_TwpXdeURuO",
        "outputId": "73dd2f4c-b1c2-4d3d-8fde-fc013cb870dc"
      },
      "outputs": [
        {
          "data": {
            "image/png": "[encoded data removed]",
            "text/plain": [
              "<Figure size 2500x1000 with 1 Axes>"
            ]
          },
          "metadata": {},
          "output_type": "display_data"
        }
      ],
      "source": [
        "import matplotlib.pyplot as plt\n",
        "\n",
        "stock['Close'].plot(figsize=(25, 10), color='green')\n",
        "plt.title(\"Change in Apple Stock Price\", fontsize=14)\n",
        "plt.xlabel('Date', fontsize=12)\n",
        "plt.ylabel('Price of Apple Stock', fontsize=12)\n",
        "plt.grid()\n",
        "plt.show()"
      ]
    },
    {
      "cell_type": "markdown",
      "metadata": {
        "id": "NZZ5qs5bPKPA"
      },
      "source": [
        "## Question 13\n",
        "\n",
        "If a candlestick is displyed as red, what does it mean with regards to the open and close price?"
      ]
    },
    {
      "cell_type": "markdown",
      "metadata": {
        "id": "i4dVK7L_PKPO"
      },
      "source": [
        "### Answer to Question 13"
      ]
    },
    {
      "cell_type": "markdown",
      "metadata": {
        "id": "2LnHxkvnPKPO"
      },
      "source": [
        "*A red candlestick is a price chart indicating that the closing price of a security is below both the price at which it opened and that at which it previously closed. A candlestick may also be colored red if the close is below the prior close but above the open.*"
      ]
    },
    {
      "cell_type": "markdown",
      "metadata": {
        "id": "F8wmDbY2PKPO"
      },
      "source": [
        "## Question 14\n",
        "If the average daily reutrn for your investments is 0.09% and you have a standard deviation of 0.03% with a risk-free rate of return equal to 0.02%, what is your sharpe ratio?"
      ]
    },
    {
      "cell_type": "markdown",
      "metadata": {
        "id": "Rwk3YHJ4PKPP"
      },
      "source": [
        "### Answer to Question 14"
      ]
    },
    {
      "cell_type": "code",
      "execution_count": 29,
      "metadata": {
        "colab": {
          "base_uri": "https://localhost:8080/"
        },
        "id": "vr_pdNy-PKPP",
        "outputId": "33060d9c-c520-447c-aac1-01494f688219"
      },
      "outputs": [
        {
          "name": "stdout",
          "output_type": "stream",
          "text": [
            "2.3333333333333335\n"
          ]
        }
      ],
      "source": [
        "#ret = daily returns, sd = standard deviation, rf = risk-free rate, and sharpe = sharpe ratio\n",
        "\n",
        "ret = .0009\n",
        "sd = .0003\n",
        "rf = .0002\n",
        "\n",
        "sharpe = (ret-rf)/sd\n",
        "\n",
        "print(sharpe)"
      ]
    },
    {
      "cell_type": "markdown",
      "metadata": {
        "id": "BgtKbkZzPKPP"
      },
      "source": [
        "## Question 15\n",
        "If you have to select one portfolio to invest in based on the Sharpe Ratio, which of the following would you select? Assume a risk free rate of 0%.\n",
        "1. 10% return with a standard deviation of 6%.\n",
        "2. 11% return with a standard deviation of 7%."
      ]
    },
    {
      "cell_type": "markdown",
      "metadata": {
        "id": "hIwN001iPKPP"
      },
      "source": [
        "### Answer to Question 15"
      ]
    },
    {
      "cell_type": "code",
      "execution_count": 30,
      "metadata": {
        "colab": {
          "base_uri": "https://localhost:8080/"
        },
        "id": "lzQ7iY3vPKPQ",
        "outputId": "9368cbf6-d883-420e-c422-9bac07a140a4"
      },
      "outputs": [
        {
          "name": "stdout",
          "output_type": "stream",
          "text": [
            "1.6666666666666667 1.5714285714285714\n"
          ]
        }
      ],
      "source": [
        "#Port1 has return of 10%, standard deviation of 6%, and 0% risk-free rate\n",
        "#Port2 has return of 11%, standard deviation of 7%, and 0% risk-free rate\n",
        "\n",
        "p1_ret=.10\n",
        "p1_sd=.06\n",
        "\n",
        "p2_ret=.11\n",
        "p2_sd=.07\n",
        "\n",
        "rf = 0\n",
        "\n",
        "p1 = (p1_ret - rf)/p1_sd\n",
        "p2 = (p2_ret - rf)/p2_sd\n",
        "\n",
        "print(p1,p2)"
      ]
    },
    {
      "cell_type": "markdown",
      "metadata": {
        "id": "AVxsIe_2twXK"
      },
      "source": [
        "*Since portfolio 1 has a higher sharpe ratio, it is the better investment (the higher the better).*"
      ]
    }
  ],
  "metadata": {
    "colab": {
      "provenance": []
    },
    "kernelspec": {
      "display_name": "Python 3",
      "language": "python",
      "name": "python3"
    },
    "language_info": {
      "codemirror_mode": {
        "name": "ipython",
        "version": 3
      },
      "file_extension": ".py",
      "mimetype": "text/x-python",
      "name": "python",
      "nbconvert_exporter": "python",
      "pygments_lexer": "ipython3",
      "version": "3.11.5"
    }
  },
  "nbformat": 4,
  "nbformat_minor": 0
}
