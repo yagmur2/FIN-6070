{
 "cells": [
  {
   "cell_type": "markdown",
   "metadata": {},
   "source": [
    "# Topic 3 Assignemnt\n",
    "For this assignment, there is only one question. You are responsible for completing all of the steps that you believe are required to fully answer that question based on the notes for Topic 3. You must provide insights throughout the analysis as well as a conclusion.\n",
    "\n",
    "***Assignments should be uploaded in two formats to D2L. The first format is the .ipynb file that contains your code. The second format is an html file that you can obtain by File > Download As > HTML (.html).***"
   ]
  },
  {
   "cell_type": "markdown",
   "metadata": {},
   "source": [
    "-------------------------------------------------------------------------------------------------------------------------------\n",
    "-------------------------------------------------------------------------------------------------------------------------------\n",
    "-------------------------------------------------------------------------------------------------------------------------------"
   ]
  },
  {
   "cell_type": "markdown",
   "metadata": {},
   "source": [
    "## Question 1\n",
    "\n",
    "**Data Description:**\n",
    "You will be responsible for downloading the data you need from Yahoo Finance.\n",
    "\n",
    "**Context:**\n",
    "We are tasked with creating a new momentum portfolio at our investment firm. A momentum portfolio simply invests in a set of stocks that have performed the best over a period of time. Our job is to select 15 stocks to include in an equal weighted portfolio from the universe of DJIA stocks.\n",
    "\n",
    "**Objective:**\n",
    "Select the best 15 stocks to be included in our momentum portfolio based on the prior 1 year performance, calculate the number of shares to buy for each stock, and create a formatted excel output with the results."
   ]
  },
  {
   "cell_type": "markdown",
   "metadata": {},
   "source": [
    "### Answer to Question 1"
   ]
  },
  {
   "cell_type": "markdown",
   "metadata": {},
   "source": [
    "#### Hint 1: Import Libraries"
   ]
  },
  {
   "cell_type": "code",
   "execution_count": null,
   "metadata": {},
   "outputs": [],
   "source": []
  },
  {
   "cell_type": "markdown",
   "metadata": {},
   "source": [
    "#### Hint 2: Obtain Data - you can calculate the performance over the prior year from prices or you can obtain the prior 1-year performance from the Yahoo Finance variables `52WeekChange` similar to how we obtained PE Ratios in the notes."
   ]
  },
  {
   "cell_type": "code",
   "execution_count": null,
   "metadata": {},
   "outputs": [],
   "source": []
  },
  {
   "cell_type": "markdown",
   "metadata": {},
   "source": [
    "#### Hint 3: Calculate Momentum Rankings and Reducing Sample to 15"
   ]
  },
  {
   "cell_type": "code",
   "execution_count": null,
   "metadata": {},
   "outputs": [],
   "source": []
  },
  {
   "cell_type": "markdown",
   "metadata": {},
   "source": [
    "#### Hint 4: Determine Number of Shares to Buy"
   ]
  },
  {
   "cell_type": "code",
   "execution_count": null,
   "metadata": {},
   "outputs": [],
   "source": []
  },
  {
   "cell_type": "markdown",
   "metadata": {},
   "source": [
    "#### Hing 5: Create a Formatted Excel Output"
   ]
  },
  {
   "cell_type": "code",
   "execution_count": 62,
   "metadata": {},
   "outputs": [],
   "source": []
  }
 ],
 "metadata": {
  "kernelspec": {
   "display_name": "Python 3",
   "language": "python",
   "name": "python3"
  },
  "language_info": {
   "codemirror_mode": {
    "name": "ipython",
    "version": 3
   },
   "file_extension": ".py",
   "mimetype": "text/x-python",
   "name": "python",
   "nbconvert_exporter": "python",
   "pygments_lexer": "ipython3",
   "version": "3.8.8"
  }
 },
 "nbformat": 4,
 "nbformat_minor": 2
}
