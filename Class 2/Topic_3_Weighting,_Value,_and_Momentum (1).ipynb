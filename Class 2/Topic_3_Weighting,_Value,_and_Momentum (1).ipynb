{
 "cells": [
  {
   "cell_type": "markdown",
   "metadata": {
    "id": "aHlCfQenYrjv"
   },
   "source": [
    "### Topic 3 - Weighting, Value, and Momentum"
   ]
  },
  {
   "cell_type": "markdown",
   "metadata": {
    "id": "AwNs1qAyYrjw"
   },
   "source": [
    "### a. Obtaining our data\n",
    "\n",
    "We will be recreating a version of the DJIA index. However, our index is going to be equally weighted. Our goal is to create a program that will take the value of your portfolio and tell you how much of each company in the DJIA you would need to purchase to create your equally weighted fund."
   ]
  },
  {
   "cell_type": "code",
   "execution_count": 2,
   "metadata": {
    "id": "idZ-eTTgYvge"
   },
   "outputs": [],
   "source": [
    "#pip install XlsxWriter\n"
   ]
  },
  {
   "cell_type": "code",
   "execution_count": 3,
   "metadata": {
    "id": "BBEYBexTYrjw"
   },
   "outputs": [],
   "source": [
    "# For data manipulation\n",
    "import numpy as np\n",
    "import pandas as pd\n",
    "\n",
    "# For obtaining and exporting data\n",
    "import yfinance as yf\n",
    "import requests\n",
    "import xlsxwriter\n",
    "import ssl\n",
    "\n",
    "# Additional\n",
    "import math"
   ]
  },
  {
   "cell_type": "code",
   "execution_count": 4,
   "metadata": {
    "colab": {
     "base_uri": "https://localhost:8080/",
     "height": 206
    },
    "id": "MrKjfiQPYrjx",
    "outputId": "12ca4535-a2db-4d5a-e736-bdb495d359c5"
   },
   "outputs": [
    {
     "data": {
      "text/html": [
       "<div>\n",
       "<style scoped>\n",
       "    .dataframe tbody tr th:only-of-type {\n",
       "        vertical-align: middle;\n",
       "    }\n",
       "\n",
       "    .dataframe tbody tr th {\n",
       "        vertical-align: top;\n",
       "    }\n",
       "\n",
       "    .dataframe thead th {\n",
       "        text-align: right;\n",
       "    }\n",
       "</style>\n",
       "<table border=\"1\" class=\"dataframe\">\n",
       "  <thead>\n",
       "    <tr style=\"text-align: right;\">\n",
       "      <th></th>\n",
       "      <th>Company</th>\n",
       "      <th>Exchange</th>\n",
       "      <th>Symbol</th>\n",
       "      <th>Industry</th>\n",
       "      <th>Date added</th>\n",
       "      <th>Notes</th>\n",
       "      <th>Index weighting</th>\n",
       "    </tr>\n",
       "  </thead>\n",
       "  <tbody>\n",
       "    <tr>\n",
       "      <th>0</th>\n",
       "      <td>3M</td>\n",
       "      <td>NYSE</td>\n",
       "      <td>MMM</td>\n",
       "      <td>Conglomerate</td>\n",
       "      <td>1976-08-09</td>\n",
       "      <td>As Minnesota Mining and Manufacturing</td>\n",
       "      <td>2.41%</td>\n",
       "    </tr>\n",
       "    <tr>\n",
       "      <th>1</th>\n",
       "      <td>American Express</td>\n",
       "      <td>NYSE</td>\n",
       "      <td>AXP</td>\n",
       "      <td>Financial services</td>\n",
       "      <td>1982-08-30</td>\n",
       "      <td>NaN</td>\n",
       "      <td>3.02%</td>\n",
       "    </tr>\n",
       "    <tr>\n",
       "      <th>2</th>\n",
       "      <td>Amgen</td>\n",
       "      <td>NASDAQ</td>\n",
       "      <td>AMGN</td>\n",
       "      <td>Biopharmaceutical</td>\n",
       "      <td>2020-08-31</td>\n",
       "      <td>NaN</td>\n",
       "      <td>5.48%</td>\n",
       "    </tr>\n",
       "    <tr>\n",
       "      <th>3</th>\n",
       "      <td>Apple</td>\n",
       "      <td>NASDAQ</td>\n",
       "      <td>AAPL</td>\n",
       "      <td>Information technology</td>\n",
       "      <td>2015-03-19</td>\n",
       "      <td>NaN</td>\n",
       "      <td>2.84%</td>\n",
       "    </tr>\n",
       "    <tr>\n",
       "      <th>4</th>\n",
       "      <td>Boeing</td>\n",
       "      <td>NYSE</td>\n",
       "      <td>BA</td>\n",
       "      <td>Aerospace and defense</td>\n",
       "      <td>1987-03-12</td>\n",
       "      <td>NaN</td>\n",
       "      <td>3.36%</td>\n",
       "    </tr>\n",
       "  </tbody>\n",
       "</table>\n",
       "</div>"
      ],
      "text/plain": [
       "            Company Exchange Symbol                Industry  Date added  \\\n",
       "0                3M     NYSE    MMM            Conglomerate  1976-08-09   \n",
       "1  American Express     NYSE    AXP      Financial services  1982-08-30   \n",
       "2             Amgen   NASDAQ   AMGN       Biopharmaceutical  2020-08-31   \n",
       "3             Apple   NASDAQ   AAPL  Information technology  2015-03-19   \n",
       "4            Boeing     NYSE     BA   Aerospace and defense  1987-03-12   \n",
       "\n",
       "                                   Notes Index weighting  \n",
       "0  As Minnesota Mining and Manufacturing           2.41%  \n",
       "1                                    NaN           3.02%  \n",
       "2                                    NaN           5.48%  \n",
       "3                                    NaN           2.84%  \n",
       "4                                    NaN           3.36%  "
      ]
     },
     "metadata": {},
     "output_type": "display_data"
    }
   ],
   "source": [
    "# DJIA stock list\n",
    "\n",
    "djia_url = 'https://en.wikipedia.org/wiki/Dow_Jones_Industrial_Average'\n",
    "\n",
    "# ignore certificate errors\n",
    "ssl._create_default_https_context = ssl._create_unverified_context\n",
    "\n",
    "# Read and print the stock tickers that make up the DJIA\n",
    "stocks = pd.read_html(djia_url)[1]\n",
    "display(stocks.head())"
   ]
  },
  {
   "cell_type": "code",
   "execution_count": 5,
   "metadata": {
    "colab": {
     "base_uri": "https://localhost:8080/",
     "height": 363
    },
    "id": "64tMBvMBYrjx",
    "outputId": "298c39f9-0512-4130-b789-afa855bc6cc3"
   },
   "outputs": [
    {
     "data": {
      "text/html": [
       "<div>\n",
       "<style scoped>\n",
       "    .dataframe tbody tr th:only-of-type {\n",
       "        vertical-align: middle;\n",
       "    }\n",
       "\n",
       "    .dataframe tbody tr th {\n",
       "        vertical-align: top;\n",
       "    }\n",
       "\n",
       "    .dataframe thead th {\n",
       "        text-align: right;\n",
       "    }\n",
       "</style>\n",
       "<table border=\"1\" class=\"dataframe\">\n",
       "  <thead>\n",
       "    <tr style=\"text-align: right;\">\n",
       "      <th></th>\n",
       "      <th>Symbol</th>\n",
       "    </tr>\n",
       "  </thead>\n",
       "  <tbody>\n",
       "    <tr>\n",
       "      <th>5</th>\n",
       "      <td>CAT</td>\n",
       "    </tr>\n",
       "    <tr>\n",
       "      <th>27</th>\n",
       "      <td>V</td>\n",
       "    </tr>\n",
       "    <tr>\n",
       "      <th>1</th>\n",
       "      <td>AXP</td>\n",
       "    </tr>\n",
       "    <tr>\n",
       "      <th>11</th>\n",
       "      <td>GS</td>\n",
       "    </tr>\n",
       "    <tr>\n",
       "      <th>20</th>\n",
       "      <td>MSFT</td>\n",
       "    </tr>\n",
       "    <tr>\n",
       "      <th>10</th>\n",
       "      <td>DOW</td>\n",
       "    </tr>\n",
       "    <tr>\n",
       "      <th>29</th>\n",
       "      <td>WMT</td>\n",
       "    </tr>\n",
       "    <tr>\n",
       "      <th>3</th>\n",
       "      <td>AAPL</td>\n",
       "    </tr>\n",
       "    <tr>\n",
       "      <th>15</th>\n",
       "      <td>INTC</td>\n",
       "    </tr>\n",
       "    <tr>\n",
       "      <th>17</th>\n",
       "      <td>JPM</td>\n",
       "    </tr>\n",
       "  </tbody>\n",
       "</table>\n",
       "</div>"
      ],
      "text/plain": [
       "   Symbol\n",
       "5     CAT\n",
       "27      V\n",
       "1     AXP\n",
       "11     GS\n",
       "20   MSFT\n",
       "10    DOW\n",
       "29    WMT\n",
       "3    AAPL\n",
       "15   INTC\n",
       "17    JPM"
      ]
     },
     "execution_count": 5,
     "metadata": {},
     "output_type": "execute_result"
    }
   ],
   "source": [
    "# Ticker list only\n",
    "\n",
    "stocks = stocks[['Symbol']]\n",
    "stocks.sample(10)"
   ]
  },
  {
   "cell_type": "code",
   "execution_count": 6,
   "metadata": {
    "colab": {
     "base_uri": "https://localhost:8080/",
     "height": 206
    },
    "id": "INghwlSwYrjx",
    "outputId": "5e20470c-31de-4929-c5d1-fdda4e8eca6d"
   },
   "outputs": [
    {
     "data": {
      "text/html": [
       "<div>\n",
       "<style scoped>\n",
       "    .dataframe tbody tr th:only-of-type {\n",
       "        vertical-align: middle;\n",
       "    }\n",
       "\n",
       "    .dataframe tbody tr th {\n",
       "        vertical-align: top;\n",
       "    }\n",
       "\n",
       "    .dataframe thead th {\n",
       "        text-align: right;\n",
       "    }\n",
       "</style>\n",
       "<table border=\"1\" class=\"dataframe\">\n",
       "  <thead>\n",
       "    <tr style=\"text-align: right;\">\n",
       "      <th></th>\n",
       "      <th>BasicShares</th>\n",
       "      <th>Year</th>\n",
       "    </tr>\n",
       "  </thead>\n",
       "  <tbody>\n",
       "    <tr>\n",
       "      <th>2024-01-17 00:00:00-05:00</th>\n",
       "      <td>2692229888</td>\n",
       "      <td>2024</td>\n",
       "    </tr>\n",
       "    <tr>\n",
       "      <th>2024-01-19 00:00:00-05:00</th>\n",
       "      <td>2692229888</td>\n",
       "      <td>2024</td>\n",
       "    </tr>\n",
       "    <tr>\n",
       "      <th>2024-01-20 00:00:00-05:00</th>\n",
       "      <td>2692229888</td>\n",
       "      <td>2024</td>\n",
       "    </tr>\n",
       "    <tr>\n",
       "      <th>2024-01-25 00:00:00-05:00</th>\n",
       "      <td>2692229888</td>\n",
       "      <td>2024</td>\n",
       "    </tr>\n",
       "    <tr>\n",
       "      <th>2024-01-30 00:00:00-05:00</th>\n",
       "      <td>2692229888</td>\n",
       "      <td>2024</td>\n",
       "    </tr>\n",
       "  </tbody>\n",
       "</table>\n",
       "</div>"
      ],
      "text/plain": [
       "                           BasicShares  Year\n",
       "2024-01-17 00:00:00-05:00   2692229888  2024\n",
       "2024-01-19 00:00:00-05:00   2692229888  2024\n",
       "2024-01-20 00:00:00-05:00   2692229888  2024\n",
       "2024-01-25 00:00:00-05:00   2692229888  2024\n",
       "2024-01-30 00:00:00-05:00   2692229888  2024"
      ]
     },
     "execution_count": 6,
     "metadata": {},
     "output_type": "execute_result"
    }
   ],
   "source": [
    "stock_data = yf.Ticker('WMT')\n",
    "shares_out = pd.DataFrame(stock_data.get_shares_full(start=\"2019-01-01\", end=None))\n",
    "shares_out['Year'] = shares_out.index.year\n",
    "shares_out.rename(columns={0:'BasicShares'}, inplace = True)\n",
    "shares_out.tail()"
   ]
  },
  {
   "cell_type": "code",
   "execution_count": 7,
   "metadata": {
    "colab": {
     "base_uri": "https://localhost:8080/",
     "height": 359
    },
    "id": "dLJHx5lKYrjy",
    "outputId": "48db8192-b072-4c19-baa6-066db74992a4"
   },
   "outputs": [
    {
     "name": "stdout",
     "output_type": "stream",
     "text": [
      "[*********************100%%**********************]  1 of 1 completed\n"
     ]
    },
    {
     "name": "stderr",
     "output_type": "stream",
     "text": [
      "C:\\Users\\yagmu\\AppData\\Local\\Temp\\ipykernel_14528\\3189484850.py:2: SettingWithCopyWarning: \n",
      "A value is trying to be set on a copy of a slice from a DataFrame.\n",
      "Try using .loc[row_indexer,col_indexer] = value instead\n",
      "\n",
      "See the caveats in the documentation: https://pandas.pydata.org/pandas-docs/stable/user_guide/indexing.html#returning-a-view-versus-a-copy\n",
      "  price['Year'] = price.index.year\n"
     ]
    },
    {
     "data": {
      "text/html": [
       "<div>\n",
       "<style scoped>\n",
       "    .dataframe tbody tr th:only-of-type {\n",
       "        vertical-align: middle;\n",
       "    }\n",
       "\n",
       "    .dataframe tbody tr th {\n",
       "        vertical-align: top;\n",
       "    }\n",
       "\n",
       "    .dataframe thead th {\n",
       "        text-align: right;\n",
       "    }\n",
       "</style>\n",
       "<table border=\"1\" class=\"dataframe\">\n",
       "  <thead>\n",
       "    <tr style=\"text-align: right;\">\n",
       "      <th></th>\n",
       "      <th>Close</th>\n",
       "      <th>Year</th>\n",
       "    </tr>\n",
       "    <tr>\n",
       "      <th>Date</th>\n",
       "      <th></th>\n",
       "      <th></th>\n",
       "    </tr>\n",
       "  </thead>\n",
       "  <tbody>\n",
       "    <tr>\n",
       "      <th>2024-01-24</th>\n",
       "      <td>160.500000</td>\n",
       "      <td>2024</td>\n",
       "    </tr>\n",
       "    <tr>\n",
       "      <th>2024-01-25</th>\n",
       "      <td>162.839996</td>\n",
       "      <td>2024</td>\n",
       "    </tr>\n",
       "    <tr>\n",
       "      <th>2024-01-26</th>\n",
       "      <td>164.270004</td>\n",
       "      <td>2024</td>\n",
       "    </tr>\n",
       "    <tr>\n",
       "      <th>2024-01-29</th>\n",
       "      <td>165.039993</td>\n",
       "      <td>2024</td>\n",
       "    </tr>\n",
       "    <tr>\n",
       "      <th>2024-01-30</th>\n",
       "      <td>165.589996</td>\n",
       "      <td>2024</td>\n",
       "    </tr>\n",
       "  </tbody>\n",
       "</table>\n",
       "</div>"
      ],
      "text/plain": [
       "                 Close  Year\n",
       "Date                        \n",
       "2024-01-24  160.500000  2024\n",
       "2024-01-25  162.839996  2024\n",
       "2024-01-26  164.270004  2024\n",
       "2024-01-29  165.039993  2024\n",
       "2024-01-30  165.589996  2024"
      ]
     },
     "execution_count": 7,
     "metadata": {},
     "output_type": "execute_result"
    }
   ],
   "source": [
    "price = yf.download('WMT', start = '2019-01-01', auto_adjust = True)[['Close']]\n",
    "price['Year'] = price.index.year\n",
    "price.tail()"
   ]
  },
  {
   "cell_type": "code",
   "execution_count": 8,
   "metadata": {
    "colab": {
     "base_uri": "https://localhost:8080/"
    },
    "id": "908sxUQxYrjy",
    "outputId": "dfe3022b-3e0c-44a7-a531-4f8395993448"
   },
   "outputs": [
    {
     "data": {
      "text/plain": [
       "BasicShares    2.692230e+09\n",
       "Year           2.024000e+03\n",
       "Close          1.655900e+02\n",
       "marketCap      4.458063e+11\n",
       "Name: 57545, dtype: float64"
      ]
     },
     "execution_count": 8,
     "metadata": {},
     "output_type": "execute_result"
    }
   ],
   "source": [
    "shares_price = pd.merge(shares_out, price, on = 'Year', how = 'inner')\n",
    "shares_price['marketCap'] = shares_price.eval('Close * BasicShares')\n",
    "shares_price = shares_price.iloc[-1]\n",
    "shares_price"
   ]
  },
  {
   "cell_type": "code",
   "execution_count": 9,
   "metadata": {
    "colab": {
     "base_uri": "https://localhost:8080/",
     "height": 89
    },
    "id": "KoY3RrfoYrjy",
    "outputId": "ac16a25d-58a9-499a-a9fa-7f183da55004"
   },
   "outputs": [
    {
     "data": {
      "text/html": [
       "<div>\n",
       "<style scoped>\n",
       "    .dataframe tbody tr th:only-of-type {\n",
       "        vertical-align: middle;\n",
       "    }\n",
       "\n",
       "    .dataframe tbody tr th {\n",
       "        vertical-align: top;\n",
       "    }\n",
       "\n",
       "    .dataframe thead th {\n",
       "        text-align: right;\n",
       "    }\n",
       "</style>\n",
       "<table border=\"1\" class=\"dataframe\">\n",
       "  <thead>\n",
       "    <tr style=\"text-align: right;\">\n",
       "      <th></th>\n",
       "      <th>Ticker</th>\n",
       "      <th>Price</th>\n",
       "      <th>Market Capitalization</th>\n",
       "      <th>Number Of Shares to Buy</th>\n",
       "    </tr>\n",
       "  </thead>\n",
       "  <tbody>\n",
       "  </tbody>\n",
       "</table>\n",
       "</div>"
      ],
      "text/plain": [
       "Empty DataFrame\n",
       "Columns: [Ticker, Price, Market Capitalization, Number Of Shares to Buy]\n",
       "Index: []"
      ]
     },
     "execution_count": 9,
     "metadata": {},
     "output_type": "execute_result"
    }
   ],
   "source": [
    "# We will now get data for all of DJIA tickers\n",
    "# We must first setup a dataframe to store our data\n",
    "\n",
    "my_columns = ['Ticker', 'Price', 'Market Capitalization', 'Number Of Shares to Buy']\n",
    "final_dataframe = pd.DataFrame(columns = my_columns)\n",
    "final_dataframe"
   ]
  },
  {
   "cell_type": "code",
   "execution_count": 10,
   "metadata": {},
   "outputs": [
    {
     "data": {
      "text/html": [
       "<div>\n",
       "<style scoped>\n",
       "    .dataframe tbody tr th:only-of-type {\n",
       "        vertical-align: middle;\n",
       "    }\n",
       "\n",
       "    .dataframe tbody tr th {\n",
       "        vertical-align: top;\n",
       "    }\n",
       "\n",
       "    .dataframe thead th {\n",
       "        text-align: right;\n",
       "    }\n",
       "</style>\n",
       "<table border=\"1\" class=\"dataframe\">\n",
       "  <thead>\n",
       "    <tr style=\"text-align: right;\">\n",
       "      <th></th>\n",
       "      <th>Ticker</th>\n",
       "      <th>Price</th>\n",
       "      <th>Market Capitalization</th>\n",
       "      <th>Number Of Shares to Buy</th>\n",
       "    </tr>\n",
       "  </thead>\n",
       "  <tbody>\n",
       "    <tr>\n",
       "      <th>0</th>\n",
       "      <td>WMT</td>\n",
       "      <td>165.589996</td>\n",
       "      <td>4.458063e+11</td>\n",
       "      <td>N/A</td>\n",
       "    </tr>\n",
       "  </tbody>\n",
       "</table>\n",
       "</div>"
      ],
      "text/plain": [
       "  Ticker       Price  Market Capitalization Number Of Shares to Buy\n",
       "0    WMT  165.589996           4.458063e+11                     N/A"
      ]
     },
     "execution_count": 10,
     "metadata": {},
     "output_type": "execute_result"
    }
   ],
   "source": [
    "new_row = pd.Series(['WMT', shares_price['Close'], shares_price['marketCap'], 'N/A'], index=my_columns)\n",
    "\n",
    "# Use pd.concat to add the new row\n",
    "final_dataframe = pd.concat([final_dataframe, pd.DataFrame([new_row])], ignore_index=True)\n",
    "final_dataframe"
   ]
  },
  {
   "cell_type": "code",
   "execution_count": 11,
   "metadata": {
    "colab": {
     "base_uri": "https://localhost:8080/",
     "height": 206
    },
    "id": "1O2yhGXnYrjy",
    "outputId": "cdd854c0-6553-4f97-9996-e6b907e5fb1d"
   },
   "outputs": [
    {
     "data": {
      "text/html": [
       "<div>\n",
       "<style scoped>\n",
       "    .dataframe tbody tr th:only-of-type {\n",
       "        vertical-align: middle;\n",
       "    }\n",
       "\n",
       "    .dataframe tbody tr th {\n",
       "        vertical-align: top;\n",
       "    }\n",
       "\n",
       "    .dataframe thead th {\n",
       "        text-align: right;\n",
       "    }\n",
       "</style>\n",
       "<table border=\"1\" class=\"dataframe\">\n",
       "  <thead>\n",
       "    <tr style=\"text-align: right;\">\n",
       "      <th></th>\n",
       "      <th>Symbol</th>\n",
       "    </tr>\n",
       "  </thead>\n",
       "  <tbody>\n",
       "    <tr>\n",
       "      <th>0</th>\n",
       "      <td>MMM</td>\n",
       "    </tr>\n",
       "    <tr>\n",
       "      <th>1</th>\n",
       "      <td>AXP</td>\n",
       "    </tr>\n",
       "    <tr>\n",
       "      <th>2</th>\n",
       "      <td>AMGN</td>\n",
       "    </tr>\n",
       "    <tr>\n",
       "      <th>3</th>\n",
       "      <td>AAPL</td>\n",
       "    </tr>\n",
       "    <tr>\n",
       "      <th>4</th>\n",
       "      <td>BA</td>\n",
       "    </tr>\n",
       "  </tbody>\n",
       "</table>\n",
       "</div>"
      ],
      "text/plain": [
       "  Symbol\n",
       "0    MMM\n",
       "1    AXP\n",
       "2   AMGN\n",
       "3   AAPL\n",
       "4     BA"
      ]
     },
     "execution_count": 11,
     "metadata": {},
     "output_type": "execute_result"
    }
   ],
   "source": [
    "stocks = stocks.head()\n",
    "stocks.head(10)"
   ]
  },
  {
   "cell_type": "code",
   "execution_count": 12,
   "metadata": {
    "colab": {
     "base_uri": "https://localhost:8080/"
    },
    "id": "ZCmgaBXeYrjy",
    "outputId": "4500827c-322c-4b1e-b3a8-525c6271a5cb"
   },
   "outputs": [
    {
     "name": "stdout",
     "output_type": "stream",
     "text": [
      "[*********************100%%**********************]  1 of 1 completed\n"
     ]
    },
    {
     "name": "stderr",
     "output_type": "stream",
     "text": [
      "C:\\Users\\yagmu\\AppData\\Local\\Temp\\ipykernel_14528\\2274339762.py:12: SettingWithCopyWarning: \n",
      "A value is trying to be set on a copy of a slice from a DataFrame.\n",
      "Try using .loc[row_indexer,col_indexer] = value instead\n",
      "\n",
      "See the caveats in the documentation: https://pandas.pydata.org/pandas-docs/stable/user_guide/indexing.html#returning-a-view-versus-a-copy\n",
      "  price['Year'] = price.index.year\n"
     ]
    },
    {
     "name": "stdout",
     "output_type": "stream",
     "text": [
      "[*********************100%%**********************]  1 of 1 completed\n"
     ]
    },
    {
     "name": "stderr",
     "output_type": "stream",
     "text": [
      "C:\\Users\\yagmu\\AppData\\Local\\Temp\\ipykernel_14528\\2274339762.py:12: SettingWithCopyWarning: \n",
      "A value is trying to be set on a copy of a slice from a DataFrame.\n",
      "Try using .loc[row_indexer,col_indexer] = value instead\n",
      "\n",
      "See the caveats in the documentation: https://pandas.pydata.org/pandas-docs/stable/user_guide/indexing.html#returning-a-view-versus-a-copy\n",
      "  price['Year'] = price.index.year\n"
     ]
    },
    {
     "name": "stdout",
     "output_type": "stream",
     "text": [
      "[*********************100%%**********************]  1 of 1 completed\n"
     ]
    },
    {
     "name": "stderr",
     "output_type": "stream",
     "text": [
      "C:\\Users\\yagmu\\AppData\\Local\\Temp\\ipykernel_14528\\2274339762.py:12: SettingWithCopyWarning: \n",
      "A value is trying to be set on a copy of a slice from a DataFrame.\n",
      "Try using .loc[row_indexer,col_indexer] = value instead\n",
      "\n",
      "See the caveats in the documentation: https://pandas.pydata.org/pandas-docs/stable/user_guide/indexing.html#returning-a-view-versus-a-copy\n",
      "  price['Year'] = price.index.year\n"
     ]
    },
    {
     "name": "stdout",
     "output_type": "stream",
     "text": [
      "[*********************100%%**********************]  1 of 1 completed\n"
     ]
    },
    {
     "name": "stderr",
     "output_type": "stream",
     "text": [
      "C:\\Users\\yagmu\\AppData\\Local\\Temp\\ipykernel_14528\\2274339762.py:12: SettingWithCopyWarning: \n",
      "A value is trying to be set on a copy of a slice from a DataFrame.\n",
      "Try using .loc[row_indexer,col_indexer] = value instead\n",
      "\n",
      "See the caveats in the documentation: https://pandas.pydata.org/pandas-docs/stable/user_guide/indexing.html#returning-a-view-versus-a-copy\n",
      "  price['Year'] = price.index.year\n"
     ]
    },
    {
     "name": "stdout",
     "output_type": "stream",
     "text": [
      "[*********************100%%**********************]  1 of 1 completed\n"
     ]
    },
    {
     "name": "stderr",
     "output_type": "stream",
     "text": [
      "C:\\Users\\yagmu\\AppData\\Local\\Temp\\ipykernel_14528\\2274339762.py:12: SettingWithCopyWarning: \n",
      "A value is trying to be set on a copy of a slice from a DataFrame.\n",
      "Try using .loc[row_indexer,col_indexer] = value instead\n",
      "\n",
      "See the caveats in the documentation: https://pandas.pydata.org/pandas-docs/stable/user_guide/indexing.html#returning-a-view-versus-a-copy\n",
      "  price['Year'] = price.index.year\n"
     ]
    }
   ],
   "source": [
    "# We will now loop through our tickers and store the data in a dataframe\n",
    "\n",
    "final_dataframe = pd.DataFrame(columns = my_columns)\n",
    "for symbol in stocks['Symbol']:\n",
    "\n",
    "    stock_data = yf.Ticker(symbol)\n",
    "    shares_out = pd.DataFrame(stock_data.get_shares_full(start=\"2019-01-01\", end=None))\n",
    "    shares_out['Year'] = shares_out.index.year\n",
    "    shares_out.rename(columns={0:'BasicShares'}, inplace = True)\n",
    "\n",
    "    price = yf.download(symbol, start = '2019-01-01', auto_adjust = True)[['Close']]\n",
    "    price['Year'] = price.index.year\n",
    "\n",
    "    shares_price = pd.merge(shares_out, price, on = 'Year', how = 'inner')\n",
    "    shares_price['marketCap'] = shares_price.eval('Close * BasicShares')\n",
    "    shares_price = shares_price.iloc[-1]\n",
    "\n",
    "    \n",
    "    new_row = pd.Series([symbol, shares_price['Close'], shares_price['marketCap'], 'N/A'], index=my_columns)\n",
    "\n",
    "    # Use pd.concat to add the new row\n",
    "    final_dataframe = pd.concat([final_dataframe, pd.DataFrame([new_row])], ignore_index=True)\n",
    "    #final_dataframe = final_dataframe.append(pd.Series([symbol, shares_price['Close'], shares_price['marketCap'], 'N/A'], index = my_columns), ignore_index = True)"
   ]
  },
  {
   "cell_type": "code",
   "execution_count": 13,
   "metadata": {
    "colab": {
     "base_uri": "https://localhost:8080/"
    },
    "id": "1UDGZK-VYrjy",
    "outputId": "46be5873-e0a7-4358-e5c4-1a1ecf791fa7"
   },
   "outputs": [
    {
     "name": "stdout",
     "output_type": "stream",
     "text": [
      "<class 'pandas.core.frame.DataFrame'>\n",
      "RangeIndex: 5 entries, 0 to 4\n",
      "Data columns (total 4 columns):\n",
      " #   Column                   Non-Null Count  Dtype  \n",
      "---  ------                   --------------  -----  \n",
      " 0   Ticker                   5 non-null      object \n",
      " 1   Price                    5 non-null      float64\n",
      " 2   Market Capitalization    5 non-null      float64\n",
      " 3   Number Of Shares to Buy  5 non-null      object \n",
      "dtypes: float64(2), object(2)\n",
      "memory usage: 292.0+ bytes\n"
     ]
    }
   ],
   "source": [
    "final_dataframe.info()"
   ]
  },
  {
   "cell_type": "code",
   "execution_count": 14,
   "metadata": {
    "colab": {
     "base_uri": "https://localhost:8080/",
     "height": 206
    },
    "id": "cYAEciT9Yrjy",
    "outputId": "4883aa09-1ebb-4b06-b20c-21e674622962"
   },
   "outputs": [
    {
     "data": {
      "text/html": [
       "<div>\n",
       "<style scoped>\n",
       "    .dataframe tbody tr th:only-of-type {\n",
       "        vertical-align: middle;\n",
       "    }\n",
       "\n",
       "    .dataframe tbody tr th {\n",
       "        vertical-align: top;\n",
       "    }\n",
       "\n",
       "    .dataframe thead th {\n",
       "        text-align: right;\n",
       "    }\n",
       "</style>\n",
       "<table border=\"1\" class=\"dataframe\">\n",
       "  <thead>\n",
       "    <tr style=\"text-align: right;\">\n",
       "      <th></th>\n",
       "      <th>Ticker</th>\n",
       "      <th>Price</th>\n",
       "      <th>Market Capitalization</th>\n",
       "      <th>Number Of Shares to Buy</th>\n",
       "    </tr>\n",
       "  </thead>\n",
       "  <tbody>\n",
       "    <tr>\n",
       "      <th>0</th>\n",
       "      <td>MMM</td>\n",
       "      <td>95.750000</td>\n",
       "      <td>5.290963e+10</td>\n",
       "      <td>N/A</td>\n",
       "    </tr>\n",
       "    <tr>\n",
       "      <th>1</th>\n",
       "      <td>AXP</td>\n",
       "      <td>204.149994</td>\n",
       "      <td>1.476004e+11</td>\n",
       "      <td>N/A</td>\n",
       "    </tr>\n",
       "    <tr>\n",
       "      <th>2</th>\n",
       "      <td>AMGN</td>\n",
       "      <td>314.619995</td>\n",
       "      <td>1.683777e+11</td>\n",
       "      <td>N/A</td>\n",
       "    </tr>\n",
       "    <tr>\n",
       "      <th>3</th>\n",
       "      <td>AAPL</td>\n",
       "      <td>188.039993</td>\n",
       "      <td>2.907456e+12</td>\n",
       "      <td>N/A</td>\n",
       "    </tr>\n",
       "    <tr>\n",
       "      <th>4</th>\n",
       "      <td>BA</td>\n",
       "      <td>200.440002</td>\n",
       "      <td>1.212616e+11</td>\n",
       "      <td>N/A</td>\n",
       "    </tr>\n",
       "  </tbody>\n",
       "</table>\n",
       "</div>"
      ],
      "text/plain": [
       "  Ticker       Price  Market Capitalization Number Of Shares to Buy\n",
       "0    MMM   95.750000           5.290963e+10                     N/A\n",
       "1    AXP  204.149994           1.476004e+11                     N/A\n",
       "2   AMGN  314.619995           1.683777e+11                     N/A\n",
       "3   AAPL  188.039993           2.907456e+12                     N/A\n",
       "4     BA  200.440002           1.212616e+11                     N/A"
      ]
     },
     "execution_count": 14,
     "metadata": {},
     "output_type": "execute_result"
    }
   ],
   "source": [
    "final_dataframe.head()"
   ]
  },
  {
   "cell_type": "markdown",
   "metadata": {
    "id": "-j5eINcEYrjz"
   },
   "source": [
    "### b. Calculating number of shares to buy\n",
    "Remember that we want to create an equally weighted portfolio. This would be very easy if all of our stocks were the same price. Our stocks are not the same price so we must make a few calculations. We will first have to determine how much you are going to invest before deciding how much of each stock you need to purchase. Once we know the total amount to be invested, we can determine how much of each stock will result in an equal weighted portfolio."
   ]
  },
  {
   "cell_type": "code",
   "execution_count": 15,
   "metadata": {
    "colab": {
     "base_uri": "https://localhost:8080/"
    },
    "id": "Q-W1YtR-Yrjz",
    "outputId": "0955a336-333d-47a4-dca2-e3a19a747fa9"
   },
   "outputs": [
    {
     "name": "stdout",
     "output_type": "stream",
     "text": [
      "5000.0\n"
     ]
    }
   ],
   "source": [
    "portfolio_size = input('How much money are you investing:')\n",
    "\n",
    "try:\n",
    "    val = float(portfolio_size)\n",
    "    print(val)\n",
    "except:\n",
    "    print('Please enter an integer value.')\n",
    "    portfolio_size = input('How much money are you investing:')\n",
    "    val = float(portfolio_size)\n",
    "    print(val)"
   ]
  },
  {
   "cell_type": "code",
   "execution_count": 16,
   "metadata": {
    "colab": {
     "base_uri": "https://localhost:8080/"
    },
    "id": "Ewr0Dk01Yrjz",
    "outputId": "85b8a7ab-dd7c-4640-8b0f-80136aadd594"
   },
   "outputs": [
    {
     "name": "stdout",
     "output_type": "stream",
     "text": [
      "1000.0\n"
     ]
    }
   ],
   "source": [
    "# Determine our position size in dollars based on how much we will invest and how many stocks we must purchase.\n",
    "\n",
    "position_size = val/len(final_dataframe.index)\n",
    "print(position_size)"
   ]
  },
  {
   "cell_type": "code",
   "execution_count": 17,
   "metadata": {
    "colab": {
     "base_uri": "https://localhost:8080/",
     "height": 206
    },
    "id": "TGl5QX6BYrjz",
    "outputId": "8e066755-ad6f-40b7-c8ac-6e56fa374e60"
   },
   "outputs": [
    {
     "data": {
      "text/html": [
       "<div>\n",
       "<style scoped>\n",
       "    .dataframe tbody tr th:only-of-type {\n",
       "        vertical-align: middle;\n",
       "    }\n",
       "\n",
       "    .dataframe tbody tr th {\n",
       "        vertical-align: top;\n",
       "    }\n",
       "\n",
       "    .dataframe thead th {\n",
       "        text-align: right;\n",
       "    }\n",
       "</style>\n",
       "<table border=\"1\" class=\"dataframe\">\n",
       "  <thead>\n",
       "    <tr style=\"text-align: right;\">\n",
       "      <th></th>\n",
       "      <th>Ticker</th>\n",
       "      <th>Price</th>\n",
       "      <th>Market Capitalization</th>\n",
       "      <th>Number Of Shares to Buy</th>\n",
       "    </tr>\n",
       "  </thead>\n",
       "  <tbody>\n",
       "    <tr>\n",
       "      <th>0</th>\n",
       "      <td>MMM</td>\n",
       "      <td>95.750000</td>\n",
       "      <td>5.290963e+10</td>\n",
       "      <td>10</td>\n",
       "    </tr>\n",
       "    <tr>\n",
       "      <th>1</th>\n",
       "      <td>AXP</td>\n",
       "      <td>204.149994</td>\n",
       "      <td>1.476004e+11</td>\n",
       "      <td>4</td>\n",
       "    </tr>\n",
       "    <tr>\n",
       "      <th>2</th>\n",
       "      <td>AMGN</td>\n",
       "      <td>314.619995</td>\n",
       "      <td>1.683777e+11</td>\n",
       "      <td>3</td>\n",
       "    </tr>\n",
       "    <tr>\n",
       "      <th>3</th>\n",
       "      <td>AAPL</td>\n",
       "      <td>188.039993</td>\n",
       "      <td>2.907456e+12</td>\n",
       "      <td>5</td>\n",
       "    </tr>\n",
       "    <tr>\n",
       "      <th>4</th>\n",
       "      <td>BA</td>\n",
       "      <td>200.440002</td>\n",
       "      <td>1.212616e+11</td>\n",
       "      <td>4</td>\n",
       "    </tr>\n",
       "  </tbody>\n",
       "</table>\n",
       "</div>"
      ],
      "text/plain": [
       "  Ticker       Price  Market Capitalization Number Of Shares to Buy\n",
       "0    MMM   95.750000           5.290963e+10                      10\n",
       "1    AXP  204.149994           1.476004e+11                       4\n",
       "2   AMGN  314.619995           1.683777e+11                       3\n",
       "3   AAPL  188.039993           2.907456e+12                       5\n",
       "4     BA  200.440002           1.212616e+11                       4"
      ]
     },
     "execution_count": 17,
     "metadata": {},
     "output_type": "execute_result"
    }
   ],
   "source": [
    "# How many shares of each stock do we need to purchase to reach $333 invested?\n",
    "# We will round our number of shares to purchase to the lower full number of shares.\n",
    "\n",
    "for i in range(0, len(final_dataframe)):\n",
    "    final_dataframe.loc[i, 'Number Of Shares to Buy'] = math.floor(position_size / final_dataframe.loc[i, 'Price'])\n",
    "final_dataframe"
   ]
  },
  {
   "cell_type": "markdown",
   "metadata": {
    "id": "uxur0JOiYrjz"
   },
   "source": [
    "### c. Format and export this information to Excel\n",
    "Now that we have this information we do not want to have to run our Python program everytime we want to access it. We will therefore export this data to Excel in a nicely formatted file."
   ]
  },
  {
   "cell_type": "markdown",
   "metadata": {
    "id": "h2QX5JEVYrjz"
   },
   "source": [
    "### d. Initalizing our xlsxWriter Object"
   ]
  },
  {
   "cell_type": "code",
   "execution_count": 18,
   "metadata": {
    "id": "_nQKeA-6Yrjz"
   },
   "outputs": [],
   "source": [
    "writer = pd.ExcelWriter('recommended_trades_DJ30.xlsx', engine='xlsxwriter')\n",
    "final_dataframe.to_excel(writer, sheet_name='Recommended Trades DJ30', index = False)"
   ]
  },
  {
   "cell_type": "markdown",
   "metadata": {
    "id": "KOKuFMjpYrjz"
   },
   "source": [
    "### e. Creating the format we will use for our output file\n",
    "We are able to format colors, fonts, and symbols.\n",
    "- String format for tickers\n",
    "- \\\\$##.## format for stock prices\n",
    "- \\\\$##.### format for market capitalization\n",
    "- Integer format for the number of shares to purchase"
   ]
  },
  {
   "cell_type": "code",
   "execution_count": 19,
   "metadata": {
    "id": "HvpjGzhAYrjz"
   },
   "outputs": [],
   "source": [
    "# I would copy and paste this section rather than trying to learn all of the formatting options.\n",
    "\n",
    "background_color = '#474747'\n",
    "font_color = '#ffffff'\n",
    "string_format = writer.book.add_format({'font_color': font_color,'bg_color': background_color,'border': 1})\n",
    "dollar_format = writer.book.add_format({'num_format':'$0.00','font_color': font_color,'bg_color': background_color,'border': 1})\n",
    "integer_format = writer.book.add_format({'num_format':'0','font_color': font_color,'bg_color': background_color,'border': 1})"
   ]
  },
  {
   "cell_type": "markdown",
   "metadata": {
    "id": "UptUe64dYrjz"
   },
   "source": [
    "### f. Applying the formats to the columns in our xlsx file"
   ]
  },
  {
   "cell_type": "code",
   "execution_count": 20,
   "metadata": {
    "id": "cNbKbmpiYrjz"
   },
   "outputs": [],
   "source": [
    "column_formats = {\n",
    "                    'A': ['Ticker', string_format],\n",
    "                    'B': ['Price', dollar_format],\n",
    "                    'C': ['Market Capitalization', dollar_format],\n",
    "                    'D': ['Number of Shares to Buy', integer_format]\n",
    "                    }\n",
    "\n",
    "for column in column_formats.keys():\n",
    "    writer.sheets['Recommended Trades DJ30'].set_column(f'{column}:{column}', 20, column_formats[column][1])\n",
    "    writer.sheets['Recommended Trades DJ30'].write(f'{column}1', column_formats[column][0], string_format)"
   ]
  },
  {
   "cell_type": "markdown",
   "metadata": {
    "id": "ixq-PQJAYrjz"
   },
   "source": [
    "### g. Save our output"
   ]
  },
  {
   "cell_type": "code",
   "execution_count": 21,
   "metadata": {
    "colab": {
     "base_uri": "https://localhost:8080/"
    },
    "id": "zHTRgYtCYrjz",
    "outputId": "a37bb58b-d856-4a36-c73a-982c79c95d12"
   },
   "outputs": [],
   "source": [
    "# Is the output pretty? No, but you can play around with the formatting options to change that if you would like.\n",
    "\n",
    "writer.close()"
   ]
  },
  {
   "cell_type": "markdown",
   "metadata": {
    "id": "8n30214vYrjz"
   },
   "source": [
    "### h. What if we wanted a market cap weighted portfolio?"
   ]
  },
  {
   "cell_type": "code",
   "execution_count": 22,
   "metadata": {
    "colab": {
     "base_uri": "https://localhost:8080/",
     "height": 206
    },
    "id": "4-mCEb8FYrjz",
    "outputId": "e79d8780-b195-4823-f343-877a8a8c6be4"
   },
   "outputs": [
    {
     "data": {
      "text/html": [
       "<div>\n",
       "<style scoped>\n",
       "    .dataframe tbody tr th:only-of-type {\n",
       "        vertical-align: middle;\n",
       "    }\n",
       "\n",
       "    .dataframe tbody tr th {\n",
       "        vertical-align: top;\n",
       "    }\n",
       "\n",
       "    .dataframe thead th {\n",
       "        text-align: right;\n",
       "    }\n",
       "</style>\n",
       "<table border=\"1\" class=\"dataframe\">\n",
       "  <thead>\n",
       "    <tr style=\"text-align: right;\">\n",
       "      <th></th>\n",
       "      <th>Ticker</th>\n",
       "      <th>Price</th>\n",
       "      <th>Market Capitalization</th>\n",
       "      <th>Number Of Shares to Buy</th>\n",
       "    </tr>\n",
       "  </thead>\n",
       "  <tbody>\n",
       "    <tr>\n",
       "      <th>0</th>\n",
       "      <td>MMM</td>\n",
       "      <td>95.750000</td>\n",
       "      <td>5.290963e+10</td>\n",
       "      <td>10</td>\n",
       "    </tr>\n",
       "    <tr>\n",
       "      <th>1</th>\n",
       "      <td>AXP</td>\n",
       "      <td>204.149994</td>\n",
       "      <td>1.476004e+11</td>\n",
       "      <td>4</td>\n",
       "    </tr>\n",
       "    <tr>\n",
       "      <th>2</th>\n",
       "      <td>AMGN</td>\n",
       "      <td>314.619995</td>\n",
       "      <td>1.683777e+11</td>\n",
       "      <td>3</td>\n",
       "    </tr>\n",
       "    <tr>\n",
       "      <th>3</th>\n",
       "      <td>AAPL</td>\n",
       "      <td>188.039993</td>\n",
       "      <td>2.907456e+12</td>\n",
       "      <td>5</td>\n",
       "    </tr>\n",
       "    <tr>\n",
       "      <th>4</th>\n",
       "      <td>BA</td>\n",
       "      <td>200.440002</td>\n",
       "      <td>1.212616e+11</td>\n",
       "      <td>4</td>\n",
       "    </tr>\n",
       "  </tbody>\n",
       "</table>\n",
       "</div>"
      ],
      "text/plain": [
       "  Ticker       Price  Market Capitalization Number Of Shares to Buy\n",
       "0    MMM   95.750000           5.290963e+10                      10\n",
       "1    AXP  204.149994           1.476004e+11                       4\n",
       "2   AMGN  314.619995           1.683777e+11                       3\n",
       "3   AAPL  188.039993           2.907456e+12                       5\n",
       "4     BA  200.440002           1.212616e+11                       4"
      ]
     },
     "execution_count": 22,
     "metadata": {},
     "output_type": "execute_result"
    }
   ],
   "source": [
    "final_dataframe.head()"
   ]
  },
  {
   "cell_type": "code",
   "execution_count": 23,
   "metadata": {
    "colab": {
     "base_uri": "https://localhost:8080/",
     "height": 206
    },
    "id": "ghQBMuAbYrj0",
    "outputId": "fafaf092-3038-470a-d3f7-0060395f8d0d"
   },
   "outputs": [
    {
     "data": {
      "text/html": [
       "<div>\n",
       "<style scoped>\n",
       "    .dataframe tbody tr th:only-of-type {\n",
       "        vertical-align: middle;\n",
       "    }\n",
       "\n",
       "    .dataframe tbody tr th {\n",
       "        vertical-align: top;\n",
       "    }\n",
       "\n",
       "    .dataframe thead th {\n",
       "        text-align: right;\n",
       "    }\n",
       "</style>\n",
       "<table border=\"1\" class=\"dataframe\">\n",
       "  <thead>\n",
       "    <tr style=\"text-align: right;\">\n",
       "      <th></th>\n",
       "      <th>Ticker</th>\n",
       "      <th>Price</th>\n",
       "      <th>Market Capitalization</th>\n",
       "      <th>Number Of Shares to Buy</th>\n",
       "      <th>mcap_weight</th>\n",
       "    </tr>\n",
       "  </thead>\n",
       "  <tbody>\n",
       "    <tr>\n",
       "      <th>0</th>\n",
       "      <td>MMM</td>\n",
       "      <td>95.750000</td>\n",
       "      <td>5.290963e+10</td>\n",
       "      <td>10</td>\n",
       "      <td>0.015573</td>\n",
       "    </tr>\n",
       "    <tr>\n",
       "      <th>1</th>\n",
       "      <td>AXP</td>\n",
       "      <td>204.149994</td>\n",
       "      <td>1.476004e+11</td>\n",
       "      <td>4</td>\n",
       "      <td>0.043442</td>\n",
       "    </tr>\n",
       "    <tr>\n",
       "      <th>2</th>\n",
       "      <td>AMGN</td>\n",
       "      <td>314.619995</td>\n",
       "      <td>1.683777e+11</td>\n",
       "      <td>3</td>\n",
       "      <td>0.049558</td>\n",
       "    </tr>\n",
       "    <tr>\n",
       "      <th>3</th>\n",
       "      <td>AAPL</td>\n",
       "      <td>188.039993</td>\n",
       "      <td>2.907456e+12</td>\n",
       "      <td>5</td>\n",
       "      <td>0.855737</td>\n",
       "    </tr>\n",
       "    <tr>\n",
       "      <th>4</th>\n",
       "      <td>BA</td>\n",
       "      <td>200.440002</td>\n",
       "      <td>1.212616e+11</td>\n",
       "      <td>4</td>\n",
       "      <td>0.035690</td>\n",
       "    </tr>\n",
       "  </tbody>\n",
       "</table>\n",
       "</div>"
      ],
      "text/plain": [
       "  Ticker       Price  Market Capitalization Number Of Shares to Buy  \\\n",
       "0    MMM   95.750000           5.290963e+10                      10   \n",
       "1    AXP  204.149994           1.476004e+11                       4   \n",
       "2   AMGN  314.619995           1.683777e+11                       3   \n",
       "3   AAPL  188.039993           2.907456e+12                       5   \n",
       "4     BA  200.440002           1.212616e+11                       4   \n",
       "\n",
       "   mcap_weight  \n",
       "0     0.015573  \n",
       "1     0.043442  \n",
       "2     0.049558  \n",
       "3     0.855737  \n",
       "4     0.035690  "
      ]
     },
     "execution_count": 23,
     "metadata": {},
     "output_type": "execute_result"
    }
   ],
   "source": [
    "final_dataframe['mcap_weight'] = final_dataframe['Market Capitalization'] / sum(final_dataframe['Market Capitalization'])\n",
    "final_dataframe.head()"
   ]
  },
  {
   "cell_type": "code",
   "execution_count": 24,
   "metadata": {
    "colab": {
     "base_uri": "https://localhost:8080/"
    },
    "id": "jQ8qOnjVYrj0",
    "outputId": "3a6fdfb8-72e3-4975-bc83-24505fa0f79f"
   },
   "outputs": [
    {
     "data": {
      "text/plain": [
       "1.0"
      ]
     },
     "execution_count": 24,
     "metadata": {},
     "output_type": "execute_result"
    }
   ],
   "source": [
    "# Check that our weights sum to one\n",
    "\n",
    "final_dataframe['mcap_weight'].sum()"
   ]
  },
  {
   "cell_type": "code",
   "execution_count": 25,
   "metadata": {
    "colab": {
     "base_uri": "https://localhost:8080/"
    },
    "id": "0LnzNge4Yrj0",
    "outputId": "5660a2ea-7abc-44cc-9ab8-7bbfb7590170"
   },
   "outputs": [
    {
     "name": "stdout",
     "output_type": "stream",
     "text": [
      "<class 'pandas.core.frame.DataFrame'>\n",
      "RangeIndex: 5 entries, 0 to 4\n",
      "Data columns (total 5 columns):\n",
      " #   Column                   Non-Null Count  Dtype  \n",
      "---  ------                   --------------  -----  \n",
      " 0   Ticker                   5 non-null      object \n",
      " 1   Price                    5 non-null      float64\n",
      " 2   Market Capitalization    5 non-null      float64\n",
      " 3   Number Of Shares to Buy  5 non-null      object \n",
      " 4   mcap_weight              5 non-null      float64\n",
      "dtypes: float64(3), object(2)\n",
      "memory usage: 332.0+ bytes\n"
     ]
    }
   ],
   "source": [
    "final_dataframe.info()"
   ]
  },
  {
   "cell_type": "code",
   "execution_count": 26,
   "metadata": {
    "colab": {
     "base_uri": "https://localhost:8080/",
     "height": 206
    },
    "id": "1XzjvGpcYrj0",
    "outputId": "a276651a-238a-44cd-f080-47d2cb4bdb50"
   },
   "outputs": [
    {
     "data": {
      "text/html": [
       "<div>\n",
       "<style scoped>\n",
       "    .dataframe tbody tr th:only-of-type {\n",
       "        vertical-align: middle;\n",
       "    }\n",
       "\n",
       "    .dataframe tbody tr th {\n",
       "        vertical-align: top;\n",
       "    }\n",
       "\n",
       "    .dataframe thead th {\n",
       "        text-align: right;\n",
       "    }\n",
       "</style>\n",
       "<table border=\"1\" class=\"dataframe\">\n",
       "  <thead>\n",
       "    <tr style=\"text-align: right;\">\n",
       "      <th></th>\n",
       "      <th>Ticker</th>\n",
       "      <th>Price</th>\n",
       "      <th>Market Capitalization</th>\n",
       "      <th>Number Of Shares to Buy</th>\n",
       "      <th>mcap_weight</th>\n",
       "      <th>mcap_dollars_to_invest</th>\n",
       "      <th>mcap_shares_to_buy</th>\n",
       "    </tr>\n",
       "  </thead>\n",
       "  <tbody>\n",
       "    <tr>\n",
       "      <th>3</th>\n",
       "      <td>AAPL</td>\n",
       "      <td>188.039993</td>\n",
       "      <td>2.907456e+12</td>\n",
       "      <td>5</td>\n",
       "      <td>0.855737</td>\n",
       "      <td>4278.684003</td>\n",
       "      <td>22</td>\n",
       "    </tr>\n",
       "    <tr>\n",
       "      <th>2</th>\n",
       "      <td>AMGN</td>\n",
       "      <td>314.619995</td>\n",
       "      <td>1.683777e+11</td>\n",
       "      <td>3</td>\n",
       "      <td>0.049558</td>\n",
       "      <td>247.788803</td>\n",
       "      <td>0</td>\n",
       "    </tr>\n",
       "    <tr>\n",
       "      <th>1</th>\n",
       "      <td>AXP</td>\n",
       "      <td>204.149994</td>\n",
       "      <td>1.476004e+11</td>\n",
       "      <td>4</td>\n",
       "      <td>0.043442</td>\n",
       "      <td>217.212486</td>\n",
       "      <td>1</td>\n",
       "    </tr>\n",
       "    <tr>\n",
       "      <th>4</th>\n",
       "      <td>BA</td>\n",
       "      <td>200.440002</td>\n",
       "      <td>1.212616e+11</td>\n",
       "      <td>4</td>\n",
       "      <td>0.035690</td>\n",
       "      <td>178.451580</td>\n",
       "      <td>0</td>\n",
       "    </tr>\n",
       "    <tr>\n",
       "      <th>0</th>\n",
       "      <td>MMM</td>\n",
       "      <td>95.750000</td>\n",
       "      <td>5.290963e+10</td>\n",
       "      <td>10</td>\n",
       "      <td>0.015573</td>\n",
       "      <td>77.863127</td>\n",
       "      <td>0</td>\n",
       "    </tr>\n",
       "  </tbody>\n",
       "</table>\n",
       "</div>"
      ],
      "text/plain": [
       "  Ticker       Price  Market Capitalization Number Of Shares to Buy  \\\n",
       "3   AAPL  188.039993           2.907456e+12                       5   \n",
       "2   AMGN  314.619995           1.683777e+11                       3   \n",
       "1    AXP  204.149994           1.476004e+11                       4   \n",
       "4     BA  200.440002           1.212616e+11                       4   \n",
       "0    MMM   95.750000           5.290963e+10                      10   \n",
       "\n",
       "   mcap_weight  mcap_dollars_to_invest  mcap_shares_to_buy  \n",
       "3     0.855737             4278.684003                  22  \n",
       "2     0.049558              247.788803                   0  \n",
       "1     0.043442              217.212486                   1  \n",
       "4     0.035690              178.451580                   0  \n",
       "0     0.015573               77.863127                   0  "
      ]
     },
     "execution_count": 26,
     "metadata": {},
     "output_type": "execute_result"
    }
   ],
   "source": [
    "# Calculate the new number of shares to buy\n",
    "\n",
    "final_dataframe['mcap_dollars_to_invest'] = final_dataframe['mcap_weight'] * float(portfolio_size)\n",
    "final_dataframe['mcap_shares_to_buy'] = final_dataframe['mcap_dollars_to_invest'] / final_dataframe['Price']\n",
    "final_dataframe['mcap_shares_to_buy'] = final_dataframe['mcap_shares_to_buy'].apply(lambda x: math.floor(x))\n",
    "final_dataframe.sort_values('Market Capitalization', ascending = False)"
   ]
  },
  {
   "cell_type": "markdown",
   "metadata": {
    "id": "6gjCmWEcYrj0"
   },
   "source": [
    "## 4. Value portfolio creation\n",
    "A value portfolio simply tries to buy 'cheap' stocks relative to their intrinsic value. Our goal is going to be to select the 15 best value stocks from the DJIA index. We will then create an equal weighted portfolio from those stocks. This time we will focus on using yfinance and Yahoo Finance to obtain our data."
   ]
  },
  {
   "cell_type": "markdown",
   "metadata": {
    "id": "AaKe0Y9VYrj0"
   },
   "source": [
    "### a. Obtain a new set of data and include the PE Ratio."
   ]
  },
  {
   "cell_type": "code",
   "execution_count": 35,
   "metadata": {
    "id": "pn7HA50RYrj0"
   },
   "outputs": [],
   "source": [
    "# Additional library needed\n",
    "\n",
    "from scipy import stats"
   ]
  },
  {
   "cell_type": "code",
   "execution_count": 36,
   "metadata": {
    "colab": {
     "base_uri": "https://localhost:8080/",
     "height": 744
    },
    "id": "ca_Tk9AXYrj0",
    "outputId": "03bda90c-2e9f-4342-dbc8-b9c37b9705a3"
   },
   "outputs": [
    {
     "name": "stdout",
     "output_type": "stream",
     "text": [
      "DJIA Tickers\n"
     ]
    },
    {
     "data": {
      "text/html": [
       "<div>\n",
       "<style scoped>\n",
       "    .dataframe tbody tr th:only-of-type {\n",
       "        vertical-align: middle;\n",
       "    }\n",
       "\n",
       "    .dataframe tbody tr th {\n",
       "        vertical-align: top;\n",
       "    }\n",
       "\n",
       "    .dataframe thead th {\n",
       "        text-align: right;\n",
       "    }\n",
       "</style>\n",
       "<table border=\"1\" class=\"dataframe\">\n",
       "  <thead>\n",
       "    <tr style=\"text-align: right;\">\n",
       "      <th></th>\n",
       "      <th>Company</th>\n",
       "      <th>Exchange</th>\n",
       "      <th>Symbol</th>\n",
       "      <th>Industry</th>\n",
       "      <th>Date added</th>\n",
       "      <th>Notes</th>\n",
       "      <th>Index weighting</th>\n",
       "    </tr>\n",
       "  </thead>\n",
       "  <tbody>\n",
       "    <tr>\n",
       "      <th>0</th>\n",
       "      <td>3M</td>\n",
       "      <td>NYSE</td>\n",
       "      <td>MMM</td>\n",
       "      <td>Conglomerate</td>\n",
       "      <td>1976-08-09</td>\n",
       "      <td>As Minnesota Mining and Manufacturing</td>\n",
       "      <td>2.41%</td>\n",
       "    </tr>\n",
       "    <tr>\n",
       "      <th>1</th>\n",
       "      <td>American Express</td>\n",
       "      <td>NYSE</td>\n",
       "      <td>AXP</td>\n",
       "      <td>Financial services</td>\n",
       "      <td>1982-08-30</td>\n",
       "      <td>NaN</td>\n",
       "      <td>3.02%</td>\n",
       "    </tr>\n",
       "    <tr>\n",
       "      <th>2</th>\n",
       "      <td>Amgen</td>\n",
       "      <td>NASDAQ</td>\n",
       "      <td>AMGN</td>\n",
       "      <td>Biopharmaceutical</td>\n",
       "      <td>2020-08-31</td>\n",
       "      <td>NaN</td>\n",
       "      <td>5.48%</td>\n",
       "    </tr>\n",
       "    <tr>\n",
       "      <th>3</th>\n",
       "      <td>Apple</td>\n",
       "      <td>NASDAQ</td>\n",
       "      <td>AAPL</td>\n",
       "      <td>Information technology</td>\n",
       "      <td>2015-03-19</td>\n",
       "      <td>NaN</td>\n",
       "      <td>2.84%</td>\n",
       "    </tr>\n",
       "    <tr>\n",
       "      <th>4</th>\n",
       "      <td>Boeing</td>\n",
       "      <td>NYSE</td>\n",
       "      <td>BA</td>\n",
       "      <td>Aerospace and defense</td>\n",
       "      <td>1987-03-12</td>\n",
       "      <td>NaN</td>\n",
       "      <td>3.36%</td>\n",
       "    </tr>\n",
       "  </tbody>\n",
       "</table>\n",
       "</div>"
      ],
      "text/plain": [
       "            Company Exchange Symbol                Industry  Date added  \\\n",
       "0                3M     NYSE    MMM            Conglomerate  1976-08-09   \n",
       "1  American Express     NYSE    AXP      Financial services  1982-08-30   \n",
       "2             Amgen   NASDAQ   AMGN       Biopharmaceutical  2020-08-31   \n",
       "3             Apple   NASDAQ   AAPL  Information technology  2015-03-19   \n",
       "4            Boeing     NYSE     BA   Aerospace and defense  1987-03-12   \n",
       "\n",
       "                                   Notes Index weighting  \n",
       "0  As Minnesota Mining and Manufacturing           2.41%  \n",
       "1                                    NaN           3.02%  \n",
       "2                                    NaN           5.48%  \n",
       "3                                    NaN           2.84%  \n",
       "4                                    NaN           3.36%  "
      ]
     },
     "metadata": {},
     "output_type": "display_data"
    },
    {
     "data": {
      "text/plain": [
       "['MMM',\n",
       " 'AXP',\n",
       " 'AMGN',\n",
       " 'AAPL',\n",
       " 'BA',\n",
       " 'CAT',\n",
       " 'CVX',\n",
       " 'CSCO',\n",
       " 'KO',\n",
       " 'DIS',\n",
       " 'DOW',\n",
       " 'GS',\n",
       " 'HD',\n",
       " 'HON',\n",
       " 'IBM',\n",
       " 'INTC',\n",
       " 'JNJ',\n",
       " 'JPM',\n",
       " 'MCD',\n",
       " 'MRK',\n",
       " 'MSFT',\n",
       " 'NKE',\n",
       " 'PG',\n",
       " 'CRM',\n",
       " 'TRV',\n",
       " 'UNH',\n",
       " 'VZ',\n",
       " 'V',\n",
       " 'WBA',\n",
       " 'WMT']"
      ]
     },
     "execution_count": 36,
     "metadata": {},
     "output_type": "execute_result"
    }
   ],
   "source": [
    "# url of the source\n",
    "djia_url = 'https://en.wikipedia.org/wiki/Dow_Jones_Industrial_Average'\n",
    "\n",
    "# ignore certificate errors\n",
    "ssl._create_default_https_context = ssl._create_unverified_context\n",
    "\n",
    "# Read and print the stock tickers that make up the DJIA\n",
    "djia_tickers = pd.read_html(djia_url)[1]\n",
    "print('DJIA Tickers')\n",
    "display(djia_tickers.head())\n",
    "\n",
    "tickers_list = djia_tickers['Symbol'].tolist()\n",
    "tickers_list"
   ]
  },
  {
   "cell_type": "code",
   "execution_count": 37,
   "metadata": {
    "colab": {
     "base_uri": "https://localhost:8080/"
    },
    "id": "YpzaeAWKYrj0",
    "outputId": "3093ab14-8611-4969-9c3c-56388988757e",
    "scrolled": true
   },
   "outputs": [
    {
     "ename": "HTTPError",
     "evalue": "404 Client Error: Not Found for url: https://query2.finance.yahoo.com/v6/finance/quoteSummary/MMM?modules=financialData&modules=quoteType&modules=defaultKeyStatistics&modules=assetProfile&modules=summaryDetail&ssl=true",
     "output_type": "error",
     "traceback": [
      "\u001b[1;31m---------------------------------------------------------------------------\u001b[0m",
      "\u001b[1;31mHTTPError\u001b[0m                                 Traceback (most recent call last)",
      "\u001b[1;32mc:\\Users\\yagmu\\OneDrive\\Desktop\\Classes\\MS Finance\\Advanced Financial Data Analysis (6070)\\Class 2\\Topic_3_Weighting,_Value,_and_Momentum (1).ipynb Cell 39\u001b[0m line \u001b[0;36m7\n\u001b[0;32m      <a href='vscode-notebook-cell:/c%3A/Users/yagmu/OneDrive/Desktop/Classes/MS%20Finance/Advanced%20Financial%20Data%20Analysis%20%286070%29/Class%202/Topic_3_Weighting%2C_Value%2C_and_Momentum%20%281%29.ipynb#X53sZmlsZQ%3D%3D?line=3'>4</a>\u001b[0m ticker_object \u001b[39m=\u001b[39m yf\u001b[39m.\u001b[39mTicker(ticker)\n\u001b[0;32m      <a href='vscode-notebook-cell:/c%3A/Users/yagmu/OneDrive/Desktop/Classes/MS%20Finance/Advanced%20Financial%20Data%20Analysis%20%286070%29/Class%202/Topic_3_Weighting%2C_Value%2C_and_Momentum%20%281%29.ipynb#X53sZmlsZQ%3D%3D?line=5'>6</a>\u001b[0m \u001b[39m#convert info() output from dictionary to dataframe\u001b[39;00m\n\u001b[1;32m----> <a href='vscode-notebook-cell:/c%3A/Users/yagmu/OneDrive/Desktop/Classes/MS%20Finance/Advanced%20Financial%20Data%20Analysis%20%286070%29/Class%202/Topic_3_Weighting%2C_Value%2C_and_Momentum%20%281%29.ipynb#X53sZmlsZQ%3D%3D?line=6'>7</a>\u001b[0m temp \u001b[39m=\u001b[39m pd\u001b[39m.\u001b[39mDataFrame\u001b[39m.\u001b[39mfrom_dict(ticker_object\u001b[39m.\u001b[39minfo, orient\u001b[39m=\u001b[39m\u001b[39m\"\u001b[39m\u001b[39mindex\u001b[39m\u001b[39m\"\u001b[39m)\n\u001b[0;32m      <a href='vscode-notebook-cell:/c%3A/Users/yagmu/OneDrive/Desktop/Classes/MS%20Finance/Advanced%20Financial%20Data%20Analysis%20%286070%29/Class%202/Topic_3_Weighting%2C_Value%2C_and_Momentum%20%281%29.ipynb#X53sZmlsZQ%3D%3D?line=7'>8</a>\u001b[0m temp\u001b[39m.\u001b[39mreset_index(inplace\u001b[39m=\u001b[39m\u001b[39mTrue\u001b[39;00m)\n\u001b[0;32m      <a href='vscode-notebook-cell:/c%3A/Users/yagmu/OneDrive/Desktop/Classes/MS%20Finance/Advanced%20Financial%20Data%20Analysis%20%286070%29/Class%202/Topic_3_Weighting%2C_Value%2C_and_Momentum%20%281%29.ipynb#X53sZmlsZQ%3D%3D?line=8'>9</a>\u001b[0m temp\u001b[39m.\u001b[39mcolumns \u001b[39m=\u001b[39m [\u001b[39m\"\u001b[39m\u001b[39mAttribute\u001b[39m\u001b[39m\"\u001b[39m, \u001b[39m\"\u001b[39m\u001b[39mRecent\u001b[39m\u001b[39m\"\u001b[39m]\n",
      "File \u001b[1;32md:\\anaconda3\\Lib\\site-packages\\yfinance\\ticker.py:142\u001b[0m, in \u001b[0;36mTicker.info\u001b[1;34m(self)\u001b[0m\n\u001b[0;32m    140\u001b[0m \u001b[39m@property\u001b[39m\n\u001b[0;32m    141\u001b[0m \u001b[39mdef\u001b[39;00m \u001b[39minfo\u001b[39m(\u001b[39mself\u001b[39m) \u001b[39m-\u001b[39m\u001b[39m>\u001b[39m \u001b[39mdict\u001b[39m:\n\u001b[1;32m--> 142\u001b[0m     \u001b[39mreturn\u001b[39;00m \u001b[39mself\u001b[39m\u001b[39m.\u001b[39mget_info()\n",
      "File \u001b[1;32md:\\anaconda3\\Lib\\site-packages\\yfinance\\base.py:1736\u001b[0m, in \u001b[0;36mTickerBase.get_info\u001b[1;34m(self, proxy)\u001b[0m\n\u001b[0;32m   1734\u001b[0m \u001b[39mdef\u001b[39;00m \u001b[39mget_info\u001b[39m(\u001b[39mself\u001b[39m, proxy\u001b[39m=\u001b[39m\u001b[39mNone\u001b[39;00m) \u001b[39m-\u001b[39m\u001b[39m>\u001b[39m \u001b[39mdict\u001b[39m:\n\u001b[0;32m   1735\u001b[0m     \u001b[39mself\u001b[39m\u001b[39m.\u001b[39m_quote\u001b[39m.\u001b[39mproxy \u001b[39m=\u001b[39m proxy\n\u001b[1;32m-> 1736\u001b[0m     data \u001b[39m=\u001b[39m \u001b[39mself\u001b[39m\u001b[39m.\u001b[39m_quote\u001b[39m.\u001b[39minfo\n\u001b[0;32m   1737\u001b[0m     \u001b[39mreturn\u001b[39;00m data\n",
      "File \u001b[1;32md:\\anaconda3\\Lib\\site-packages\\yfinance\\scrapers\\quote.py:571\u001b[0m, in \u001b[0;36mQuote.info\u001b[1;34m(self)\u001b[0m\n\u001b[0;32m    568\u001b[0m \u001b[39m@property\u001b[39m\n\u001b[0;32m    569\u001b[0m \u001b[39mdef\u001b[39;00m \u001b[39minfo\u001b[39m(\u001b[39mself\u001b[39m) \u001b[39m-\u001b[39m\u001b[39m>\u001b[39m \u001b[39mdict\u001b[39m:\n\u001b[0;32m    570\u001b[0m     \u001b[39mif\u001b[39;00m \u001b[39mself\u001b[39m\u001b[39m.\u001b[39m_info \u001b[39mis\u001b[39;00m \u001b[39mNone\u001b[39;00m:\n\u001b[1;32m--> 571\u001b[0m         \u001b[39mself\u001b[39m\u001b[39m.\u001b[39m_fetch(\u001b[39mself\u001b[39m\u001b[39m.\u001b[39mproxy)\n\u001b[0;32m    572\u001b[0m         \u001b[39mself\u001b[39m\u001b[39m.\u001b[39m_fetch_complementary(\u001b[39mself\u001b[39m\u001b[39m.\u001b[39mproxy)\n\u001b[0;32m    574\u001b[0m     \u001b[39mreturn\u001b[39;00m \u001b[39mself\u001b[39m\u001b[39m.\u001b[39m_info\n",
      "File \u001b[1;32md:\\anaconda3\\Lib\\site-packages\\yfinance\\scrapers\\quote.py:600\u001b[0m, in \u001b[0;36mQuote._fetch\u001b[1;34m(self, proxy)\u001b[0m\n\u001b[0;32m    598\u001b[0m modules \u001b[39m=\u001b[39m [\u001b[39m'\u001b[39m\u001b[39mfinancialData\u001b[39m\u001b[39m'\u001b[39m, \u001b[39m'\u001b[39m\u001b[39mquoteType\u001b[39m\u001b[39m'\u001b[39m, \u001b[39m'\u001b[39m\u001b[39mdefaultKeyStatistics\u001b[39m\u001b[39m'\u001b[39m, \u001b[39m'\u001b[39m\u001b[39massetProfile\u001b[39m\u001b[39m'\u001b[39m, \u001b[39m'\u001b[39m\u001b[39msummaryDetail\u001b[39m\u001b[39m'\u001b[39m]\n\u001b[0;32m    599\u001b[0m params_dict \u001b[39m=\u001b[39m {\u001b[39m\"\u001b[39m\u001b[39mmodules\u001b[39m\u001b[39m\"\u001b[39m: modules, \u001b[39m\"\u001b[39m\u001b[39mssl\u001b[39m\u001b[39m\"\u001b[39m: \u001b[39m\"\u001b[39m\u001b[39mtrue\u001b[39m\u001b[39m\"\u001b[39m}\n\u001b[1;32m--> 600\u001b[0m result \u001b[39m=\u001b[39m \u001b[39mself\u001b[39m\u001b[39m.\u001b[39m_data\u001b[39m.\u001b[39mget_raw_json(\n\u001b[0;32m    601\u001b[0m     _BASIC_URL_ \u001b[39m+\u001b[39m \u001b[39mf\u001b[39m\u001b[39m\"\u001b[39m\u001b[39m/\u001b[39m\u001b[39m{\u001b[39;00m\u001b[39mself\u001b[39m\u001b[39m.\u001b[39m_data\u001b[39m.\u001b[39mticker\u001b[39m}\u001b[39;00m\u001b[39m\"\u001b[39m, params\u001b[39m=\u001b[39mparams_dict, proxy\u001b[39m=\u001b[39mproxy\n\u001b[0;32m    602\u001b[0m )\n\u001b[0;32m    603\u001b[0m result[\u001b[39m\"\u001b[39m\u001b[39mquoteSummary\u001b[39m\u001b[39m\"\u001b[39m][\u001b[39m\"\u001b[39m\u001b[39mresult\u001b[39m\u001b[39m\"\u001b[39m][\u001b[39m0\u001b[39m][\u001b[39m\"\u001b[39m\u001b[39msymbol\u001b[39m\u001b[39m\"\u001b[39m] \u001b[39m=\u001b[39m \u001b[39mself\u001b[39m\u001b[39m.\u001b[39m_data\u001b[39m.\u001b[39mticker\n\u001b[0;32m    604\u001b[0m query1_info \u001b[39m=\u001b[39m \u001b[39mnext\u001b[39m(\n\u001b[0;32m    605\u001b[0m     (info \u001b[39mfor\u001b[39;00m info \u001b[39min\u001b[39;00m result\u001b[39m.\u001b[39mget(\u001b[39m\"\u001b[39m\u001b[39mquoteSummary\u001b[39m\u001b[39m\"\u001b[39m, {})\u001b[39m.\u001b[39mget(\u001b[39m\"\u001b[39m\u001b[39mresult\u001b[39m\u001b[39m\"\u001b[39m, []) \u001b[39mif\u001b[39;00m info[\u001b[39m\"\u001b[39m\u001b[39msymbol\u001b[39m\u001b[39m\"\u001b[39m] \u001b[39m==\u001b[39m \u001b[39mself\u001b[39m\u001b[39m.\u001b[39m_data\u001b[39m.\u001b[39mticker),\n\u001b[0;32m    606\u001b[0m     \u001b[39mNone\u001b[39;00m,\n\u001b[0;32m    607\u001b[0m )\n",
      "File \u001b[1;32md:\\anaconda3\\Lib\\site-packages\\yfinance\\data.py:75\u001b[0m, in \u001b[0;36mTickerData.get_raw_json\u001b[1;34m(self, url, user_agent_headers, params, proxy, timeout)\u001b[0m\n\u001b[0;32m     73\u001b[0m \u001b[39mdef\u001b[39;00m \u001b[39mget_raw_json\u001b[39m(\u001b[39mself\u001b[39m, url, user_agent_headers\u001b[39m=\u001b[39m\u001b[39mNone\u001b[39;00m, params\u001b[39m=\u001b[39m\u001b[39mNone\u001b[39;00m, proxy\u001b[39m=\u001b[39m\u001b[39mNone\u001b[39;00m, timeout\u001b[39m=\u001b[39m\u001b[39m30\u001b[39m):\n\u001b[0;32m     74\u001b[0m     response \u001b[39m=\u001b[39m \u001b[39mself\u001b[39m\u001b[39m.\u001b[39mget(url, user_agent_headers\u001b[39m=\u001b[39muser_agent_headers, params\u001b[39m=\u001b[39mparams, proxy\u001b[39m=\u001b[39mproxy, timeout\u001b[39m=\u001b[39mtimeout)\n\u001b[1;32m---> 75\u001b[0m     response\u001b[39m.\u001b[39mraise_for_status()\n\u001b[0;32m     76\u001b[0m     \u001b[39mreturn\u001b[39;00m response\u001b[39m.\u001b[39mjson()\n",
      "File \u001b[1;32md:\\anaconda3\\Lib\\site-packages\\requests\\models.py:1021\u001b[0m, in \u001b[0;36mResponse.raise_for_status\u001b[1;34m(self)\u001b[0m\n\u001b[0;32m   1016\u001b[0m     http_error_msg \u001b[39m=\u001b[39m (\n\u001b[0;32m   1017\u001b[0m         \u001b[39mf\u001b[39m\u001b[39m\"\u001b[39m\u001b[39m{\u001b[39;00m\u001b[39mself\u001b[39m\u001b[39m.\u001b[39mstatus_code\u001b[39m}\u001b[39;00m\u001b[39m Server Error: \u001b[39m\u001b[39m{\u001b[39;00mreason\u001b[39m}\u001b[39;00m\u001b[39m for url: \u001b[39m\u001b[39m{\u001b[39;00m\u001b[39mself\u001b[39m\u001b[39m.\u001b[39murl\u001b[39m}\u001b[39;00m\u001b[39m\"\u001b[39m\n\u001b[0;32m   1018\u001b[0m     )\n\u001b[0;32m   1020\u001b[0m \u001b[39mif\u001b[39;00m http_error_msg:\n\u001b[1;32m-> 1021\u001b[0m     \u001b[39mraise\u001b[39;00m HTTPError(http_error_msg, response\u001b[39m=\u001b[39m\u001b[39mself\u001b[39m)\n",
      "\u001b[1;31mHTTPError\u001b[0m: 404 Client Error: Not Found for url: https://query2.finance.yahoo.com/v6/finance/quoteSummary/MMM?modules=financialData&modules=quoteType&modules=defaultKeyStatistics&modules=assetProfile&modules=summaryDetail&ssl=true"
     ]
    }
   ],
   "source": [
    "tickers_data= {} # empty dictionary\n",
    "\n",
    "for ticker in tickers_list:\n",
    "    ticker_object = yf.Ticker(ticker)\n",
    "\n",
    "    #convert info() output from dictionary to dataframe\n",
    "    temp = pd.DataFrame.from_dict(ticker_object.info, orient=\"index\")\n",
    "    temp.reset_index(inplace=True)\n",
    "    temp.columns = [\"Attribute\", \"Recent\"]\n",
    "\n",
    "    # add (ticker, dataframe) to main dictionary\n",
    "    tickers_data[ticker] = temp\n",
    "\n",
    "tickers_data"
   ]
  },
  {
   "cell_type": "code",
   "execution_count": null,
   "metadata": {},
   "outputs": [
    {
     "ename": "KeyError",
     "evalue": "'MMM'",
     "output_type": "error",
     "traceback": [
      "\u001b[1;31m---------------------------------------------------------------------------\u001b[0m",
      "\u001b[1;31mKeyError\u001b[0m                                  Traceback (most recent call last)",
      "\u001b[1;32mc:\\Users\\yagmu\\OneDrive\\Desktop\\Classes\\MS Finance\\Advanced Financial Data Analysis (6070)\\Class 2\\Topic_3_Weighting,_Value,_and_Momentum (1).ipynb Cell 40\u001b[0m line \u001b[0;36m1\n\u001b[1;32m----> <a href='vscode-notebook-cell:/c%3A/Users/yagmu/OneDrive/Desktop/Classes/MS%20Finance/Advanced%20Financial%20Data%20Analysis%20%286070%29/Class%202/Topic_3_Weighting%2C_Value%2C_and_Momentum%20%281%29.ipynb#X54sZmlsZQ%3D%3D?line=0'>1</a>\u001b[0m tickers_data[\u001b[39m'\u001b[39m\u001b[39mMMM\u001b[39m\u001b[39m'\u001b[39m][\u001b[39m'\u001b[39m\u001b[39mAttribute\u001b[39m\u001b[39m'\u001b[39m]\u001b[39m.\u001b[39mtolist()\n",
      "\u001b[1;31mKeyError\u001b[0m: 'MMM'"
     ]
    }
   ],
   "source": [
    "tickers_data['MMM']['Attribute'].tolist()"
   ]
  },
  {
   "cell_type": "code",
   "execution_count": null,
   "metadata": {
    "colab": {
     "base_uri": "https://localhost:8080/",
     "height": 143
    },
    "id": "3UDNUGboYrj0",
    "outputId": "9ff0881d-81c3-4ef5-8cb6-ee1ae01d893c"
   },
   "outputs": [],
   "source": [
    "combined_data = pd.concat(tickers_data)\n",
    "combined_data = combined_data.reset_index()\n",
    "combined_data.sample(3)"
   ]
  },
  {
   "cell_type": "code",
   "execution_count": null,
   "metadata": {
    "colab": {
     "base_uri": "https://localhost:8080/"
    },
    "id": "IhseavzCYrj-",
    "outputId": "e776da04-6088-46df-cf32-0d606c40ea5c"
   },
   "outputs": [],
   "source": [
    "combined_data.info()"
   ]
  },
  {
   "cell_type": "code",
   "execution_count": null,
   "metadata": {
    "colab": {
     "base_uri": "https://localhost:8080/",
     "height": 143
    },
    "id": "ycxIsmbgYrj_",
    "outputId": "e76abaea-9e8b-4af6-e785-ae9f3e98c35f"
   },
   "outputs": [],
   "source": [
    "combined_data.drop(columns = \"level_1\", inplace = True) # clean up unnecessary column\n",
    "combined_data.columns = [\"Ticker\", \"Attribute\", \"Value\"] # update column names\n",
    "\n",
    "combined_data.sample(3)"
   ]
  },
  {
   "cell_type": "code",
   "execution_count": null,
   "metadata": {
    "colab": {
     "base_uri": "https://localhost:8080/",
     "height": 363
    },
    "id": "N7b_ajNqYrj_",
    "outputId": "6320f17f-dfdf-4919-d884-a745f60b7c58"
   },
   "outputs": [],
   "source": [
    "combined_data.head(10)"
   ]
  },
  {
   "cell_type": "code",
   "execution_count": null,
   "metadata": {
    "colab": {
     "base_uri": "https://localhost:8080/",
     "height": 424
    },
    "id": "oJKHNeRkYrj_",
    "outputId": "f919a4a5-2096-4ec8-9bdd-c80307e58ebe"
   },
   "outputs": [],
   "source": [
    "# Keep only the variables we are interested in here or in our next step\n",
    "\n",
    "combined_data = combined_data.loc[(combined_data['Attribute'] == 'open') |\n",
    "                                 (combined_data['Attribute'] == 'forwardPE') |\n",
    "                                 (combined_data['Attribute'] == 'priceToBook') |\n",
    "                                 (combined_data['Attribute'] == 'priceToSalesTrailing12Months') |\n",
    "                                 (combined_data['Attribute'] == 'enterpriseToEbitda')]\n",
    "combined_data"
   ]
  },
  {
   "cell_type": "code",
   "execution_count": null,
   "metadata": {
    "id": "UuHchRusYrj_"
   },
   "outputs": [],
   "source": [
    "# Reformat our data so that we can more easily work with it\n",
    "\n",
    "combined_data = combined_data.pivot(index = 'Ticker', columns = 'Attribute', values = 'Value').reset_index()"
   ]
  },
  {
   "cell_type": "code",
   "execution_count": null,
   "metadata": {
    "colab": {
     "base_uri": "https://localhost:8080/",
     "height": 206
    },
    "id": "ep1aCDF_Yrj_",
    "outputId": "1543ba80-89ae-485a-c55c-96378c4bdc78"
   },
   "outputs": [],
   "source": [
    "combined_data.sample(5)"
   ]
  },
  {
   "cell_type": "code",
   "execution_count": null,
   "metadata": {
    "colab": {
     "base_uri": "https://localhost:8080/",
     "height": 206
    },
    "id": "ul7kBX7mYrj_",
    "outputId": "129e2f34-1db6-400f-ffb1-00e97e3ba5fe"
   },
   "outputs": [],
   "source": [
    "combined_data.rename(columns={'open': 'Price',\n",
    "                              'forwardPE': 'Price-to-Earnings Ratio',\n",
    "                              'priceToBook': 'Price-to-Book Ratio',\n",
    "                              'priceToSalesTrailing12Months': 'Price-to-Sales Ratio',\n",
    "                              'enterpriseToEbitda': 'EV-to-EBITDA'}, inplace=True)\n",
    "\n",
    "combined_data = combined_data.rename_axis(None, axis=1)\n",
    "combined_data.head()"
   ]
  },
  {
   "cell_type": "code",
   "execution_count": null,
   "metadata": {
    "colab": {
     "base_uri": "https://localhost:8080/"
    },
    "id": "oIqXJQjOYrj_",
    "outputId": "357de704-e23a-4f0a-a3e8-66eee26c2521"
   },
   "outputs": [],
   "source": [
    "# Notice that our data is all formatted as objects\n",
    "\n",
    "combined_data.info()"
   ]
  },
  {
   "cell_type": "code",
   "execution_count": null,
   "metadata": {
    "colab": {
     "base_uri": "https://localhost:8080/"
    },
    "id": "aaJ3J1u8Yrj_",
    "outputId": "356cb750-b146-4065-c3ea-dec23eda9a21"
   },
   "outputs": [],
   "source": [
    "for i in combined_data:\n",
    "    if i != 'Ticker':\n",
    "        combined_data[i] = combined_data[i].astype('float')\n",
    "\n",
    "combined_data.info()"
   ]
  },
  {
   "cell_type": "code",
   "execution_count": null,
   "metadata": {
    "colab": {
     "base_uri": "https://localhost:8080/"
    },
    "id": "dlin1JipYrj_",
    "outputId": "2d7d3de3-754b-48e4-c638-8605c4f7e574"
   },
   "outputs": [],
   "source": [
    "# We will drop observations that are missing for this analysis\n",
    "\n",
    "combined_data = combined_data.dropna()\n",
    "combined_data.info()"
   ]
  },
  {
   "cell_type": "code",
   "execution_count": null,
   "metadata": {
    "colab": {
     "base_uri": "https://localhost:8080/",
     "height": 833
    },
    "id": "q2T0MckEYrj_",
    "outputId": "4e94600f-2403-4599-dda6-d9d2642d7037"
   },
   "outputs": [],
   "source": [
    "# In this section we will focus on the PE ratio.\n",
    "\n",
    "final_dataframe = combined_data[['Ticker', 'Price', 'Price-to-Earnings Ratio']].copy(deep=True)\n",
    "final_dataframe['Number of Shares to Buy'] = 'N/A'\n",
    "final_dataframe"
   ]
  },
  {
   "cell_type": "markdown",
   "metadata": {
    "id": "EtNOa3lyYrj_"
   },
   "source": [
    "### b. Remove some growth stocks to narrow down our sample"
   ]
  },
  {
   "cell_type": "code",
   "execution_count": null,
   "metadata": {
    "id": "2_xwD0h2Yrj_"
   },
   "outputs": [],
   "source": [
    "# We will consider dropping any negative PE ratio stocks and by keeping only the 15 highest PE ratios.\n",
    "\n",
    "final_dataframe.sort_values('Price-to-Earnings Ratio', inplace = True)\n",
    "final_dataframe = final_dataframe[final_dataframe['Price-to-Earnings Ratio'] > 0]\n",
    "final_dataframe = final_dataframe[:15]\n",
    "final_dataframe.reset_index(inplace = True)\n",
    "final_dataframe.drop('index', axis=1, inplace = True)"
   ]
  },
  {
   "cell_type": "code",
   "execution_count": null,
   "metadata": {
    "colab": {
     "base_uri": "https://localhost:8080/",
     "height": 520
    },
    "id": "AX85OkghYrj_",
    "outputId": "022f0cf8-c243-4f1a-ff16-86351b1f4d66"
   },
   "outputs": [],
   "source": [
    "final_dataframe"
   ]
  },
  {
   "cell_type": "markdown",
   "metadata": {
    "id": "dvhai6a0Yrj_"
   },
   "source": [
    "### c. Calculate the number of shares to buy\n",
    "We will create a function here so that we do not have to keep using this code to get the investment amount."
   ]
  },
  {
   "cell_type": "code",
   "execution_count": null,
   "metadata": {
    "colab": {
     "base_uri": "https://localhost:8080/"
    },
    "id": "dZkZRPGvYrj_",
    "outputId": "e194205c-b800-47f1-f431-e1801ab95ff5"
   },
   "outputs": [],
   "source": [
    "def portfolio_input():\n",
    "    global portfolio_size # allows us to use this value outside of the function\n",
    "    portfolio_size = input(\"Enter the value of your portfolio:\")\n",
    "\n",
    "    try:\n",
    "        val = float(portfolio_size)\n",
    "        print(val)\n",
    "    except ValueError:\n",
    "        print('Please enter an integer value.')\n",
    "        portfolio_size = input('How much money are you investing:')\n",
    "        val = float(portfolio_size)\n",
    "        print(val)\n",
    "\n",
    "portfolio_input()"
   ]
  },
  {
   "cell_type": "code",
   "execution_count": null,
   "metadata": {
    "colab": {
     "base_uri": "https://localhost:8080/",
     "height": 520
    },
    "id": "iOEl9cq_YrkA",
    "outputId": "66a5a589-4f63-40e6-b702-445b119639a1"
   },
   "outputs": [],
   "source": [
    "position_size = float(portfolio_size) / len(final_dataframe.index)\n",
    "\n",
    "for i in range(0, len(final_dataframe['Ticker'])):\n",
    "    final_dataframe.loc[i, 'Number of Shares to Buy'] = math.floor(position_size / final_dataframe['Price'][i])\n",
    "\n",
    "final_dataframe"
   ]
  },
  {
   "cell_type": "markdown",
   "metadata": {
    "id": "_znLulIcYrkA"
   },
   "source": [
    "### d. A more comprehensive approach\n",
    "- The PE ratio (and every other valuation) has unique flaws\n",
    "- For example, the PE ratio does not work well with negative values\n",
    "- Stocks that buyback their own shares are difficult to value using the price-to-book ratio\n",
    "- We will instead use a basket of valuation measures including:\n",
    "    - Price-to-earnings\n",
    "    - Price-to-book\n",
    "    - Price-to-sales\n",
    "    - Enterprise value over earnings before interest, tax, depreciation, and amortization\n",
    "- Not all of these values are available so we must calculate some of them"
   ]
  },
  {
   "cell_type": "code",
   "execution_count": null,
   "metadata": {
    "colab": {
     "base_uri": "https://localhost:8080/",
     "height": 833
    },
    "id": "tWCQO-M0YrkA",
    "outputId": "9d774a68-e59e-4339-e4d9-ee2bddca9e34"
   },
   "outputs": [],
   "source": [
    "final_dataframe = combined_data.copy()\n",
    "final_dataframe['Number of Shares to Buy'] = 'N/A'\n",
    "final_dataframe"
   ]
  },
  {
   "cell_type": "markdown",
   "metadata": {
    "id": "0RkX-vpfYrkA"
   },
   "source": [
    "### e. Calculating ranks for each new measures\n",
    "We must now rank each of these securities so that we can ultimately create a combined score that incorporates all four measures into one aggregate score."
   ]
  },
  {
   "cell_type": "code",
   "execution_count": null,
   "metadata": {
    "colab": {
     "base_uri": "https://localhost:8080/",
     "height": 851
    },
    "id": "5DoWRkJnYrkA",
    "outputId": "3910fc90-2aa7-405c-b159-c8ba75d0c5e0"
   },
   "outputs": [],
   "source": [
    "# agg_final will be a new dataframe that contains the measures for our aggregate scores\n",
    "\n",
    "agg_final = final_dataframe.copy(deep=True)\n",
    "\n",
    "metrics = {\n",
    "            'Price-to-Earnings Ratio': 'PE Percentile',\n",
    "            'Price-to-Book Ratio':'PB Percentile',\n",
    "            'Price-to-Sales Ratio': 'PS Percentile',\n",
    "            'EV-to-EBITDA':'EV/EBITDA Percentile'\n",
    "} # Label our new ranking variables with key:value pairs\n",
    "\n",
    "for row in agg_final.index:\n",
    "    for i in metrics.keys():\n",
    "        # Loop through all of our measures (keys) and calculate the percentile ranking and save it as a new variable (values)\n",
    "        agg_final.loc[row, metrics[i]] = stats.percentileofscore(agg_final[i], agg_final.loc[row, i])/100\n",
    "\n",
    "#Print the entire DataFrame\n",
    "agg_final"
   ]
  },
  {
   "cell_type": "markdown",
   "metadata": {
    "id": "xqk9pUZCYrkA"
   },
   "source": [
    "### f. Combining our scores into a new variable\n",
    "We will now calculate our AGG_Score which is what we will use to filter stocks for our value investment strategy. AGG_Score will be a simple average of the four ranking values we just calculated."
   ]
  },
  {
   "cell_type": "code",
   "execution_count": null,
   "metadata": {
    "colab": {
     "base_uri": "https://localhost:8080/",
     "height": 851
    },
    "id": "Pzo9iZQcYrkA",
    "outputId": "95d5fe68-b5b3-423b-aca1-8b21e72852f9"
   },
   "outputs": [],
   "source": [
    "# Import a new library to calculate the mean values\n",
    "from statistics import mean\n",
    "\n",
    "for row in agg_final.index: # Iterate over each row in our datafarme\n",
    "    value_ranks = [] # Create an empty list to store percentile rankings\n",
    "    for i in metrics.keys():\n",
    "        value_ranks.append(agg_final.loc[row, metrics[i]]) # Append each rows rankings to the empty list\n",
    "    agg_final.loc[row, ' AGG_Score'] = mean(value_ranks) # Calculate the average of all rankings\n",
    "\n",
    "agg_final"
   ]
  },
  {
   "cell_type": "code",
   "execution_count": null,
   "metadata": {
    "colab": {
     "base_uri": "https://localhost:8080/",
     "height": 694
    },
    "id": "8sUMwotHYrkA",
    "outputId": "7f4f6621-c6b1-4427-b888-00dd3e530cae"
   },
   "outputs": [],
   "source": [
    "# Retain only the lowest 20 possible stocks to invest in\n",
    "\n",
    "agg_final.sort_values(by = ' AGG_Score', inplace = True)\n",
    "agg_final = agg_final[:20]\n",
    "agg_final.reset_index(drop = True, inplace = True)\n",
    "agg_final"
   ]
  },
  {
   "cell_type": "markdown",
   "metadata": {
    "id": "uahdMGWDYrkA"
   },
   "source": [
    "### g. Determine the number of shares to purchase if we equally weight our portfolio"
   ]
  },
  {
   "cell_type": "code",
   "execution_count": null,
   "metadata": {
    "colab": {
     "base_uri": "https://localhost:8080/"
    },
    "id": "UGTNxUcYYrkA",
    "outputId": "0eb1db2e-3478-4250-ad4d-8d6132881a84"
   },
   "outputs": [],
   "source": [
    "# Determine portfolio investment size\n",
    "\n",
    "portfolio_input()"
   ]
  },
  {
   "cell_type": "code",
   "execution_count": null,
   "metadata": {
    "colab": {
     "base_uri": "https://localhost:8080/"
    },
    "id": "tgLkVeagYrkA",
    "outputId": "c4df1d0f-6ac7-4352-ea1e-33ee41f20a3d"
   },
   "outputs": [],
   "source": [
    "position_size = float(portfolio_size) / len(agg_final.index)\n",
    "position_size"
   ]
  },
  {
   "cell_type": "code",
   "execution_count": null,
   "metadata": {
    "colab": {
     "base_uri": "https://localhost:8080/",
     "height": 694
    },
    "id": "13oobXI2YrkA",
    "outputId": "6b4b1d11-1e9f-4a95-f53e-087edef9b0e8"
   },
   "outputs": [],
   "source": [
    "for i in range(0, len(agg_final)):\n",
    "    agg_final.loc[i, 'Number of Shares to Buy'] = math.floor(position_size / agg_final.loc[i, 'Price'])\n",
    "agg_final"
   ]
  },
  {
   "cell_type": "markdown",
   "metadata": {
    "id": "jv5PNzfwYrkA"
   },
   "source": [
    "### h. Create a formatted output"
   ]
  },
  {
   "cell_type": "code",
   "execution_count": null,
   "metadata": {
    "id": "8de0sXuUYrkA"
   },
   "outputs": [],
   "source": [
    "writer = pd.ExcelWriter('Value_Agg_trades.xlsx', engine='xlsxwriter')\n",
    "agg_final.to_excel(writer, sheet_name='V Recommended Trades', index = False)"
   ]
  },
  {
   "cell_type": "code",
   "execution_count": null,
   "metadata": {
    "id": "7MAp91smYrkA"
   },
   "outputs": [],
   "source": [
    "# I would copy and paste this section rather than trying to learn all of the formatting options.\n",
    "# This time we will make the number of shares to purchase a different color to draw attention to that column.\n",
    "\n",
    "background_color = '#0a0a23'\n",
    "font_color = '#ffffff'\n",
    "\n",
    "string_template = writer.book.add_format({'font_color': font_color,'bg_color': background_color,'border': 1})\n",
    "dollar_template = writer.book.add_format({'num_format':'$0.00','font_color': font_color,'bg_color': background_color,'border': 1})\n",
    "integer_template = writer.book.add_format({'num_format':'0','font_color': font_color,'bg_color': '#A9A9A9','border': 1})\n",
    "float_template = writer.book.add_format({'num_format':'0.00','font_color': font_color,'bg_color': background_color,'border': 1})"
   ]
  },
  {
   "cell_type": "code",
   "execution_count": null,
   "metadata": {
    "id": "ctmF7rN2YrkB"
   },
   "outputs": [],
   "source": [
    "column_formats = {\n",
    "                    'A': ['Ticker', string_template],\n",
    "                    'B': ['Price', dollar_template],\n",
    "                    'C': ['EV-to-EBITDA', float_template],\n",
    "                    'D': ['Price-to-Earnings Ratio', float_template],\n",
    "                    'E': ['Price-to-Book Ratio', float_template],\n",
    "                    'F': ['Price-to-Sales Ratio', float_template],\n",
    "                    'G': ['Number of Shares to Buy', integer_template],\n",
    "                    'H': ['PE Percentile', float_template],\n",
    "                    'I': ['PB Percentile', float_template],\n",
    "                    'J': ['PS Percentile', float_template],\n",
    "                    'K': ['EV/EBITDA Percentile', float_template],\n",
    "                    'L': ['AGG_SCORE', float_template],\n",
    "                 }\n",
    "\n",
    "for column in column_formats.keys():\n",
    "    writer.sheets['V Recommended Trades'].set_column(f'{column}:{column}', 20, column_formats[column][1])\n",
    "    writer.sheets['V Recommended Trades'].write(f'{column}1', column_formats[column][0], string_template)"
   ]
  },
  {
   "cell_type": "code",
   "execution_count": null,
   "metadata": {
    "id": "B3XXRtEZYrkB"
   },
   "outputs": [],
   "source": [
    "# Is the output pretty? No, but you can play around with the formatting options to change that if you would like.\n",
    "writer.save()"
   ]
  },
  {
   "cell_type": "code",
   "execution_count": null,
   "metadata": {
    "id": "VVtVdiHPYrkB"
   },
   "outputs": [],
   "source": []
  },
  {
   "cell_type": "code",
   "execution_count": null,
   "metadata": {
    "id": "S2dnRpr-YrkB"
   },
   "outputs": [],
   "source": []
  }
 ],
 "metadata": {
  "colab": {
   "provenance": []
  },
  "kernelspec": {
   "display_name": "Python 3 (ipykernel)",
   "language": "python",
   "name": "python3"
  },
  "language_info": {
   "codemirror_mode": {
    "name": "ipython",
    "version": 3
   },
   "file_extension": ".py",
   "mimetype": "text/x-python",
   "name": "python",
   "nbconvert_exporter": "python",
   "pygments_lexer": "ipython3",
   "version": "3.11.5"
  }
 },
 "nbformat": 4,
 "nbformat_minor": 1
}
