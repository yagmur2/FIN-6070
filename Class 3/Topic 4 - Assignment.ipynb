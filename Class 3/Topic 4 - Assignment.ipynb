{
 "cells": [
  {
   "cell_type": "markdown",
   "metadata": {},
   "source": [
    "# Topic 4 Assignemnt\n",
    "For this assignment, there is only one question. You are responsible for completing all of the steps that you believe are required to fully answer that question based on the notes for Topic 4. You must provide insights throughout the analysis as well as a conclusion.\n",
    "\n",
    "***This is a very DIFFICULT assignment. Please work through it the best that you can and try to think through the required steps, particularly during the second half.***\n",
    "\n",
    "***Assignments should be uploaded in two formats to D2L. The first format is the .ipynb file that contains your code. The second format is an html file that you can obtain by File > Download As > HTML (.html).***"
   ]
  },
  {
   "cell_type": "markdown",
   "metadata": {},
   "source": [
    "## Question 1\n",
    "\n",
    "**Data Description:**\n",
    "You will be responsible for downloading the data you need from Yahoo Finance.\n",
    "\n",
    "**Context:**\n",
    "You have just joined a portfolio management team here at MTSU Investment Advisors. As your first task, the team manager has asked you to complete the following project and report back. You must create a portfolio, determine the optimal weights for the portfolio by iterating through random weighting options, plot the efficient frontier, and use various portfolio performance metrics to determine if the portfolio is suitable for investment.\n",
    "\n",
    "**Objective:**\n",
    "- Select 3 securities to include in the portfolio and include at least 3 years of data.\n",
    "- Obtain price data from Yahoo Finance and be sure to also obtain data for SPY to use as your market.\n",
    "- Calculate portfolio returns and risk.\n",
    "- Calcualte the portfolio risk if you invested in all 3 securities (not just 2 of the 3).\n",
    "- Selecting just 2 of your 3 securities, create random portfolio weights and complete the remaining steps. You must invest at lest 85% of your portfolio in one of the securities. You can do this by using `import random` and then `random.uniform(lower bound, upper bound)` to ensure your random weight falls between the values of 85% and 100%.\n",
    "- Identify the optimal portfolio\n",
    "- Plot the Efficient Frontier - how does the requirement of 85% invested in one stock impact the efficient frontier?\n",
    "- Make a second efficient frontier that does not have this same requirement - does this plot look more as your expected?\n",
    "- Examine at least 3 different portfolio performance metrics - assume a risk free rate of 1%. You must compare the performance of your portfolio to the performance of the market as a benchmark.\n",
    "- Determine if the portfolio is worth investing in relative to the alternative of investing in the market portfolio."
   ]
  },
  {
   "cell_type": "markdown",
   "metadata": {},
   "source": [
    "### Answer to Question 1"
   ]
  },
  {
   "cell_type": "markdown",
   "metadata": {},
   "source": [
    "#### Hint 1: Import Libraries"
   ]
  },
  {
   "cell_type": "code",
   "execution_count": 128,
   "metadata": {},
   "outputs": [],
   "source": [
    "import pandas as pd\n",
    "import math\n",
    "import numpy as np\n",
    "import yfinance as yf\n",
    "import matplotlib.pyplot as plt\n",
    "import statsmodels.api as sm"
   ]
  },
  {
   "cell_type": "markdown",
   "metadata": {},
   "source": [
    "#### Hint 2: Obtain stock returns for 3 stocks + SPY using yfinance"
   ]
  },
  {
   "cell_type": "code",
   "execution_count": 129,
   "metadata": {},
   "outputs": [
    {
     "name": "stdout",
     "output_type": "stream",
     "text": [
      "[*********************100%%**********************]  4 of 4 completed\n"
     ]
    },
    {
     "data": {
      "text/html": [
       "<div>\n",
       "<style scoped>\n",
       "    .dataframe tbody tr th:only-of-type {\n",
       "        vertical-align: middle;\n",
       "    }\n",
       "\n",
       "    .dataframe tbody tr th {\n",
       "        vertical-align: top;\n",
       "    }\n",
       "\n",
       "    .dataframe thead th {\n",
       "        text-align: right;\n",
       "    }\n",
       "</style>\n",
       "<table border=\"1\" class=\"dataframe\">\n",
       "  <thead>\n",
       "    <tr style=\"text-align: right;\">\n",
       "      <th></th>\n",
       "      <th>AAPL</th>\n",
       "      <th>GOOG</th>\n",
       "      <th>MSFT</th>\n",
       "      <th>SPY</th>\n",
       "    </tr>\n",
       "    <tr>\n",
       "      <th>Date</th>\n",
       "      <th></th>\n",
       "      <th></th>\n",
       "      <th></th>\n",
       "      <th></th>\n",
       "    </tr>\n",
       "  </thead>\n",
       "  <tbody>\n",
       "    <tr>\n",
       "      <th>2018-01-02</th>\n",
       "      <td>40.670975</td>\n",
       "      <td>53.250000</td>\n",
       "      <td>80.229012</td>\n",
       "      <td>243.072250</td>\n",
       "    </tr>\n",
       "    <tr>\n",
       "      <th>2018-01-03</th>\n",
       "      <td>40.663891</td>\n",
       "      <td>54.124001</td>\n",
       "      <td>80.602379</td>\n",
       "      <td>244.609772</td>\n",
       "    </tr>\n",
       "    <tr>\n",
       "      <th>2018-01-04</th>\n",
       "      <td>40.852776</td>\n",
       "      <td>54.320000</td>\n",
       "      <td>81.311813</td>\n",
       "      <td>245.640717</td>\n",
       "    </tr>\n",
       "    <tr>\n",
       "      <th>2018-01-05</th>\n",
       "      <td>41.317902</td>\n",
       "      <td>55.111500</td>\n",
       "      <td>82.319901</td>\n",
       "      <td>247.277664</td>\n",
       "    </tr>\n",
       "    <tr>\n",
       "      <th>2018-01-08</th>\n",
       "      <td>41.164433</td>\n",
       "      <td>55.347000</td>\n",
       "      <td>82.403915</td>\n",
       "      <td>247.729874</td>\n",
       "    </tr>\n",
       "  </tbody>\n",
       "</table>\n",
       "</div>"
      ],
      "text/plain": [
       "                 AAPL       GOOG       MSFT         SPY\n",
       "Date                                                   \n",
       "2018-01-02  40.670975  53.250000  80.229012  243.072250\n",
       "2018-01-03  40.663891  54.124001  80.602379  244.609772\n",
       "2018-01-04  40.852776  54.320000  81.311813  245.640717\n",
       "2018-01-05  41.317902  55.111500  82.319901  247.277664\n",
       "2018-01-08  41.164433  55.347000  82.403915  247.729874"
      ]
     },
     "execution_count": 129,
     "metadata": {},
     "output_type": "execute_result"
    }
   ],
   "source": [
    "tickers_list = ['AAPL', 'GOOG', 'MSFT', 'SPY']\n",
    "stock_prices = yf.download(tickers_list, start='2018-01-01', end='2023-12-31')['Adj Close']\n",
    "stock_prices.index = pd.to_datetime(stock_prices.index)\n",
    "\n",
    "stock_prices.head()"
   ]
  },
  {
   "cell_type": "code",
   "execution_count": 130,
   "metadata": {},
   "outputs": [
    {
     "data": {
      "text/html": [
       "<div>\n",
       "<style scoped>\n",
       "    .dataframe tbody tr th:only-of-type {\n",
       "        vertical-align: middle;\n",
       "    }\n",
       "\n",
       "    .dataframe tbody tr th {\n",
       "        vertical-align: top;\n",
       "    }\n",
       "\n",
       "    .dataframe thead th {\n",
       "        text-align: right;\n",
       "    }\n",
       "</style>\n",
       "<table border=\"1\" class=\"dataframe\">\n",
       "  <thead>\n",
       "    <tr style=\"text-align: right;\">\n",
       "      <th></th>\n",
       "      <th>AAPL</th>\n",
       "      <th>GOOG</th>\n",
       "      <th>MSFT</th>\n",
       "      <th>SPY</th>\n",
       "    </tr>\n",
       "    <tr>\n",
       "      <th>Date</th>\n",
       "      <th></th>\n",
       "      <th></th>\n",
       "      <th></th>\n",
       "      <th></th>\n",
       "    </tr>\n",
       "  </thead>\n",
       "  <tbody>\n",
       "    <tr>\n",
       "      <th>2018-01-03</th>\n",
       "      <td>-0.000174</td>\n",
       "      <td>0.016413</td>\n",
       "      <td>0.004654</td>\n",
       "      <td>0.006325</td>\n",
       "    </tr>\n",
       "    <tr>\n",
       "      <th>2018-01-04</th>\n",
       "      <td>0.004645</td>\n",
       "      <td>0.003621</td>\n",
       "      <td>0.008802</td>\n",
       "      <td>0.004215</td>\n",
       "    </tr>\n",
       "    <tr>\n",
       "      <th>2018-01-05</th>\n",
       "      <td>0.011385</td>\n",
       "      <td>0.014571</td>\n",
       "      <td>0.012398</td>\n",
       "      <td>0.006664</td>\n",
       "    </tr>\n",
       "    <tr>\n",
       "      <th>2018-01-08</th>\n",
       "      <td>-0.003714</td>\n",
       "      <td>0.004273</td>\n",
       "      <td>0.001021</td>\n",
       "      <td>0.001829</td>\n",
       "    </tr>\n",
       "    <tr>\n",
       "      <th>2018-01-09</th>\n",
       "      <td>-0.000115</td>\n",
       "      <td>-0.000614</td>\n",
       "      <td>-0.000680</td>\n",
       "      <td>0.002264</td>\n",
       "    </tr>\n",
       "    <tr>\n",
       "      <th>...</th>\n",
       "      <td>...</td>\n",
       "      <td>...</td>\n",
       "      <td>...</td>\n",
       "      <td>...</td>\n",
       "    </tr>\n",
       "    <tr>\n",
       "      <th>2023-12-22</th>\n",
       "      <td>-0.005547</td>\n",
       "      <td>0.006488</td>\n",
       "      <td>0.002784</td>\n",
       "      <td>0.002010</td>\n",
       "    </tr>\n",
       "    <tr>\n",
       "      <th>2023-12-26</th>\n",
       "      <td>-0.002841</td>\n",
       "      <td>0.000701</td>\n",
       "      <td>0.000214</td>\n",
       "      <td>0.004223</td>\n",
       "    </tr>\n",
       "    <tr>\n",
       "      <th>2023-12-27</th>\n",
       "      <td>0.000518</td>\n",
       "      <td>-0.009663</td>\n",
       "      <td>-0.001575</td>\n",
       "      <td>0.001808</td>\n",
       "    </tr>\n",
       "    <tr>\n",
       "      <th>2023-12-28</th>\n",
       "      <td>0.002226</td>\n",
       "      <td>-0.001131</td>\n",
       "      <td>0.003235</td>\n",
       "      <td>0.000378</td>\n",
       "    </tr>\n",
       "    <tr>\n",
       "      <th>2023-12-29</th>\n",
       "      <td>-0.005424</td>\n",
       "      <td>-0.002477</td>\n",
       "      <td>0.002025</td>\n",
       "      <td>-0.002895</td>\n",
       "    </tr>\n",
       "  </tbody>\n",
       "</table>\n",
       "<p>1508 rows × 4 columns</p>\n",
       "</div>"
      ],
      "text/plain": [
       "                AAPL      GOOG      MSFT       SPY\n",
       "Date                                              \n",
       "2018-01-03 -0.000174  0.016413  0.004654  0.006325\n",
       "2018-01-04  0.004645  0.003621  0.008802  0.004215\n",
       "2018-01-05  0.011385  0.014571  0.012398  0.006664\n",
       "2018-01-08 -0.003714  0.004273  0.001021  0.001829\n",
       "2018-01-09 -0.000115 -0.000614 -0.000680  0.002264\n",
       "...              ...       ...       ...       ...\n",
       "2023-12-22 -0.005547  0.006488  0.002784  0.002010\n",
       "2023-12-26 -0.002841  0.000701  0.000214  0.004223\n",
       "2023-12-27  0.000518 -0.009663 -0.001575  0.001808\n",
       "2023-12-28  0.002226 -0.001131  0.003235  0.000378\n",
       "2023-12-29 -0.005424 -0.002477  0.002025 -0.002895\n",
       "\n",
       "[1508 rows x 4 columns]"
      ]
     },
     "execution_count": 130,
     "metadata": {},
     "output_type": "execute_result"
    }
   ],
   "source": [
    "price_return = stock_prices.pct_change()\n",
    "price_return.dropna(inplace=True)\n",
    "\n",
    "price_return"
   ]
  },
  {
   "cell_type": "code",
   "execution_count": 131,
   "metadata": {},
   "outputs": [
    {
     "data": {
      "text/plain": [
       "AAPL    0.309906\n",
       "GOOG    0.211479\n",
       "MSFT    0.303639\n",
       "SPY     0.132968\n",
       "dtype: float64"
      ]
     },
     "execution_count": 131,
     "metadata": {},
     "output_type": "execute_result"
    }
   ],
   "source": [
    "annual_return = price_return.mean()*252\n",
    "\n",
    "annual_return"
   ]
  },
  {
   "cell_type": "code",
   "execution_count": 132,
   "metadata": {},
   "outputs": [
    {
     "data": {
      "text/plain": [
       "AAPL    0.316770\n",
       "GOOG    0.312258\n",
       "MSFT    0.301238\n",
       "SPY     0.203887\n",
       "dtype: float64"
      ]
     },
     "execution_count": 132,
     "metadata": {},
     "output_type": "execute_result"
    }
   ],
   "source": [
    "annual_sd = price_return.std()*math.sqrt(252)\n",
    "\n",
    "annual_sd"
   ]
  },
  {
   "cell_type": "markdown",
   "metadata": {},
   "source": [
    "#### Hint 3: Calculate portfolio returns and risk assuming a simple split of 33%, 33%, and 34% invested in each stock. \n",
    "You will need the covariance between each pair of securities in this part (ie. AMZN/DIS, AMZN/WMT, and DIS/WMT). This will extend out the formula for the portfolio standard deviation. Try to think through how this will change your formula from 2 stocks as we examined in the notes. Remember that you will need to extent the formula by including the weights of each security/pair and the covariance between that pair on the end of the formula. This will be the biggest challenge of this assignment. There are more efficient ways to do this calculate, but those are better saved for a portfolio theory course. For now, just calculate 3 separate covariance variables for each of the 3 pairs of securities."
   ]
  },
  {
   "cell_type": "code",
   "execution_count": 133,
   "metadata": {},
   "outputs": [
    {
     "name": "stdout",
     "output_type": "stream",
     "text": [
      "The covariance of AAPL and GOOG:  0.0667\n",
      "The covariance of AAPL and MSFT:  0.0716\n",
      "The covariance of GOOG and MSFT:  0.0719\n",
      "The portfolio return: 27.53%.\n",
      "The portfolio standard deviation: 17.91%.\n"
     ]
    }
   ],
   "source": [
    "# Weights of each stock\n",
    "wx = .33\n",
    "wy = .33\n",
    "wz = .34\n",
    "\n",
    "# Covariance of x and y, x and z, y and z\n",
    "cov_x_y = np.cov(price_return['AAPL'], price_return['GOOG'])*252\n",
    "cov_x_z = np.cov(price_return['AAPL'], price_return['MSFT'])*252\n",
    "cov_y_z = np.cov(price_return['GOOG'], price_return['MSFT'])*252\n",
    "\n",
    "# Portfolio return\n",
    "port_return = wx*annual_return['AAPL'] + wy*annual_return['GOOG'] + wz*annual_return['MSFT']\n",
    "\n",
    "# Portfolio risk\n",
    "portfolio_std_dev = math.sqrt((wx**2)*(annual_sd['AAPL']**2) + \n",
    "                              (wy**2)*(annual_sd['GOOG']**2) + \n",
    "                              (wz**2)*(annual_sd['MSFT']**2) + \n",
    "                              2*wx*wy*wz*cov_x_y[0, 1]*cov_x_z[0,1]*cov_y_z[0,1])\n",
    "\n",
    "print(\"The covariance of AAPL and GOOG: \", round(cov_x_y[0, 1], 4))\n",
    "print(\"The covariance of AAPL and MSFT: \", round(cov_x_z[0, 1], 4))\n",
    "print(\"The covariance of GOOG and MSFT: \", round(cov_y_z[0, 1], 4))\n",
    "print(f'The portfolio return: {str(round(port_return*100, 2))}%.')\n",
    "print(f\"The portfolio standard deviation: {str(round(portfolio_std_dev*100, 2))}%.\")"
   ]
  },
  {
   "cell_type": "markdown",
   "metadata": {},
   "source": [
    "#### Hint 3: Select just 2 of your 3 securities now. Calculate portfolio risk of your 2 stock portfolio. Change the stock weights by creating 500 random portfolios. Be sure invest at least 85% of your portfolio into one of the two stocks."
   ]
  },
  {
   "cell_type": "code",
   "execution_count": 134,
   "metadata": {},
   "outputs": [
    {
     "name": "stdout",
     "output_type": "stream",
     "text": [
      "\n",
      "Max Ratio\n",
      "goog_weight            0.000381\n",
      "msft_weight            0.999619\n",
      "returns                0.303604\n",
      "std_dev                0.301215\n",
      "returns per std_dev    1.007931\n",
      "Name: 45, dtype: float64\n",
      "\n",
      "Max Return\n",
      "goog_weight            0.000381\n",
      "msft_weight            0.999619\n",
      "returns                0.303604\n",
      "std_dev                0.301215\n",
      "returns per std_dev    1.007931\n",
      "Name: 45, dtype: float64\n",
      "\n",
      "Min Risk\n",
      "goog_weight            0.424434\n",
      "msft_weight            0.575566\n",
      "returns                0.264523\n",
      "std_dev                0.287639\n",
      "returns per std_dev    0.919635\n",
      "Name: 369, dtype: float64\n"
     ]
    }
   ],
   "source": [
    "portfolio = pd.DataFrame()\n",
    "\n",
    "# Number of portfolios\n",
    "n = 500\n",
    "\n",
    "# Calculate risk and returns for n random weight sets\n",
    "for i in range(n):\n",
    "    wy = np.random.random(1)[0]\n",
    "    wz = 1-wy\n",
    "    portfolio.loc[i, 'goog_weight'] = wy\n",
    "    portfolio.loc[i, 'msft_weight'] = wz\n",
    "\n",
    "    portfolio.loc[i, 'returns'] = wy * annual_return['GOOG'] + wz * annual_return['MSFT']\n",
    "    portfolio.loc[i, 'std_dev'] = math.sqrt((wy**2)*(annual_sd['GOOG']**2) + (wz**2)*(annual_sd['MSFT']**2) + 2*wy*wz*cov_y_z[0, 1])\n",
    "    portfolio.loc[i, 'returns per std_dev'] = portfolio.loc[i, 'returns'] / portfolio.loc[i, 'std_dev']\n",
    "\n",
    "# Max reward to risk weights\n",
    "max_ret_by_std_dev = portfolio.iloc[portfolio['returns per std_dev'].idxmax()]\n",
    "print('\\nMax Ratio')\n",
    "print(max_ret_by_std_dev)\n",
    "\n",
    "# Max return weights\n",
    "max_ret = portfolio.iloc[portfolio['returns'].idxmax()]\n",
    "print('\\nMax Return')\n",
    "print(max_ret)\n",
    "\n",
    "# Minimum risk weights\n",
    "min_std_dev = portfolio.iloc[portfolio['std_dev'].idxmin()]\n",
    "print('\\nMin Risk')\n",
    "print(min_std_dev)"
   ]
  },
  {
   "cell_type": "markdown",
   "metadata": {},
   "source": [
    "#### Hint 4: Identify the optimal portfolio, plot all of the portfolios, and identify on the plot the optimal portfolio"
   ]
  },
  {
   "cell_type": "code",
   "execution_count": 135,
   "metadata": {},
   "outputs": [
    {
     "data": {
      "image/png": "[encoded data removed]",
      "text/plain": [
       "<Figure size 1200x600 with 1 Axes>"
      ]
     },
     "metadata": {},
     "output_type": "display_data"
    }
   ],
   "source": [
    "plt.figure(figsize=(12, 6))\n",
    "plt.grid()\n",
    "plt.scatter(portfolio.std_dev, portfolio.returns, label='Random Portfolios')\n",
    "\n",
    "plt.scatter(max_ret_by_std_dev.std_dev, max_ret_by_std_dev.returns,\n",
    "            marker='*', s=300, color='r', label='Maximum Ret/Risk Portfolio')\n",
    "\n",
    "plt.scatter(min_std_dev.std_dev, min_std_dev.returns,\n",
    "            marker='x', s=300, color='darkorange', label='Minimum Risk Portfolio')\n",
    "\n",
    "plt.scatter(max_ret.std_dev, max_ret.returns,\n",
    "            marker='+', s=300, color='green', label='Maximum Return Portfolio')\n",
    "\n",
    "plt.xlabel('Portfolio Standard Deviation', fontsize=14)\n",
    "plt.xticks(fontsize=12)\n",
    "plt.ylabel('Portfolio Returns', fontsize=14)\n",
    "plt.yticks(fontsize=12)\n",
    "plt.legend(loc='best', fontsize=14)\n",
    "plt.title('Portfolio Optimization based on Efficient Frontier (GOOG + MSFT)', fontsize=20)\n",
    "plt.show()"
   ]
  },
  {
   "cell_type": "markdown",
   "metadata": {},
   "source": [
    "#### Hint 5: Redo the efficient frontier with no weight restrictions"
   ]
  },
  {
   "cell_type": "code",
   "execution_count": 136,
   "metadata": {},
   "outputs": [
    {
     "name": "stdout",
     "output_type": "stream",
     "text": [
      "\n",
      "Max Ratio\n",
      "aapl_weight            0.434902\n",
      "msft_weight            0.565098\n",
      "returns                0.306364\n",
      "std_dev                0.288318\n",
      "returns per std_dev    1.062591\n",
      "Name: 401, dtype: float64\n",
      "\n",
      "Max Return\n",
      "aapl_weight            0.991246\n",
      "msft_weight            0.008754\n",
      "returns                0.309851\n",
      "std_dev                0.315979\n",
      "returns per std_dev    0.980606\n",
      "Name: 45, dtype: float64\n",
      "\n",
      "Min Risk\n",
      "aapl_weight            0.401607\n",
      "msft_weight            0.598393\n",
      "returns                0.306156\n",
      "std_dev                0.288217\n",
      "returns per std_dev    1.062240\n",
      "Name: 101, dtype: float64\n"
     ]
    }
   ],
   "source": [
    "portfolio = pd.DataFrame()\n",
    "\n",
    "# Number of portfolios\n",
    "n = 500\n",
    "\n",
    "# Calculate risk and returns for n random weight sets\n",
    "for i in range(n):\n",
    "    wx = np.random.random(1)[0]\n",
    "    wz = 1-wx\n",
    "    portfolio.loc[i, 'aapl_weight'] = wx\n",
    "    portfolio.loc[i, 'msft_weight'] = wz\n",
    "\n",
    "    portfolio.loc[i, 'returns'] = wx * annual_return['AAPL'] + wz * annual_return['MSFT']\n",
    "    portfolio.loc[i, 'std_dev'] = math.sqrt((wx**2)*(annual_sd['AAPL']**2) + (wz**2)*(annual_sd['MSFT']**2) + 2*wx*wz*cov_x_z[0, 1])\n",
    "    portfolio.loc[i, 'returns per std_dev'] = portfolio.loc[i, 'returns'] / portfolio.loc[i, 'std_dev']\n",
    "\n",
    "# Max reward to risk weights\n",
    "max_ret_by_std_dev = portfolio.iloc[portfolio['returns per std_dev'].idxmax()]\n",
    "print('\\nMax Ratio')\n",
    "print(max_ret_by_std_dev)\n",
    "\n",
    "# Max return weights\n",
    "max_ret = portfolio.iloc[portfolio['returns'].idxmax()]\n",
    "print('\\nMax Return')\n",
    "print(max_ret)\n",
    "\n",
    "# Minimum risk weights\n",
    "min_std_dev = portfolio.iloc[portfolio['std_dev'].idxmin()]\n",
    "print('\\nMin Risk')\n",
    "print(min_std_dev)"
   ]
  },
  {
   "cell_type": "code",
   "execution_count": 137,
   "metadata": {},
   "outputs": [
    {
     "data": {
      "image/png": "[encoded data removed]",
      "text/plain": [
       "<Figure size 1200x600 with 1 Axes>"
      ]
     },
     "metadata": {},
     "output_type": "display_data"
    }
   ],
   "source": [
    "plt.figure(figsize=(12, 6))\n",
    "plt.grid()\n",
    "plt.scatter(portfolio.std_dev, portfolio.returns, label='Random Portfolios')\n",
    "\n",
    "plt.scatter(max_ret_by_std_dev.std_dev, max_ret_by_std_dev.returns,\n",
    "            marker='*', s=300, color='r', label='Maximum Ret/Risk Portfolio')\n",
    "\n",
    "plt.scatter(min_std_dev.std_dev, min_std_dev.returns,\n",
    "            marker='x', s=300, color='darkorange', label='Minimum Risk Portfolio')\n",
    "\n",
    "plt.scatter(max_ret.std_dev, max_ret.returns,\n",
    "            marker='+', s=300, color='green', label='Maximum Return Portfolio')\n",
    "\n",
    "plt.xlabel('Portfolio Standard Deviation', fontsize=14)\n",
    "plt.xticks(fontsize=12)\n",
    "plt.ylabel('Portfolio Returns', fontsize=14)\n",
    "plt.yticks(fontsize=12)\n",
    "plt.legend(loc='best', fontsize=14)\n",
    "plt.title('Portfolio Optimization based on Efficient Frontier (AAPL + MSFT)', fontsize=20)\n",
    "plt.show()"
   ]
  },
  {
   "cell_type": "code",
   "execution_count": 138,
   "metadata": {},
   "outputs": [
    {
     "name": "stdout",
     "output_type": "stream",
     "text": [
      "The optimal weight of AAPL is:  43.49%\n",
      "The optimal weight of MSFT is:  56.51%\n"
     ]
    }
   ],
   "source": [
    "optimal_weights = max_ret_by_std_dev[[\"aapl_weight\", \"msft_weight\"]]\n",
    "\n",
    "print(\"The optimal weight of AAPL is: \", str(round(optimal_weights[0]*100, 2))+\"%\")\n",
    "print(\"The optimal weight of MSFT is: \", str(round(optimal_weights[1]*100, 2))+\"%\")"
   ]
  },
  {
   "cell_type": "markdown",
   "metadata": {},
   "source": [
    "#### Hint 6: Select 3 portfolio performance measures of your choice and evaluate the performance of the optimal portfolio. This will require you to take the original stock return file and add the optimal weights we just calculated to it. With the daily returns and the portfolio weights, we can calculate the daily portfolio returns."
   ]
  },
  {
   "cell_type": "code",
   "execution_count": 139,
   "metadata": {},
   "outputs": [
    {
     "name": "stdout",
     "output_type": "stream",
     "text": [
      "The daily portfolio return data:\n",
      "\n"
     ]
    },
    {
     "data": {
      "text/html": [
       "<div>\n",
       "<style scoped>\n",
       "    .dataframe tbody tr th:only-of-type {\n",
       "        vertical-align: middle;\n",
       "    }\n",
       "\n",
       "    .dataframe tbody tr th {\n",
       "        vertical-align: top;\n",
       "    }\n",
       "\n",
       "    .dataframe thead th {\n",
       "        text-align: right;\n",
       "    }\n",
       "</style>\n",
       "<table border=\"1\" class=\"dataframe\">\n",
       "  <thead>\n",
       "    <tr style=\"text-align: right;\">\n",
       "      <th></th>\n",
       "      <th>AAPL</th>\n",
       "      <th>GOOG</th>\n",
       "      <th>MSFT</th>\n",
       "      <th>SPY</th>\n",
       "      <th>portfolio</th>\n",
       "    </tr>\n",
       "    <tr>\n",
       "      <th>Date</th>\n",
       "      <th></th>\n",
       "      <th></th>\n",
       "      <th></th>\n",
       "      <th></th>\n",
       "      <th></th>\n",
       "    </tr>\n",
       "  </thead>\n",
       "  <tbody>\n",
       "    <tr>\n",
       "      <th>2018-01-03</th>\n",
       "      <td>-0.000174</td>\n",
       "      <td>0.016413</td>\n",
       "      <td>0.004654</td>\n",
       "      <td>0.006325</td>\n",
       "      <td>0.002554</td>\n",
       "    </tr>\n",
       "    <tr>\n",
       "      <th>2018-01-04</th>\n",
       "      <td>0.004645</td>\n",
       "      <td>0.003621</td>\n",
       "      <td>0.008802</td>\n",
       "      <td>0.004215</td>\n",
       "      <td>0.006994</td>\n",
       "    </tr>\n",
       "    <tr>\n",
       "      <th>2018-01-05</th>\n",
       "      <td>0.011385</td>\n",
       "      <td>0.014571</td>\n",
       "      <td>0.012398</td>\n",
       "      <td>0.006664</td>\n",
       "      <td>0.011958</td>\n",
       "    </tr>\n",
       "    <tr>\n",
       "      <th>2018-01-08</th>\n",
       "      <td>-0.003714</td>\n",
       "      <td>0.004273</td>\n",
       "      <td>0.001021</td>\n",
       "      <td>0.001829</td>\n",
       "      <td>-0.001039</td>\n",
       "    </tr>\n",
       "    <tr>\n",
       "      <th>2018-01-09</th>\n",
       "      <td>-0.000115</td>\n",
       "      <td>-0.000614</td>\n",
       "      <td>-0.000680</td>\n",
       "      <td>0.002264</td>\n",
       "      <td>-0.000434</td>\n",
       "    </tr>\n",
       "    <tr>\n",
       "      <th>...</th>\n",
       "      <td>...</td>\n",
       "      <td>...</td>\n",
       "      <td>...</td>\n",
       "      <td>...</td>\n",
       "      <td>...</td>\n",
       "    </tr>\n",
       "    <tr>\n",
       "      <th>2023-12-22</th>\n",
       "      <td>-0.005547</td>\n",
       "      <td>0.006488</td>\n",
       "      <td>0.002784</td>\n",
       "      <td>0.002010</td>\n",
       "      <td>-0.000839</td>\n",
       "    </tr>\n",
       "    <tr>\n",
       "      <th>2023-12-26</th>\n",
       "      <td>-0.002841</td>\n",
       "      <td>0.000701</td>\n",
       "      <td>0.000214</td>\n",
       "      <td>0.004223</td>\n",
       "      <td>-0.001115</td>\n",
       "    </tr>\n",
       "    <tr>\n",
       "      <th>2023-12-27</th>\n",
       "      <td>0.000518</td>\n",
       "      <td>-0.009663</td>\n",
       "      <td>-0.001575</td>\n",
       "      <td>0.001808</td>\n",
       "      <td>-0.000665</td>\n",
       "    </tr>\n",
       "    <tr>\n",
       "      <th>2023-12-28</th>\n",
       "      <td>0.002226</td>\n",
       "      <td>-0.001131</td>\n",
       "      <td>0.003235</td>\n",
       "      <td>0.000378</td>\n",
       "      <td>0.002796</td>\n",
       "    </tr>\n",
       "    <tr>\n",
       "      <th>2023-12-29</th>\n",
       "      <td>-0.005424</td>\n",
       "      <td>-0.002477</td>\n",
       "      <td>0.002025</td>\n",
       "      <td>-0.002895</td>\n",
       "      <td>-0.001215</td>\n",
       "    </tr>\n",
       "  </tbody>\n",
       "</table>\n",
       "<p>1508 rows × 5 columns</p>\n",
       "</div>"
      ],
      "text/plain": [
       "                AAPL      GOOG      MSFT       SPY  portfolio\n",
       "Date                                                         \n",
       "2018-01-03 -0.000174  0.016413  0.004654  0.006325   0.002554\n",
       "2018-01-04  0.004645  0.003621  0.008802  0.004215   0.006994\n",
       "2018-01-05  0.011385  0.014571  0.012398  0.006664   0.011958\n",
       "2018-01-08 -0.003714  0.004273  0.001021  0.001829  -0.001039\n",
       "2018-01-09 -0.000115 -0.000614 -0.000680  0.002264  -0.000434\n",
       "...              ...       ...       ...       ...        ...\n",
       "2023-12-22 -0.005547  0.006488  0.002784  0.002010  -0.000839\n",
       "2023-12-26 -0.002841  0.000701  0.000214  0.004223  -0.001115\n",
       "2023-12-27  0.000518 -0.009663 -0.001575  0.001808  -0.000665\n",
       "2023-12-28  0.002226 -0.001131  0.003235  0.000378   0.002796\n",
       "2023-12-29 -0.005424 -0.002477  0.002025 -0.002895  -0.001215\n",
       "\n",
       "[1508 rows x 5 columns]"
      ]
     },
     "execution_count": 139,
     "metadata": {},
     "output_type": "execute_result"
    }
   ],
   "source": [
    "# Create a new column in our daily return dataframe with optimally weighted portfolio returns\n",
    "\n",
    "wx = max_ret_by_std_dev[\"aapl_weight\"]\n",
    "wy = max_ret_by_std_dev[\"msft_weight\"]\n",
    "\n",
    "price_return['portfolio'] = wx*price_return['AAPL'] + wy*price_return['MSFT']\n",
    "\n",
    "print(\"The daily portfolio return data:\\n\")\n",
    "price_return"
   ]
  },
  {
   "cell_type": "markdown",
   "metadata": {},
   "source": [
    "##### Performance Measure: Annualized Returns"
   ]
  },
  {
   "cell_type": "code",
   "execution_count": 140,
   "metadata": {},
   "outputs": [
    {
     "name": "stdout",
     "output_type": "stream",
     "text": [
      "The mean daily return of our portfolio is 0.12%.\n",
      "The mean annual return of our portfolio is 30.64%.\n",
      "The mean daily return of the market is 0.05%.\n",
      "The mean annual return of the market is 13.3%.\n"
     ]
    }
   ],
   "source": [
    "# Average daily and annual returns for our portfolio and the market\n",
    "\n",
    "daily_return = price_return['portfolio'].mean()\n",
    "annual_return = daily_return*252\n",
    "market_return = price_return[\"SPY\"].mean()\n",
    "annual_market_return = market_return*252\n",
    "\n",
    "print(\"The mean daily return of our portfolio is\", str(round(daily_return*100, 2)) + \"%.\")\n",
    "print(\"The mean annual return of our portfolio is\", str(round(annual_return*100, 2)) + \"%.\")\n",
    "print(\"The mean daily return of the market is\", str(round(market_return*100, 2)) + \"%.\")\n",
    "print(\"The mean annual return of the market is\", str(round(annual_market_return*100, 2)) + \"%.\")"
   ]
  },
  {
   "cell_type": "code",
   "execution_count": 141,
   "metadata": {},
   "outputs": [
    {
     "name": "stdout",
     "output_type": "stream",
     "text": [
      "0.06693692103352845\n",
      "0.04108255363971173\n"
     ]
    }
   ],
   "source": [
    "print(daily_return / price_return['portfolio'].std())\n",
    "print(market_return / price_return[\"SPY\"].std())"
   ]
  },
  {
   "cell_type": "markdown",
   "metadata": {},
   "source": [
    "##### Performance Measure: Beta"
   ]
  },
  {
   "cell_type": "code",
   "execution_count": 142,
   "metadata": {},
   "outputs": [
    {
     "name": "stdout",
     "output_type": "stream",
     "text": [
      "Portfolio Beta: 1.23\n"
     ]
    }
   ],
   "source": [
    "# Beta using a regression model\n",
    "\n",
    "reg = sm.OLS(price_return['portfolio'], price_return['SPY'])\n",
    "results = reg.fit()\n",
    "\n",
    "print('Portfolio Beta: %.2f' % results.params[0])"
   ]
  },
  {
   "cell_type": "code",
   "execution_count": 143,
   "metadata": {},
   "outputs": [
    {
     "data": {
      "text/plain": [
       "'Portfolio Beta: 1.23'"
      ]
     },
     "execution_count": 143,
     "metadata": {},
     "output_type": "execute_result"
    }
   ],
   "source": [
    "# Beta calculated using covariance between SPY and portfolio returns\n",
    "\n",
    "covariance_matrix = price_return[['SPY', 'portfolio']].cov()\n",
    "covariance_value = covariance_matrix.iloc[0]['portfolio']\n",
    "market_variance = price_return['SPY'].var()\n",
    "\n",
    "beta = covariance_value/market_variance\n",
    "\n",
    "'Portfolio Beta: %.2f' % beta"
   ]
  },
  {
   "cell_type": "markdown",
   "metadata": {},
   "source": [
    "##### Performance Measure: Annualized Volatility"
   ]
  },
  {
   "cell_type": "code",
   "execution_count": 144,
   "metadata": {},
   "outputs": [
    {
     "data": {
      "text/plain": [
       "'The annualized volatility is 28.83%.'"
      ]
     },
     "execution_count": 144,
     "metadata": {},
     "output_type": "execute_result"
    }
   ],
   "source": [
    "# Annualized volatility is the std dev times the square root of the number of trading days\n",
    "\n",
    "trading_days = 252\n",
    "\n",
    "daily_std_dev = price_return['portfolio'].std()\n",
    "\n",
    "annual_volatility = daily_std_dev * np.sqrt(trading_days) * 100\n",
    "\n",
    "'The annualized volatility is %.2f%%.' % annual_volatility"
   ]
  },
  {
   "cell_type": "markdown",
   "metadata": {},
   "source": [
    "##### Performance Measures: Sharpe, Treynor, and Information Ratios"
   ]
  },
  {
   "cell_type": "code",
   "execution_count": 160,
   "metadata": {},
   "outputs": [
    {
     "data": {
      "text/plain": [
       "'The Sharpe ratio is 1.03'"
      ]
     },
     "execution_count": 160,
     "metadata": {},
     "output_type": "execute_result"
    }
   ],
   "source": [
    "# We assume an annual risk-free rate of 2%\n",
    "rf = .01\n",
    "\n",
    "# Divide the annual rf by the number of trading days\n",
    "daily_risk_free_return = rf/trading_days\n",
    "\n",
    "# Calculate the excess returns by subtracting the daily returns by daily risk-free return\n",
    "excess_daily_returns = price_return['portfolio'] - daily_risk_free_return\n",
    "\n",
    "sharpe_ratio = (excess_daily_returns.mean() / excess_daily_returns.std()) * np.sqrt(trading_days)\n",
    "\n",
    "'The Sharpe ratio is %.2f' % sharpe_ratio"
   ]
  },
  {
   "cell_type": "code",
   "execution_count": 161,
   "metadata": {},
   "outputs": [
    {
     "data": {
      "text/plain": [
       "'The Treynor ratio is 0.24'"
      ]
     },
     "execution_count": 161,
     "metadata": {},
     "output_type": "execute_result"
    }
   ],
   "source": [
    "# The Treynor ratio evaluates excess return per unit of systematic risk (Beta)\n",
    "\n",
    "treynor_ratio = (excess_daily_returns.mean()*trading_days)/beta\n",
    "\n",
    "'The Treynor ratio is %.2f' % treynor_ratio"
   ]
  },
  {
   "cell_type": "code",
   "execution_count": 162,
   "metadata": {},
   "outputs": [
    {
     "data": {
      "text/plain": [
       "'The Information ratio is 1.16'"
      ]
     },
     "execution_count": 162,
     "metadata": {},
     "output_type": "execute_result"
    }
   ],
   "source": [
    "# The Information ratio shows us excess return to excess risk\n",
    "\n",
    "information_ratio = (daily_return - price_return['SPY'].mean()) / (price_return['portfolio'] - price_return['SPY']).std() * np.sqrt(trading_days)\n",
    "\n",
    "'The Information ratio is %.2f' % information_ratio"
   ]
  },
  {
   "cell_type": "markdown",
   "metadata": {},
   "source": [
    "#### Hint 7: Depending on your performance measures, you may need the market return. You can use `SPY` as the market return.\n",
    "* See above"
   ]
  },
  {
   "cell_type": "markdown",
   "metadata": {},
   "source": [
    "#### Hint 8: Using your performance metrics, evaluate this portfolio in plain english (ie. would you invest in it?)."
   ]
  },
  {
   "cell_type": "markdown",
   "metadata": {},
   "source": [
    "* The average daily returns and annual returns for our portfolio are more than double the S&P500's.\n",
    "* The Beta, representing systematic risk, is 1.23, meaning our portfolio is more volatile than the market.\n",
    "* The annualized volatility is lower than our annual return, which is a good sign but doesn't say much else on its own.\n",
    "* The Sharpe ratio is considered good if it's higher than 1; ours is and that's even with our portfolio only being two stocks.\n",
    "* The Treynor ratio doesn't tell us much because we don't have a well-diversified portfolio; the ratio would be more useful if we had already diversified away the non-systematic risk.\n",
    "* The Information ratio tells us our excess return to excess risk is excellent. This means our portfolio is a consistent performer.\n",
    "\n",
    "Taking this into account, our portfolio's main risk comes from not being diversified. With that being said, the returns, Sharpe ratio and Information ratio make this portfolio an attractive investment alternative to the market. It could likely be improved, however, by adding in more stocks."
   ]
  }
 ],
 "metadata": {
  "kernelspec": {
   "display_name": "Python 3",
   "language": "python",
   "name": "python3"
  },
  "language_info": {
   "codemirror_mode": {
    "name": "ipython",
    "version": 3
   },
   "file_extension": ".py",
   "mimetype": "text/x-python",
   "name": "python",
   "nbconvert_exporter": "python",
   "pygments_lexer": "ipython3",
   "version": "3.11.5"
  }
 },
 "nbformat": 4,
 "nbformat_minor": 4
}
