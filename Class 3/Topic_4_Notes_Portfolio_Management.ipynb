{
  "cells": [
    {
      "cell_type": "markdown",
      "metadata": {
        "id": "osFfNf3-GDIy"
      },
      "source": [
        "# Topic 4 - Obtaining Financial Markets Data"
      ]
    },
    {
      "cell_type": "markdown",
      "metadata": {
        "id": "h3y1VVwmGDIz"
      },
      "source": [
        "## 1. Basics of portfolio construction\n",
        "\n",
        "We will cover a few basics necessary to understand more advanced ideas behind portfolio construction.\n",
        "- Portfolio returns\n",
        "- Covariance\n",
        "- Portfolio standard deviation"
      ]
    },
    {
      "cell_type": "code",
      "execution_count": 1,
      "metadata": {
        "id": "7Oy50fulGDIz"
      },
      "outputs": [],
      "source": [
        "# Required libraries\n",
        "\n",
        "import pandas as pd\n",
        "import math\n",
        "import numpy as np\n",
        "import yfinance as yf"
      ]
    },
    {
      "cell_type": "code",
      "execution_count": 2,
      "metadata": {
        "id": "ZPl0S25-GDIz"
      },
      "outputs": [
        {
          "name": "stdout",
          "output_type": "stream",
          "text": [
            "[*********************100%%**********************]  2 of 2 completed\n"
          ]
        },
        {
          "data": {
            "text/html": [
              "<div>\n",
              "<style scoped>\n",
              "    .dataframe tbody tr th:only-of-type {\n",
              "        vertical-align: middle;\n",
              "    }\n",
              "\n",
              "    .dataframe tbody tr th {\n",
              "        vertical-align: top;\n",
              "    }\n",
              "\n",
              "    .dataframe thead th {\n",
              "        text-align: right;\n",
              "    }\n",
              "</style>\n",
              "<table border=\"1\" class=\"dataframe\">\n",
              "  <thead>\n",
              "    <tr style=\"text-align: right;\">\n",
              "      <th></th>\n",
              "      <th>AAPL</th>\n",
              "      <th>GOOG</th>\n",
              "    </tr>\n",
              "    <tr>\n",
              "      <th>Date</th>\n",
              "      <th></th>\n",
              "      <th></th>\n",
              "    </tr>\n",
              "  </thead>\n",
              "  <tbody>\n",
              "    <tr>\n",
              "      <th>2016-01-04</th>\n",
              "      <td>23.946917</td>\n",
              "      <td>37.091999</td>\n",
              "    </tr>\n",
              "    <tr>\n",
              "      <th>2016-01-05</th>\n",
              "      <td>23.346825</td>\n",
              "      <td>37.129002</td>\n",
              "    </tr>\n",
              "    <tr>\n",
              "      <th>2016-01-06</th>\n",
              "      <td>22.889935</td>\n",
              "      <td>37.181000</td>\n",
              "    </tr>\n",
              "    <tr>\n",
              "      <th>2016-01-07</th>\n",
              "      <td>21.923880</td>\n",
              "      <td>36.319500</td>\n",
              "    </tr>\n",
              "    <tr>\n",
              "      <th>2016-01-08</th>\n",
              "      <td>22.039808</td>\n",
              "      <td>35.723499</td>\n",
              "    </tr>\n",
              "  </tbody>\n",
              "</table>\n",
              "</div>"
            ],
            "text/plain": [
              "                 AAPL       GOOG\n",
              "Date                            \n",
              "2016-01-04  23.946917  37.091999\n",
              "2016-01-05  23.346825  37.129002\n",
              "2016-01-06  22.889935  37.181000\n",
              "2016-01-07  21.923880  36.319500\n",
              "2016-01-08  22.039808  35.723499"
            ]
          },
          "execution_count": 2,
          "metadata": {},
          "output_type": "execute_result"
        }
      ],
      "source": [
        "# We will focus on stock prices for Google and Microsoft between January 4, 2016 and December 29, 2017.\n",
        "\n",
        "# Define the ticker list\n",
        "tickers_list = ['AAPL', 'GOOG']\n",
        "\n",
        "# Download the data for the above tickers and extract the Adj Close column\n",
        "stock_prices = yf.download(tickers_list, start='2016-01-01', end='2017-12-31')['Adj Close']\n",
        "\n",
        "# Set the index to a datetime object\n",
        "stock_prices.index = pd.to_datetime(stock_prices.index)\n",
        "\n",
        "# Display the first 5 rows\n",
        "stock_prices.head()"
      ]
    },
    {
      "cell_type": "code",
      "execution_count": 3,
      "metadata": {
        "id": "llLF-1EWGDI0"
      },
      "outputs": [
        {
          "data": {
            "text/html": [
              "<div>\n",
              "<style scoped>\n",
              "    .dataframe tbody tr th:only-of-type {\n",
              "        vertical-align: middle;\n",
              "    }\n",
              "\n",
              "    .dataframe tbody tr th {\n",
              "        vertical-align: top;\n",
              "    }\n",
              "\n",
              "    .dataframe thead th {\n",
              "        text-align: right;\n",
              "    }\n",
              "</style>\n",
              "<table border=\"1\" class=\"dataframe\">\n",
              "  <thead>\n",
              "    <tr style=\"text-align: right;\">\n",
              "      <th></th>\n",
              "      <th>AAPL</th>\n",
              "      <th>GOOG</th>\n",
              "    </tr>\n",
              "    <tr>\n",
              "      <th>Date</th>\n",
              "      <th></th>\n",
              "      <th></th>\n",
              "    </tr>\n",
              "  </thead>\n",
              "  <tbody>\n",
              "    <tr>\n",
              "      <th>2016-01-05</th>\n",
              "      <td>-0.025059</td>\n",
              "      <td>0.000998</td>\n",
              "    </tr>\n",
              "    <tr>\n",
              "      <th>2016-01-06</th>\n",
              "      <td>-0.019570</td>\n",
              "      <td>0.001400</td>\n",
              "    </tr>\n",
              "    <tr>\n",
              "      <th>2016-01-07</th>\n",
              "      <td>-0.042204</td>\n",
              "      <td>-0.023170</td>\n",
              "    </tr>\n",
              "    <tr>\n",
              "      <th>2016-01-08</th>\n",
              "      <td>0.005288</td>\n",
              "      <td>-0.016410</td>\n",
              "    </tr>\n",
              "    <tr>\n",
              "      <th>2016-01-11</th>\n",
              "      <td>0.016192</td>\n",
              "      <td>0.002183</td>\n",
              "    </tr>\n",
              "    <tr>\n",
              "      <th>...</th>\n",
              "      <td>...</td>\n",
              "      <td>...</td>\n",
              "    </tr>\n",
              "    <tr>\n",
              "      <th>2017-12-22</th>\n",
              "      <td>0.000000</td>\n",
              "      <td>-0.003300</td>\n",
              "    </tr>\n",
              "    <tr>\n",
              "      <th>2017-12-26</th>\n",
              "      <td>-0.025370</td>\n",
              "      <td>-0.003188</td>\n",
              "    </tr>\n",
              "    <tr>\n",
              "      <th>2017-12-27</th>\n",
              "      <td>0.000176</td>\n",
              "      <td>-0.006974</td>\n",
              "    </tr>\n",
              "    <tr>\n",
              "      <th>2017-12-28</th>\n",
              "      <td>0.002814</td>\n",
              "      <td>-0.001172</td>\n",
              "    </tr>\n",
              "    <tr>\n",
              "      <th>2017-12-29</th>\n",
              "      <td>-0.010813</td>\n",
              "      <td>-0.001660</td>\n",
              "    </tr>\n",
              "  </tbody>\n",
              "</table>\n",
              "<p>502 rows × 2 columns</p>\n",
              "</div>"
            ],
            "text/plain": [
              "                AAPL      GOOG\n",
              "Date                          \n",
              "2016-01-05 -0.025059  0.000998\n",
              "2016-01-06 -0.019570  0.001400\n",
              "2016-01-07 -0.042204 -0.023170\n",
              "2016-01-08  0.005288 -0.016410\n",
              "2016-01-11  0.016192  0.002183\n",
              "...              ...       ...\n",
              "2017-12-22  0.000000 -0.003300\n",
              "2017-12-26 -0.025370 -0.003188\n",
              "2017-12-27  0.000176 -0.006974\n",
              "2017-12-28  0.002814 -0.001172\n",
              "2017-12-29 -0.010813 -0.001660\n",
              "\n",
              "[502 rows x 2 columns]"
            ]
          },
          "execution_count": 3,
          "metadata": {},
          "output_type": "execute_result"
        }
      ],
      "source": [
        "# Calculate the daily returns\n",
        "price_returns = stock_prices.pct_change()\n",
        "\n",
        "# Drop the rows with NaN values\n",
        "price_returns.dropna(inplace=True)\n",
        "price_returns"
      ]
    },
    {
      "cell_type": "code",
      "execution_count": 4,
      "metadata": {
        "id": "sZqpyDbzGDI0"
      },
      "outputs": [
        {
          "data": {
            "text/plain": [
              "AAPL    0.278474\n",
              "GOOG    0.188612\n",
              "dtype: float64"
            ]
          },
          "execution_count": 4,
          "metadata": {},
          "output_type": "execute_result"
        }
      ],
      "source": [
        "# Simple annualized returns\n",
        "\n",
        "annual_returns = price_returns.mean()*252\n",
        "annual_returns"
      ]
    },
    {
      "cell_type": "code",
      "execution_count": 5,
      "metadata": {
        "id": "bg0bOP18GDI0"
      },
      "outputs": [
        {
          "data": {
            "text/plain": [
              "AAPL    0.206946\n",
              "GOOG    0.178125\n",
              "dtype: float64"
            ]
          },
          "execution_count": 5,
          "metadata": {},
          "output_type": "execute_result"
        }
      ],
      "source": [
        "# Simple annualize standard deviation\n",
        "\n",
        "annual_sd = price_returns.std()*math.sqrt(252)\n",
        "annual_sd"
      ]
    },
    {
      "cell_type": "markdown",
      "metadata": {
        "id": "9pDmXlIBGDI0"
      },
      "source": [
        "### a. Portfolio returns\n",
        "\n",
        "The portfolio returns are equal to the weight in stock a times the returns of stock a plus the weight in stock b * the returns of stock b.\n",
        "\n",
        "$Portfolio\\ Return = w_a * R_a + w_b * R_b + ...$"
      ]
    },
    {
      "cell_type": "code",
      "execution_count": 6,
      "metadata": {
        "id": "w2SpylxYGDI0"
      },
      "outputs": [
        {
          "name": "stdout",
          "output_type": "stream",
          "text": [
            "The portfolio return is: 23.35%.\n",
            "The portfolio return is: 23.35%.\n"
          ]
        }
      ],
      "source": [
        "# Assume equal weights\n",
        "wx = 0.5\n",
        "wy = 0.5\n",
        "\n",
        "# Calculate portfolio returns\n",
        "portfolio_returns = wx*annual_returns['AAPL'] + wy*annual_returns['GOOG']\n",
        "\n",
        "# Print the portfolio returns\n",
        "print(\"The portfolio return is:\", str(round(portfolio_returns*100, 2))+\"%.\")\n",
        "print(f'The portfolio return is: {str(round(portfolio_returns*100, 2))}%.')"
      ]
    },
    {
      "cell_type": "markdown",
      "metadata": {
        "id": "y6W6Ig6jGDI1"
      },
      "source": [
        "### b. Covariance\n",
        "\n",
        "Covariance is a measure of the joint variability between two variables. In simple terms, it is a measure of how much two variables vary together. Covariance will have a large impact on your portfolio.\n",
        "\n",
        "$Covariance = \\sum( \\frac {(x - \\bar{x}) * (y - \\bar{y})}n)$\n"
      ]
    },
    {
      "cell_type": "code",
      "execution_count": 7,
      "metadata": {
        "id": "Uu7uEjP3GDI1"
      },
      "outputs": [
        {
          "name": "stdout",
          "output_type": "stream",
          "text": [
            "The covariance of MSFT and GOOGL is:  0.0177\n"
          ]
        }
      ],
      "source": [
        "# Calculate the covariance of the stocks and multiply it by 252 to get annualised covariance\n",
        "cov_msft_goog = np.cov(price_returns['AAPL'], price_returns['GOOG'])*252\n",
        "\n",
        "# Print the covariance value of MSFT and GOOGL (ie. top right corner)\n",
        "print(\"The covariance of MSFT and GOOGL is: \", round(cov_msft_goog[0, 1], 4))"
      ]
    },
    {
      "cell_type": "markdown",
      "metadata": {
        "id": "mRsZ-bPgGDI1"
      },
      "source": [
        "### c. Portfolio standard deviation\n",
        "We can now calculate the standard deviation of our portfolio. Unlike with portfolio returns, we cannot simply combine them. Because stocks have covariance between eachother, risk can be offset. For example, when one stock goes up, another may go down. These opposite movements will reduce the portfolio risk. There are faster but more mathematically complex methods for calculating portfolio standard deviation, but for now we will focus on using the basic formula. You will cover other approaches in your portfolio theory class.\n",
        "\n",
        "$Portfolio\\ Standard\\ Deviation = \\sqrt{wx^2*\\sigma^2_x+wy^2*\\sigma^2_y+2*wx*wb*Cov(x,y)}$"
      ]
    },
    {
      "cell_type": "code",
      "execution_count": 8,
      "metadata": {
        "id": "_x6klOQUGDI1"
      },
      "outputs": [
        {
          "name": "stdout",
          "output_type": "stream",
          "text": [
            "The standard deviation of MSFT is:  20.69%\n",
            "The standard deviation of GOOG is:  17.81%\n",
            "The portfolio standard deviation is:  16.58%\n"
          ]
        }
      ],
      "source": [
        "# Calculate portfolio standard deviation\n",
        "portfolio_std_dev = math.sqrt((wx**2)*(annual_sd['AAPL']**2) + (wy**2)*(annual_sd['GOOG']**2) + 2*wx*wy*cov_msft_goog[0, 1])\n",
        "\n",
        "# Print the portfolio standard deviation\n",
        "print(\"The standard deviation of MSFT is: \", str(round(annual_sd['AAPL']*100, 2))+\"%\")\n",
        "print(\"The standard deviation of GOOG is: \", str(round(annual_sd['GOOG']*100, 2))+\"%\")\n",
        "print(\"The portfolio standard deviation is: \", str(round(portfolio_std_dev*100, 2))+\"%\")"
      ]
    },
    {
      "cell_type": "markdown",
      "metadata": {
        "id": "dPUBT8nrGDI1"
      },
      "source": [
        "Notice that we are able to create a portfolio of just two stocks that has significantly reduced the risk of investing in either of these two stocks individually. This is the benefit of diversification and why covariance is important when creating a portfolio."
      ]
    },
    {
      "cell_type": "markdown",
      "metadata": {
        "id": "4vNt_UL1GDI1"
      },
      "source": [
        "### a. Daily price data\n",
        "\n",
        "To download the daily price data, you will use the `yfinance` module to download the data from Yahoo! Finance.\n",
        "\n",
        "Yahoo! Finance provides market data on cryptocurrencies, regular currencies, commodity futures, stocks and bonds, fundamental and options data, and market analysis and news.\n",
        "\n",
        "You can then use the `download()` method of the `yfinance` package to download the dataset.\n",
        "\n",
        "Syntax:\n",
        "```python\n",
        "import yfinance as yf\n",
        "yf.download(ticker, start, end)\n",
        "```\n",
        "\n",
        "Parameters:\n",
        "1. **ticker:** Ticker of the asset\n",
        "2. **start:** Start date\n",
        "3. **end:** End date, if not specified, data is downloaded till current data\n",
        "\n",
        "Returns:<br>\n",
        "A `pandas` dataframe containing the open, high, low, close and adjusted close price along with the volume for all the trading days between the start and the end date.\n",
        "\n",
        "After downloading the data, you can use `matplotlib` to visualise the data."
      ]
    },
    {
      "cell_type": "markdown",
      "metadata": {
        "id": "oZi8r9exGDI1"
      },
      "source": [
        "## 2. Modern portfolio theory\n",
        "\n",
        "We will cover a few topics that you have likely seen before in other courses.\n",
        "- Collect data\n",
        "- Calculate portfolio returns and risk\n",
        "- Change our stocks\n",
        "- Change the amount we invest in each stock\n",
        "- Create the efficient frontier\n",
        "- Calculate the optimal weights"
      ]
    },
    {
      "cell_type": "code",
      "execution_count": 9,
      "metadata": {
        "id": "oEdjKeTVGDI1"
      },
      "outputs": [],
      "source": [
        "import matplotlib.pyplot as plt"
      ]
    },
    {
      "cell_type": "markdown",
      "metadata": {
        "id": "DDFVGEUeGDI1"
      },
      "source": [
        "### a. Collect the data"
      ]
    },
    {
      "cell_type": "code",
      "execution_count": 10,
      "metadata": {
        "id": "Dtd22t68GDI1"
      },
      "outputs": [
        {
          "name": "stdout",
          "output_type": "stream",
          "text": [
            "[*********************100%%**********************]  3 of 3 completed\n"
          ]
        },
        {
          "data": {
            "text/html": [
              "<div>\n",
              "<style scoped>\n",
              "    .dataframe tbody tr th:only-of-type {\n",
              "        vertical-align: middle;\n",
              "    }\n",
              "\n",
              "    .dataframe tbody tr th {\n",
              "        vertical-align: top;\n",
              "    }\n",
              "\n",
              "    .dataframe thead th {\n",
              "        text-align: right;\n",
              "    }\n",
              "</style>\n",
              "<table border=\"1\" class=\"dataframe\">\n",
              "  <thead>\n",
              "    <tr style=\"text-align: right;\">\n",
              "      <th></th>\n",
              "      <th>CVX</th>\n",
              "      <th>GOOG</th>\n",
              "      <th>MSFT</th>\n",
              "    </tr>\n",
              "    <tr>\n",
              "      <th>Date</th>\n",
              "      <th></th>\n",
              "      <th></th>\n",
              "      <th></th>\n",
              "    </tr>\n",
              "  </thead>\n",
              "  <tbody>\n",
              "    <tr>\n",
              "      <th>2016-01-04</th>\n",
              "      <td>62.537277</td>\n",
              "      <td>37.091999</td>\n",
              "      <td>48.608986</td>\n",
              "    </tr>\n",
              "    <tr>\n",
              "      <th>2016-01-05</th>\n",
              "      <td>63.072224</td>\n",
              "      <td>37.129002</td>\n",
              "      <td>48.830746</td>\n",
              "    </tr>\n",
              "    <tr>\n",
              "      <th>2016-01-06</th>\n",
              "      <td>60.580585</td>\n",
              "      <td>37.181000</td>\n",
              "      <td>47.943714</td>\n",
              "    </tr>\n",
              "    <tr>\n",
              "      <th>2016-01-07</th>\n",
              "      <td>58.433846</td>\n",
              "      <td>36.319500</td>\n",
              "      <td>46.276112</td>\n",
              "    </tr>\n",
              "    <tr>\n",
              "      <th>2016-01-08</th>\n",
              "      <td>57.807404</td>\n",
              "      <td>35.723499</td>\n",
              "      <td>46.418049</td>\n",
              "    </tr>\n",
              "  </tbody>\n",
              "</table>\n",
              "</div>"
            ],
            "text/plain": [
              "                  CVX       GOOG       MSFT\n",
              "Date                                       \n",
              "2016-01-04  62.537277  37.091999  48.608986\n",
              "2016-01-05  63.072224  37.129002  48.830746\n",
              "2016-01-06  60.580585  37.181000  47.943714\n",
              "2016-01-07  58.433846  36.319500  46.276112\n",
              "2016-01-08  57.807404  35.723499  46.418049"
            ]
          },
          "execution_count": 10,
          "metadata": {},
          "output_type": "execute_result"
        }
      ],
      "source": [
        "# We will focus on stock prices for Google and Microsoft between January 4, 2016 and December 29, 2017.\n",
        "\n",
        "# Define the ticker list\n",
        "tickers_list = ['CVX', 'GOOG', 'MSFT']\n",
        "\n",
        "# Download the data for the above tickers and extract the Adj Close column\n",
        "stock_prices = yf.download(tickers_list, start='2016-01-01', end='2017-12-31')['Adj Close']\n",
        "\n",
        "# Set the index to a datetime object\n",
        "stock_prices.index = pd.to_datetime(stock_prices.index)\n",
        "\n",
        "# Display the first 5 rows\n",
        "stock_prices.head()"
      ]
    },
    {
      "cell_type": "markdown",
      "metadata": {
        "id": "aeUcHsc7GDI2"
      },
      "source": [
        "### b. Calculate portfolio return and risk"
      ]
    },
    {
      "cell_type": "code",
      "execution_count": 11,
      "metadata": {
        "id": "O_bFVtZfGDI2"
      },
      "outputs": [
        {
          "data": {
            "text/html": [
              "<div>\n",
              "<style scoped>\n",
              "    .dataframe tbody tr th:only-of-type {\n",
              "        vertical-align: middle;\n",
              "    }\n",
              "\n",
              "    .dataframe tbody tr th {\n",
              "        vertical-align: top;\n",
              "    }\n",
              "\n",
              "    .dataframe thead th {\n",
              "        text-align: right;\n",
              "    }\n",
              "</style>\n",
              "<table border=\"1\" class=\"dataframe\">\n",
              "  <thead>\n",
              "    <tr style=\"text-align: right;\">\n",
              "      <th></th>\n",
              "      <th>CVX</th>\n",
              "      <th>GOOG</th>\n",
              "      <th>MSFT</th>\n",
              "    </tr>\n",
              "    <tr>\n",
              "      <th>Date</th>\n",
              "      <th></th>\n",
              "      <th></th>\n",
              "      <th></th>\n",
              "    </tr>\n",
              "  </thead>\n",
              "  <tbody>\n",
              "    <tr>\n",
              "      <th>2016-01-05</th>\n",
              "      <td>0.008554</td>\n",
              "      <td>0.000998</td>\n",
              "      <td>0.004562</td>\n",
              "    </tr>\n",
              "    <tr>\n",
              "      <th>2016-01-06</th>\n",
              "      <td>-0.039505</td>\n",
              "      <td>0.001400</td>\n",
              "      <td>-0.018165</td>\n",
              "    </tr>\n",
              "    <tr>\n",
              "      <th>2016-01-07</th>\n",
              "      <td>-0.035436</td>\n",
              "      <td>-0.023170</td>\n",
              "      <td>-0.034783</td>\n",
              "    </tr>\n",
              "    <tr>\n",
              "      <th>2016-01-08</th>\n",
              "      <td>-0.010721</td>\n",
              "      <td>-0.016410</td>\n",
              "      <td>0.003067</td>\n",
              "    </tr>\n",
              "    <tr>\n",
              "      <th>2016-01-11</th>\n",
              "      <td>-0.016559</td>\n",
              "      <td>0.002183</td>\n",
              "      <td>-0.000574</td>\n",
              "    </tr>\n",
              "    <tr>\n",
              "      <th>...</th>\n",
              "      <td>...</td>\n",
              "      <td>...</td>\n",
              "      <td>...</td>\n",
              "    </tr>\n",
              "    <tr>\n",
              "      <th>2017-12-22</th>\n",
              "      <td>0.001282</td>\n",
              "      <td>-0.003300</td>\n",
              "      <td>0.000117</td>\n",
              "    </tr>\n",
              "    <tr>\n",
              "      <th>2017-12-26</th>\n",
              "      <td>0.008001</td>\n",
              "      <td>-0.003188</td>\n",
              "      <td>-0.001286</td>\n",
              "    </tr>\n",
              "    <tr>\n",
              "      <th>2017-12-27</th>\n",
              "      <td>-0.003413</td>\n",
              "      <td>-0.006974</td>\n",
              "      <td>0.003630</td>\n",
              "    </tr>\n",
              "    <tr>\n",
              "      <th>2017-12-28</th>\n",
              "      <td>0.000239</td>\n",
              "      <td>-0.001172</td>\n",
              "      <td>0.000117</td>\n",
              "    </tr>\n",
              "    <tr>\n",
              "      <th>2017-12-29</th>\n",
              "      <td>-0.003105</td>\n",
              "      <td>-0.001660</td>\n",
              "      <td>-0.002100</td>\n",
              "    </tr>\n",
              "  </tbody>\n",
              "</table>\n",
              "<p>502 rows × 3 columns</p>\n",
              "</div>"
            ],
            "text/plain": [
              "                 CVX      GOOG      MSFT\n",
              "Date                                    \n",
              "2016-01-05  0.008554  0.000998  0.004562\n",
              "2016-01-06 -0.039505  0.001400 -0.018165\n",
              "2016-01-07 -0.035436 -0.023170 -0.034783\n",
              "2016-01-08 -0.010721 -0.016410  0.003067\n",
              "2016-01-11 -0.016559  0.002183 -0.000574\n",
              "...              ...       ...       ...\n",
              "2017-12-22  0.001282 -0.003300  0.000117\n",
              "2017-12-26  0.008001 -0.003188 -0.001286\n",
              "2017-12-27 -0.003413 -0.006974  0.003630\n",
              "2017-12-28  0.000239 -0.001172  0.000117\n",
              "2017-12-29 -0.003105 -0.001660 -0.002100\n",
              "\n",
              "[502 rows x 3 columns]"
            ]
          },
          "execution_count": 11,
          "metadata": {},
          "output_type": "execute_result"
        }
      ],
      "source": [
        "# Calculate the daily returns\n",
        "price_returns = stock_prices.pct_change()\n",
        "\n",
        "# Drop the rows with NaN values\n",
        "price_returns.dropna(inplace=True)\n",
        "price_returns"
      ]
    },
    {
      "cell_type": "code",
      "execution_count": 12,
      "metadata": {
        "id": "hYVDktYmGDI2"
      },
      "outputs": [
        {
          "data": {
            "text/plain": [
              "CVX     0.232446\n",
              "GOOG    0.188612\n",
              "MSFT    0.266620\n",
              "dtype: float64"
            ]
          },
          "execution_count": 12,
          "metadata": {},
          "output_type": "execute_result"
        }
      ],
      "source": [
        "# Simple annualized returns\n",
        "\n",
        "annual_returns = price_returns.mean()*252\n",
        "annual_returns"
      ]
    },
    {
      "cell_type": "code",
      "execution_count": 13,
      "metadata": {
        "id": "FXPjPr6eGDI2"
      },
      "outputs": [
        {
          "data": {
            "text/plain": [
              "CVX     0.194228\n",
              "GOOG    0.178125\n",
              "MSFT    0.191515\n",
              "dtype: float64"
            ]
          },
          "execution_count": 13,
          "metadata": {},
          "output_type": "execute_result"
        }
      ],
      "source": [
        "# Simple annualize standard deviation\n",
        "\n",
        "annual_sd = price_returns.std()*math.sqrt(252)\n",
        "annual_sd"
      ]
    },
    {
      "cell_type": "code",
      "execution_count": 14,
      "metadata": {
        "id": "z-HE66JmGDI2"
      },
      "outputs": [
        {
          "data": {
            "text/plain": [
              "0.16893219710221258"
            ]
          },
          "execution_count": 14,
          "metadata": {},
          "output_type": "execute_result"
        }
      ],
      "source": [
        "# Assume equal weights\n",
        "wx = 0.5\n",
        "wy = 0.5\n",
        "\n",
        "# Calculate portfolio returns\n",
        "portfolio_returns = wx*annual_returns['MSFT'] + wy*annual_returns['GOOG']\n",
        "\n",
        "# Calculate the covariance of the stocks and annualize it by multiplying with 252\n",
        "cov_msft_goog = np.cov(price_returns['MSFT'], price_returns['GOOG'])*252\n",
        "\n",
        "# Calculate portfolio standard deviation\n",
        "portfolio_std_dev = math.sqrt((wx**2)*(annual_sd['MSFT']**2) + (wy**2)*(annual_sd['GOOG']**2) + 2*wx*wy*cov_msft_goog[0, 1])\n",
        "portfolio_std_dev"
      ]
    },
    {
      "cell_type": "code",
      "execution_count": 15,
      "metadata": {
        "id": "BNeUSZ92GDI2"
      },
      "outputs": [
        {
          "data": {
            "text/plain": [
              "0.2276159424673379"
            ]
          },
          "execution_count": 15,
          "metadata": {},
          "output_type": "execute_result"
        }
      ],
      "source": [
        "portfolio_returns"
      ]
    },
    {
      "cell_type": "code",
      "execution_count": 16,
      "metadata": {
        "id": "f4hbR4lcGDI2"
      },
      "outputs": [
        {
          "name": "stdout",
          "output_type": "stream",
          "text": [
            "The portfolio returns per portfolio standard deviation is: 1.35\n"
          ]
        }
      ],
      "source": [
        "# We will now evaluate this portfolio by the units of return you earn per unit of risk\n",
        "print(\"The portfolio returns per portfolio standard deviation is:\", round(portfolio_returns/portfolio_std_dev, 2))"
      ]
    },
    {
      "cell_type": "code",
      "execution_count": 17,
      "metadata": {
        "id": "jA7D2lDmGDI2"
      },
      "outputs": [
        {
          "data": {
            "text/html": [
              "<div>\n",
              "<style scoped>\n",
              "    .dataframe tbody tr th:only-of-type {\n",
              "        vertical-align: middle;\n",
              "    }\n",
              "\n",
              "    .dataframe tbody tr th {\n",
              "        vertical-align: top;\n",
              "    }\n",
              "\n",
              "    .dataframe thead th {\n",
              "        text-align: right;\n",
              "    }\n",
              "</style>\n",
              "<table border=\"1\" class=\"dataframe\">\n",
              "  <thead>\n",
              "    <tr style=\"text-align: right;\">\n",
              "      <th></th>\n",
              "      <th>CVX</th>\n",
              "      <th>MSFT</th>\n",
              "      <th>GOOG</th>\n",
              "    </tr>\n",
              "  </thead>\n",
              "  <tbody>\n",
              "    <tr>\n",
              "      <th>CVX</th>\n",
              "      <td>0.037725</td>\n",
              "      <td>0.009367</td>\n",
              "      <td>0.005833</td>\n",
              "    </tr>\n",
              "    <tr>\n",
              "      <th>MSFT</th>\n",
              "      <td>0.009367</td>\n",
              "      <td>0.036678</td>\n",
              "      <td>0.022873</td>\n",
              "    </tr>\n",
              "    <tr>\n",
              "      <th>GOOG</th>\n",
              "      <td>0.005833</td>\n",
              "      <td>0.022873</td>\n",
              "      <td>0.031729</td>\n",
              "    </tr>\n",
              "  </tbody>\n",
              "</table>\n",
              "</div>"
            ],
            "text/plain": [
              "           CVX      MSFT      GOOG\n",
              "CVX   0.037725  0.009367  0.005833\n",
              "MSFT  0.009367  0.036678  0.022873\n",
              "GOOG  0.005833  0.022873  0.031729"
            ]
          },
          "execution_count": 17,
          "metadata": {},
          "output_type": "execute_result"
        }
      ],
      "source": [
        "# An alternative method, we will not cover this method beyond this example.\n",
        "\n",
        "portfolio = np.array([0, .5, .5])\n",
        "\n",
        "rets = price_returns[['CVX', 'MSFT', 'GOOG']]\n",
        "\n",
        "matrix_covariance_portfolio = rets\n",
        "matrix_covariance_portfolio = (matrix_covariance_portfolio.cov())*252\n",
        "matrix_covariance_portfolio"
      ]
    },
    {
      "cell_type": "code",
      "execution_count": 18,
      "metadata": {
        "id": "wBXakKagGDI2"
      },
      "outputs": [
        {
          "data": {
            "text/plain": [
              "0.16893219710221255"
            ]
          },
          "execution_count": 18,
          "metadata": {},
          "output_type": "execute_result"
        }
      ],
      "source": [
        "portfolio_variance = np.dot(portfolio.T,np.dot(matrix_covariance_portfolio, portfolio))\n",
        "\n",
        "#standard deviation (risk of portfolio)\n",
        "portfolio_risk = np.sqrt(portfolio_variance)\n",
        "portfolio_risk"
      ]
    },
    {
      "cell_type": "markdown",
      "metadata": {
        "id": "G4x68E3lGDI2"
      },
      "source": [
        "### c. Change the stocks"
      ]
    },
    {
      "cell_type": "code",
      "execution_count": 19,
      "metadata": {
        "id": "D4NWPUMuGDI2"
      },
      "outputs": [
        {
          "name": "stdout",
          "output_type": "stream",
          "text": [
            "The covariance of MSFT and CVX is:  0.009367430546642588\n"
          ]
        }
      ],
      "source": [
        "# Calculate the covariance of the stocks and annualize it by multiplying with 252\n",
        "cov_msft_cvx = np.cov(price_returns['MSFT'], price_returns['CVX'])*252\n",
        "print(\"The covariance of MSFT and CVX is: \", cov_msft_cvx[0, 1])"
      ]
    },
    {
      "cell_type": "code",
      "execution_count": 20,
      "metadata": {
        "id": "g8bBgI-_GDI3"
      },
      "outputs": [
        {
          "data": {
            "text/plain": [
              "0.1525923128941265"
            ]
          },
          "execution_count": 20,
          "metadata": {},
          "output_type": "execute_result"
        }
      ],
      "source": [
        "# Assume equal weights\n",
        "wx = 0.5\n",
        "wy = 0.5\n",
        "\n",
        "# Calculate portfolio returns\n",
        "portfolio_returns = wx*annual_returns['MSFT'] + wy*annual_returns['CVX']\n",
        "\n",
        "# Calculate the covariance of the stocks and annualize it by multiplying with 252\n",
        "cov_msft_goog = np.cov(price_returns['MSFT'], price_returns['CVX'])*252\n",
        "\n",
        "# Calculate portfolio standard deviation\n",
        "portfolio_std_dev = math.sqrt((wx**2)*(annual_sd['MSFT']**2) + (wy**2)*(annual_sd['CVX']**2) + 2*wx*wy*cov_msft_cvx[0, 1])\n",
        "portfolio_std_dev"
      ]
    },
    {
      "cell_type": "code",
      "execution_count": 21,
      "metadata": {
        "id": "b9RfMhpjGDI3"
      },
      "outputs": [
        {
          "data": {
            "text/plain": [
              "0.24953303775700217"
            ]
          },
          "execution_count": 21,
          "metadata": {},
          "output_type": "execute_result"
        }
      ],
      "source": [
        "portfolio_returns"
      ]
    },
    {
      "cell_type": "code",
      "execution_count": 22,
      "metadata": {
        "id": "DigdmaUXGDI3"
      },
      "outputs": [
        {
          "name": "stdout",
          "output_type": "stream",
          "text": [
            "The portfolio returns per portfolio standard deviation is:  1.64\n"
          ]
        }
      ],
      "source": [
        "# We will now evaluate this portfolio by the units of return you earn per unit of risk\n",
        "print(\"The portfolio returns per portfolio standard deviation is: \", round(portfolio_returns/portfolio_std_dev, 2))"
      ]
    },
    {
      "cell_type": "markdown",
      "metadata": {
        "id": "5g7VfDkhGDI3"
      },
      "source": [
        "### d. Change the weights\n",
        "Rather than changing the stocks, we can also alter the performance of the portfolio by altering the weights we place in each stock. We will generate 500 portfolios with different weights. We will calculat ethe portfolio performance and evaluate."
      ]
    },
    {
      "cell_type": "code",
      "execution_count": 23,
      "metadata": {
        "id": "fuLZ3pi0GDI3"
      },
      "outputs": [],
      "source": [
        "# Create an empty dataframe\n",
        "portfolio = pd.DataFrame()\n",
        "\n",
        "# Initialize the number of portfolios\n",
        "num_of_portfolios = 500\n",
        "\n",
        "# Run the loop for each portfolio\n",
        "for i in range(num_of_portfolios):\n",
        "    # Generate a and b values randomly by using numpy random function.\n",
        "    # The argument '1' ensures the values generated are between 0 and 1\n",
        "    wx = np.random.random(1)[0]\n",
        "    wy = 1-wx\n",
        "    portfolio.loc[i, 'cvx_weight'] = wx\n",
        "    portfolio.loc[i, 'msft_weight'] = wy\n",
        "\n",
        "    # Save the portfolio returns and portfolio standard deviation values along with its ratio\n",
        "    portfolio.loc[i, 'returns'] = wx * annual_returns['CVX'] + wy*annual_returns['MSFT']\n",
        "\n",
        "    portfolio.loc[i, 'std_dev'] = math.sqrt((wx**2)*(annual_sd['CVX']**2) +\n",
        "                                            (wy**2)*(annual_sd['MSFT']**2)\n",
        "                                            + 2*wx*wy*cov_msft_cvx[0, 1])\n",
        "\n",
        "    portfolio.loc[i, 'returns per std_dev'] = portfolio.loc[i, 'returns'] / portfolio.loc[i, 'std_dev']"
      ]
    },
    {
      "cell_type": "code",
      "execution_count": 24,
      "metadata": {
        "id": "g2x6pWbxGDI3"
      },
      "outputs": [
        {
          "name": "stdout",
          "output_type": "stream",
          "text": [
            "Max Ratio\n",
            "cvx_weight             0.433740\n",
            "msft_weight            0.566260\n",
            "returns                0.251797\n",
            "std_dev                0.153165\n",
            "returns per std_dev    1.643964\n",
            "Name: 429, dtype: float64\n",
            "\n",
            "Max Return\n",
            "cvx_weight             0.002175\n",
            "msft_weight            0.997825\n",
            "returns                0.266546\n",
            "std_dev                0.191206\n",
            "returns per std_dev    1.394028\n",
            "Name: 469, dtype: float64\n",
            "\n",
            "Min Risk\n",
            "cvx_weight             0.489720\n",
            "msft_weight            0.510280\n",
            "returns                0.249884\n",
            "std_dev                0.152576\n",
            "returns per std_dev    1.637766\n",
            "Name: 102, dtype: float64\n"
          ]
        }
      ],
      "source": [
        "# Identify the portfolio with maximum returns/standard deviation using idxmax() function\n",
        "max_ret_by_std_dev = portfolio.iloc[portfolio['returns per std_dev'].idxmax()]\n",
        "print('Max Ratio')\n",
        "print(max_ret_by_std_dev)\n",
        "\n",
        "print('')\n",
        "\n",
        "# Similarly identify the portfolio with maximum return\n",
        "max_ret = portfolio.iloc[portfolio['returns'].idxmax()]\n",
        "print('Max Return')\n",
        "print(max_ret)\n",
        "\n",
        "print('')\n",
        "\n",
        "# Similarly identify the portfolio with minimum standard deviation\n",
        "min_std_dev = portfolio.iloc[portfolio['std_dev'].idxmin()]\n",
        "print('Min Risk')\n",
        "print(min_std_dev)"
      ]
    },
    {
      "cell_type": "markdown",
      "metadata": {
        "id": "QDNAbM5PGDI3"
      },
      "source": [
        "### e. Plot the efficient frontier (ie. the 500 random portfolios we have created)"
      ]
    },
    {
      "cell_type": "code",
      "execution_count": 25,
      "metadata": {
        "id": "g8JYvE59GDI3"
      },
      "outputs": [
        {
          "data": {
            "image/png": "[encoded data removed]",
            "text/plain": [
              "<Figure size 1000x700 with 1 Axes>"
            ]
          },
          "metadata": {},
          "output_type": "display_data"
        }
      ],
      "source": [
        "# Plot the portfolios\n",
        "plt.figure(figsize=(10, 7))\n",
        "plt.grid()\n",
        "plt.xlabel('Portfolio Standard Deviation', fontsize=14)\n",
        "plt.xticks(fontsize=12)\n",
        "plt.ylabel('Portfolio Returns', fontsize=14)\n",
        "plt.yticks(fontsize=12)\n",
        "plt.title('Portfolio Optimization based on Efficient Frontier', fontsize=20)\n",
        "plt.scatter(portfolio.std_dev, portfolio.returns, label='Random Portfolios')\n",
        "plt.legend(loc='best', fontsize=14)\n",
        "plt.show()"
      ]
    },
    {
      "cell_type": "code",
      "execution_count": 26,
      "metadata": {
        "id": "pOtZX_oNGDI3"
      },
      "outputs": [
        {
          "data": {
            "text/plain": [
              "cvx_weight             0.433740\n",
              "msft_weight            0.566260\n",
              "returns                0.251797\n",
              "std_dev                0.153165\n",
              "returns per std_dev    1.643964\n",
              "Name: 429, dtype: float64"
            ]
          },
          "execution_count": 26,
          "metadata": {},
          "output_type": "execute_result"
        }
      ],
      "source": [
        "max_ret_by_std_dev"
      ]
    },
    {
      "cell_type": "code",
      "execution_count": 27,
      "metadata": {
        "id": "rovEhF3mGDJB"
      },
      "outputs": [
        {
          "data": {
            "image/png": "[encoded data removed]",
            "text/plain": [
              "<Figure size 1000x700 with 1 Axes>"
            ]
          },
          "metadata": {},
          "output_type": "display_data"
        }
      ],
      "source": [
        "# Highlight the maximum returns/risk portfolio and minimum risk portfolio\n",
        "plt.figure(figsize=(10, 7))\n",
        "plt.grid()\n",
        "plt.scatter(portfolio.std_dev, portfolio.returns, label='Random Portfolios')\n",
        "\n",
        "plt.scatter(max_ret_by_std_dev.std_dev, max_ret_by_std_dev.returns,\n",
        "            marker='*', s=300, color='r', label='Maximum Ret/Risk Portfolio')\n",
        "\n",
        "plt.scatter(min_std_dev.std_dev, min_std_dev.returns,\n",
        "            marker='*', s=300, color='darkorange', label='Minimum Risk Portfolio')\n",
        "\n",
        "plt.scatter(max_ret.std_dev, max_ret.returns,\n",
        "            marker='*', s=300, color='green', label='Maximum Return Portfolio')\n",
        "\n",
        "plt.xlabel('Portfolio Standard Deviation', fontsize=14)\n",
        "plt.xticks(fontsize=12)\n",
        "plt.ylabel('Portfolio Returns', fontsize=14)\n",
        "plt.yticks(fontsize=12)\n",
        "plt.legend(loc='best', fontsize=14)\n",
        "plt.title('Portfolio Optimization based on Efficient Frontier', fontsize=20)\n",
        "plt.show()"
      ]
    },
    {
      "cell_type": "markdown",
      "metadata": {
        "id": "VWl8T9FdGDJB"
      },
      "source": [
        "### f. Obtain the optimal weights from the best portfolio"
      ]
    },
    {
      "cell_type": "code",
      "execution_count": 28,
      "metadata": {
        "id": "_VxV7UqxGDJB"
      },
      "outputs": [
        {
          "name": "stdout",
          "output_type": "stream",
          "text": [
            "The optimal weight of CVX is:  43.37%\n",
            "The optimal weight of MSFT is:  56.63%\n"
          ]
        }
      ],
      "source": [
        "# Use iloc on the row to obtain the optimal weights\n",
        "optimal_weights = max_ret_by_std_dev[[\"cvx_weight\", \"msft_weight\"]]\n",
        "\n",
        "# Print the optimal weights of MSFT and CVX\n",
        "print(\"The optimal weight of CVX is: \", str(round(optimal_weights[0]*100, 2))+\"%\")\n",
        "\n",
        "print(\"The optimal weight of MSFT is: \", str(round(optimal_weights[1]*100, 2))+\"%\")"
      ]
    },
    {
      "cell_type": "markdown",
      "metadata": {
        "id": "lpiG_bWJGDJB"
      },
      "source": [
        "## 3. Beta\n",
        "\n",
        "We will revisit the idea of beta from your prior courses. We will have to:\n",
        "- Calculate daily returns\n",
        "- Calculate beta using a regression\n",
        "- Calculate beta using variance-covariance"
      ]
    },
    {
      "cell_type": "markdown",
      "metadata": {
        "id": "WHPOwZnBGDJB"
      },
      "source": [
        "### a. Get data and calculate daily returns"
      ]
    },
    {
      "cell_type": "code",
      "execution_count": 29,
      "metadata": {
        "id": "HmsP-vBzGDJB"
      },
      "outputs": [
        {
          "name": "stdout",
          "output_type": "stream",
          "text": [
            "[*********************100%%**********************]  2 of 2 completed\n"
          ]
        },
        {
          "data": {
            "text/html": [
              "<div>\n",
              "<style scoped>\n",
              "    .dataframe tbody tr th:only-of-type {\n",
              "        vertical-align: middle;\n",
              "    }\n",
              "\n",
              "    .dataframe tbody tr th {\n",
              "        vertical-align: top;\n",
              "    }\n",
              "\n",
              "    .dataframe thead th {\n",
              "        text-align: right;\n",
              "    }\n",
              "</style>\n",
              "<table border=\"1\" class=\"dataframe\">\n",
              "  <thead>\n",
              "    <tr style=\"text-align: right;\">\n",
              "      <th></th>\n",
              "      <th>AMZN</th>\n",
              "      <th>SPY</th>\n",
              "    </tr>\n",
              "    <tr>\n",
              "      <th>Date</th>\n",
              "      <th></th>\n",
              "      <th></th>\n",
              "    </tr>\n",
              "  </thead>\n",
              "  <tbody>\n",
              "    <tr>\n",
              "      <th>2021-01-04</th>\n",
              "      <td>159.331497</td>\n",
              "      <td>352.767151</td>\n",
              "    </tr>\n",
              "    <tr>\n",
              "      <th>2021-01-05</th>\n",
              "      <td>160.925507</td>\n",
              "      <td>355.196747</td>\n",
              "    </tr>\n",
              "    <tr>\n",
              "      <th>2021-01-06</th>\n",
              "      <td>156.919006</td>\n",
              "      <td>357.320282</td>\n",
              "    </tr>\n",
              "    <tr>\n",
              "      <th>2021-01-07</th>\n",
              "      <td>158.108002</td>\n",
              "      <td>362.629242</td>\n",
              "    </tr>\n",
              "    <tr>\n",
              "      <th>2021-01-08</th>\n",
              "      <td>159.134995</td>\n",
              "      <td>364.695312</td>\n",
              "    </tr>\n",
              "  </tbody>\n",
              "</table>\n",
              "</div>"
            ],
            "text/plain": [
              "                  AMZN         SPY\n",
              "Date                              \n",
              "2021-01-04  159.331497  352.767151\n",
              "2021-01-05  160.925507  355.196747\n",
              "2021-01-06  156.919006  357.320282\n",
              "2021-01-07  158.108002  362.629242\n",
              "2021-01-08  159.134995  364.695312"
            ]
          },
          "execution_count": 29,
          "metadata": {},
          "output_type": "execute_result"
        }
      ],
      "source": [
        "# We will focus on stock prices for Google and Microsoft between January 4, 2016 and December 29, 2017.\n",
        "\n",
        "# Define the ticker list\n",
        "tickers_list = ['AMZN', 'SPY']\n",
        "\n",
        "# Download the data for the above tickers and extract the Adj Close column\n",
        "stock_prices = yf.download(tickers_list, start='2021-01-01', end='2022-02-04')['Adj Close']\n",
        "\n",
        "# Set the index to a datetime object\n",
        "stock_prices.index = pd.to_datetime(stock_prices.index)\n",
        "\n",
        "# Display the first 5 rows\n",
        "stock_prices.head()"
      ]
    },
    {
      "cell_type": "code",
      "execution_count": 30,
      "metadata": {
        "id": "eY211RwZGDJB"
      },
      "outputs": [
        {
          "data": {
            "text/html": [
              "<div>\n",
              "<style scoped>\n",
              "    .dataframe tbody tr th:only-of-type {\n",
              "        vertical-align: middle;\n",
              "    }\n",
              "\n",
              "    .dataframe tbody tr th {\n",
              "        vertical-align: top;\n",
              "    }\n",
              "\n",
              "    .dataframe thead th {\n",
              "        text-align: right;\n",
              "    }\n",
              "</style>\n",
              "<table border=\"1\" class=\"dataframe\">\n",
              "  <thead>\n",
              "    <tr style=\"text-align: right;\">\n",
              "      <th></th>\n",
              "      <th>AMZN</th>\n",
              "      <th>SPY</th>\n",
              "      <th>daily_amazon_returns</th>\n",
              "      <th>daily_spy_returns</th>\n",
              "    </tr>\n",
              "    <tr>\n",
              "      <th>Date</th>\n",
              "      <th></th>\n",
              "      <th></th>\n",
              "      <th></th>\n",
              "      <th></th>\n",
              "    </tr>\n",
              "  </thead>\n",
              "  <tbody>\n",
              "    <tr>\n",
              "      <th>2021-01-05</th>\n",
              "      <td>160.925507</td>\n",
              "      <td>355.196747</td>\n",
              "      <td>0.010004</td>\n",
              "      <td>0.006887</td>\n",
              "    </tr>\n",
              "    <tr>\n",
              "      <th>2021-01-06</th>\n",
              "      <td>156.919006</td>\n",
              "      <td>357.320282</td>\n",
              "      <td>-0.024897</td>\n",
              "      <td>0.005978</td>\n",
              "    </tr>\n",
              "    <tr>\n",
              "      <th>2021-01-07</th>\n",
              "      <td>158.108002</td>\n",
              "      <td>362.629242</td>\n",
              "      <td>0.007577</td>\n",
              "      <td>0.014858</td>\n",
              "    </tr>\n",
              "    <tr>\n",
              "      <th>2021-01-08</th>\n",
              "      <td>159.134995</td>\n",
              "      <td>364.695312</td>\n",
              "      <td>0.006496</td>\n",
              "      <td>0.005697</td>\n",
              "    </tr>\n",
              "    <tr>\n",
              "      <th>2021-01-11</th>\n",
              "      <td>155.710495</td>\n",
              "      <td>362.237030</td>\n",
              "      <td>-0.021519</td>\n",
              "      <td>-0.006741</td>\n",
              "    </tr>\n",
              "  </tbody>\n",
              "</table>\n",
              "</div>"
            ],
            "text/plain": [
              "                  AMZN         SPY  daily_amazon_returns  daily_spy_returns\n",
              "Date                                                                       \n",
              "2021-01-05  160.925507  355.196747              0.010004           0.006887\n",
              "2021-01-06  156.919006  357.320282             -0.024897           0.005978\n",
              "2021-01-07  158.108002  362.629242              0.007577           0.014858\n",
              "2021-01-08  159.134995  364.695312              0.006496           0.005697\n",
              "2021-01-11  155.710495  362.237030             -0.021519          -0.006741"
            ]
          },
          "execution_count": 30,
          "metadata": {},
          "output_type": "execute_result"
        }
      ],
      "source": [
        "# Calculate the daily returns of Amazon\n",
        "stock_prices['daily_amazon_returns'] = stock_prices.AMZN.pct_change()\n",
        "\n",
        "# Calculate the daily returns of S&P500\n",
        "stock_prices['daily_spy_returns'] = stock_prices.SPY.pct_change()\n",
        "\n",
        "# Drop NaN values\n",
        "stock_prices = stock_prices.dropna()\n",
        "\n",
        "# Print the first five rows of data dataframe\n",
        "stock_prices.head()"
      ]
    },
    {
      "cell_type": "markdown",
      "metadata": {
        "id": "1OnfJYODGDJB"
      },
      "source": [
        "### b. Calculate beta from a regression\n",
        "We have daily returns of Amazon and S&P500. We will use the ordinary least square (OLS) regression to calculate the Beta of the Amazon.\n",
        "\n",
        "For that, we will use the OLS function from statsmodels library.\n",
        "\n",
        "Syntax:\n",
        "\n",
        "`OLS(y, X)`\n",
        "\n",
        "In our case, `y` = daily_amazon_returns and `X` = daily_spy_returns"
      ]
    },
    {
      "cell_type": "code",
      "execution_count": 31,
      "metadata": {
        "id": "rk2YZdEhGDJB"
      },
      "outputs": [
        {
          "name": "stdout",
          "output_type": "stream",
          "text": [
            "Beta of Amazon: 1.19\n"
          ]
        }
      ],
      "source": [
        "# Import statsmodels library\n",
        "import statsmodels.api as sm\n",
        "\n",
        "# Create a regression model\n",
        "reg = sm.OLS(stock_prices['daily_amazon_returns'], stock_prices['daily_spy_returns'])\n",
        "\n",
        "# Fit the model\n",
        "results = reg.fit()\n",
        "\n",
        "# Print the beta of Amazon\n",
        "print('Beta of Amazon: %.2f' % results.params[0])"
      ]
    },
    {
      "cell_type": "code",
      "execution_count": 32,
      "metadata": {
        "id": "RnoiNPsNGDJB"
      },
      "outputs": [
        {
          "data": {
            "text/html": [
              "<table class=\"simpletable\">\n",
              "<caption>OLS Regression Results</caption>\n",
              "<tr>\n",
              "  <th>Dep. Variable:</th>    <td>daily_amazon_returns</td> <th>  R-squared (uncentered):</th>      <td>   0.387</td>\n",
              "</tr>\n",
              "<tr>\n",
              "  <th>Model:</th>                     <td>OLS</td>         <th>  Adj. R-squared (uncentered):</th> <td>   0.384</td>\n",
              "</tr>\n",
              "<tr>\n",
              "  <th>Method:</th>               <td>Least Squares</td>    <th>  F-statistic:       </th>          <td>   172.0</td>\n",
              "</tr>\n",
              "<tr>\n",
              "  <th>Date:</th>               <td>Tue, 27 Feb 2024</td>   <th>  Prob (F-statistic):</th>          <td>8.29e-31</td>\n",
              "</tr>\n",
              "<tr>\n",
              "  <th>Time:</th>                   <td>14:25:02</td>       <th>  Log-Likelihood:    </th>          <td>  802.28</td>\n",
              "</tr>\n",
              "<tr>\n",
              "  <th>No. Observations:</th>        <td>   274</td>        <th>  AIC:               </th>          <td>  -1603.</td>\n",
              "</tr>\n",
              "<tr>\n",
              "  <th>Df Residuals:</th>            <td>   273</td>        <th>  BIC:               </th>          <td>  -1599.</td>\n",
              "</tr>\n",
              "<tr>\n",
              "  <th>Df Model:</th>                <td>     1</td>        <th>                     </th>              <td> </td>   \n",
              "</tr>\n",
              "<tr>\n",
              "  <th>Covariance Type:</th>        <td>nonrobust</td>      <th>                     </th>              <td> </td>   \n",
              "</tr>\n",
              "</table>\n",
              "<table class=\"simpletable\">\n",
              "<tr>\n",
              "          <td></td>             <th>coef</th>     <th>std err</th>      <th>t</th>      <th>P>|t|</th>  <th>[0.025</th>    <th>0.975]</th>  \n",
              "</tr>\n",
              "<tr>\n",
              "  <th>daily_spy_returns</th> <td>    1.1924</td> <td>    0.091</td> <td>   13.116</td> <td> 0.000</td> <td>    1.013</td> <td>    1.371</td>\n",
              "</tr>\n",
              "</table>\n",
              "<table class=\"simpletable\">\n",
              "<tr>\n",
              "  <th>Omnibus:</th>       <td>37.808</td> <th>  Durbin-Watson:     </th> <td>   1.831</td>\n",
              "</tr>\n",
              "<tr>\n",
              "  <th>Prob(Omnibus):</th> <td> 0.000</td> <th>  Jarque-Bera (JB):  </th> <td> 159.008</td>\n",
              "</tr>\n",
              "<tr>\n",
              "  <th>Skew:</th>          <td>-0.445</td> <th>  Prob(JB):          </th> <td>2.96e-35</td>\n",
              "</tr>\n",
              "<tr>\n",
              "  <th>Kurtosis:</th>      <td> 6.624</td> <th>  Cond. No.          </th> <td>    1.00</td>\n",
              "</tr>\n",
              "</table><br/><br/>Notes:<br/>[1] R² is computed without centering (uncentered) since the model does not contain a constant.<br/>[2] Standard Errors assume that the covariance matrix of the errors is correctly specified."
            ],
            "text/latex": [
              "\\begin{center}\n",
              "\\begin{tabular}{lclc}\n",
              "\\toprule\n",
              "\\textbf{Dep. Variable:}      & daily\\_amazon\\_returns & \\textbf{  R-squared (uncentered):}      &     0.387   \\\\\n",
              "\\textbf{Model:}              &          OLS           & \\textbf{  Adj. R-squared (uncentered):} &     0.384   \\\\\n",
              "\\textbf{Method:}             &     Least Squares      & \\textbf{  F-statistic:       }          &     172.0   \\\\\n",
              "\\textbf{Date:}               &    Tue, 27 Feb 2024    & \\textbf{  Prob (F-statistic):}          &  8.29e-31   \\\\\n",
              "\\textbf{Time:}               &        14:25:02        & \\textbf{  Log-Likelihood:    }          &    802.28   \\\\\n",
              "\\textbf{No. Observations:}   &            274         & \\textbf{  AIC:               }          &    -1603.   \\\\\n",
              "\\textbf{Df Residuals:}       &            273         & \\textbf{  BIC:               }          &    -1599.   \\\\\n",
              "\\textbf{Df Model:}           &              1         & \\textbf{                     }          &             \\\\\n",
              "\\textbf{Covariance Type:}    &       nonrobust        & \\textbf{                     }          &             \\\\\n",
              "\\bottomrule\n",
              "\\end{tabular}\n",
              "\\begin{tabular}{lcccccc}\n",
              "                             & \\textbf{coef} & \\textbf{std err} & \\textbf{t} & \\textbf{P$> |$t$|$} & \\textbf{[0.025} & \\textbf{0.975]}  \\\\\n",
              "\\midrule\n",
              "\\textbf{daily\\_spy\\_returns} &       1.1924  &        0.091     &    13.116  &         0.000        &        1.013    &        1.371     \\\\\n",
              "\\bottomrule\n",
              "\\end{tabular}\n",
              "\\begin{tabular}{lclc}\n",
              "\\textbf{Omnibus:}       & 37.808 & \\textbf{  Durbin-Watson:     } &    1.831  \\\\\n",
              "\\textbf{Prob(Omnibus):} &  0.000 & \\textbf{  Jarque-Bera (JB):  } &  159.008  \\\\\n",
              "\\textbf{Skew:}          & -0.445 & \\textbf{  Prob(JB):          } & 2.96e-35  \\\\\n",
              "\\textbf{Kurtosis:}      &  6.624 & \\textbf{  Cond. No.          } &     1.00  \\\\\n",
              "\\bottomrule\n",
              "\\end{tabular}\n",
              "%\\caption{OLS Regression Results}\n",
              "\\end{center}\n",
              "\n",
              "Notes: \\newline\n",
              " [1] R² is computed without centering (uncentered) since the model does not contain a constant. \\newline\n",
              " [2] Standard Errors assume that the covariance matrix of the errors is correctly specified."
            ],
            "text/plain": [
              "<class 'statsmodels.iolib.summary.Summary'>\n",
              "\"\"\"\n",
              "                                  OLS Regression Results                                 \n",
              "=========================================================================================\n",
              "Dep. Variable:     daily_amazon_returns   R-squared (uncentered):                   0.387\n",
              "Model:                              OLS   Adj. R-squared (uncentered):              0.384\n",
              "Method:                   Least Squares   F-statistic:                              172.0\n",
              "Date:                  Tue, 27 Feb 2024   Prob (F-statistic):                    8.29e-31\n",
              "Time:                          14:25:02   Log-Likelihood:                          802.28\n",
              "No. Observations:                   274   AIC:                                     -1603.\n",
              "Df Residuals:                       273   BIC:                                     -1599.\n",
              "Df Model:                             1                                                  \n",
              "Covariance Type:              nonrobust                                                  \n",
              "=====================================================================================\n",
              "                        coef    std err          t      P>|t|      [0.025      0.975]\n",
              "-------------------------------------------------------------------------------------\n",
              "daily_spy_returns     1.1924      0.091     13.116      0.000       1.013       1.371\n",
              "==============================================================================\n",
              "Omnibus:                       37.808   Durbin-Watson:                   1.831\n",
              "Prob(Omnibus):                  0.000   Jarque-Bera (JB):              159.008\n",
              "Skew:                          -0.445   Prob(JB):                     2.96e-35\n",
              "Kurtosis:                       6.624   Cond. No.                         1.00\n",
              "==============================================================================\n",
              "\n",
              "Notes:\n",
              "[1] R² is computed without centering (uncentered) since the model does not contain a constant.\n",
              "[2] Standard Errors assume that the covariance matrix of the errors is correctly specified.\n",
              "\"\"\""
            ]
          },
          "execution_count": 32,
          "metadata": {},
          "output_type": "execute_result"
        }
      ],
      "source": [
        "# An alternative method that we used in FIN 6060 (-1 in the formula removes the intercept to match above)\n",
        "\n",
        "from statsmodels.formula.api import ols\n",
        "\n",
        "ols('daily_amazon_returns ~ daily_spy_returns - 1', stock_prices).fit().summary()"
      ]
    },
    {
      "cell_type": "markdown",
      "metadata": {
        "id": "gGv9FjwTGDJC"
      },
      "source": [
        "## 4. Three Factor Model\n",
        "The three factor model is an extension of the CAPM. We will utilize this model to calculate the expected returns of a stock.\n",
        "\n",
        "$ ER_i = RF + Systematic Risk Premium + Size Factor + Value Factor$\n",
        "\n",
        "$ ER_i = R_f + \\beta_1(R_m - R_f) + \\beta_2(SMB) + \\beta_3(HML)$"
      ]
    },
    {
      "cell_type": "markdown",
      "metadata": {
        "id": "ynoDs5GyGDJC"
      },
      "source": [
        "### a. Calculate both daily and excess returns for a stock"
      ]
    },
    {
      "cell_type": "code",
      "execution_count": 33,
      "metadata": {
        "id": "CIvItAHtGDJC"
      },
      "outputs": [
        {
          "data": {
            "text/html": [
              "<div>\n",
              "<style scoped>\n",
              "    .dataframe tbody tr th:only-of-type {\n",
              "        vertical-align: middle;\n",
              "    }\n",
              "\n",
              "    .dataframe tbody tr th {\n",
              "        vertical-align: top;\n",
              "    }\n",
              "\n",
              "    .dataframe thead th {\n",
              "        text-align: right;\n",
              "    }\n",
              "</style>\n",
              "<table border=\"1\" class=\"dataframe\">\n",
              "  <thead>\n",
              "    <tr style=\"text-align: right;\">\n",
              "      <th></th>\n",
              "      <th>market_excess_returns</th>\n",
              "      <th>SMB</th>\n",
              "      <th>HML</th>\n",
              "      <th>risk_free_rate</th>\n",
              "      <th>amazon_price</th>\n",
              "    </tr>\n",
              "    <tr>\n",
              "      <th>date</th>\n",
              "      <th></th>\n",
              "      <th></th>\n",
              "      <th></th>\n",
              "      <th></th>\n",
              "      <th></th>\n",
              "    </tr>\n",
              "  </thead>\n",
              "  <tbody>\n",
              "    <tr>\n",
              "      <th>2016-05-02</th>\n",
              "      <td>0.78</td>\n",
              "      <td>-0.01</td>\n",
              "      <td>-0.36</td>\n",
              "      <td>0.001</td>\n",
              "      <td>93.64</td>\n",
              "    </tr>\n",
              "    <tr>\n",
              "      <th>2016-05-03</th>\n",
              "      <td>-1.05</td>\n",
              "      <td>-0.66</td>\n",
              "      <td>-0.49</td>\n",
              "      <td>0.001</td>\n",
              "      <td>95.18</td>\n",
              "    </tr>\n",
              "    <tr>\n",
              "      <th>2016-05-04</th>\n",
              "      <td>-0.66</td>\n",
              "      <td>-0.15</td>\n",
              "      <td>0.06</td>\n",
              "      <td>0.001</td>\n",
              "      <td>94.19</td>\n",
              "    </tr>\n",
              "    <tr>\n",
              "      <th>2016-05-05</th>\n",
              "      <td>-0.08</td>\n",
              "      <td>-0.50</td>\n",
              "      <td>0.09</td>\n",
              "      <td>0.001</td>\n",
              "      <td>93.24</td>\n",
              "    </tr>\n",
              "    <tr>\n",
              "      <th>2016-05-06</th>\n",
              "      <td>0.38</td>\n",
              "      <td>0.05</td>\n",
              "      <td>0.24</td>\n",
              "      <td>0.001</td>\n",
              "      <td>92.72</td>\n",
              "    </tr>\n",
              "  </tbody>\n",
              "</table>\n",
              "</div>"
            ],
            "text/plain": [
              "            market_excess_returns   SMB   HML  risk_free_rate  amazon_price\n",
              "date                                                                       \n",
              "2016-05-02                   0.78 -0.01 -0.36           0.001         93.64\n",
              "2016-05-03                  -1.05 -0.66 -0.49           0.001         95.18\n",
              "2016-05-04                  -0.66 -0.15  0.06           0.001         94.19\n",
              "2016-05-05                  -0.08 -0.50  0.09           0.001         93.24\n",
              "2016-05-06                   0.38  0.05  0.24           0.001         92.72"
            ]
          },
          "execution_count": 33,
          "metadata": {},
          "output_type": "execute_result"
        }
      ],
      "source": [
        "# We can obtain this data from Yahoo Finance and https://mba.tuck.dartmouth.edu/pages/faculty/ken.french/data_library.html,\n",
        "# but for ease we will open this data from an already prepared csv file.\n",
        "\n",
        "data = pd.read_csv('factor_data.csv', index_col=0, parse_dates=['date'])\n",
        "data.head()"
      ]
    },
    {
      "cell_type": "code",
      "execution_count": 34,
      "metadata": {
        "id": "K1JRb5GhGDJC"
      },
      "outputs": [
        {
          "data": {
            "text/html": [
              "<div>\n",
              "<style scoped>\n",
              "    .dataframe tbody tr th:only-of-type {\n",
              "        vertical-align: middle;\n",
              "    }\n",
              "\n",
              "    .dataframe tbody tr th {\n",
              "        vertical-align: top;\n",
              "    }\n",
              "\n",
              "    .dataframe thead th {\n",
              "        text-align: right;\n",
              "    }\n",
              "</style>\n",
              "<table border=\"1\" class=\"dataframe\">\n",
              "  <thead>\n",
              "    <tr style=\"text-align: right;\">\n",
              "      <th></th>\n",
              "      <th>market_excess_returns</th>\n",
              "      <th>SMB</th>\n",
              "      <th>HML</th>\n",
              "      <th>risk_free_rate</th>\n",
              "      <th>amazon_price</th>\n",
              "      <th>daily_amazon_returns</th>\n",
              "    </tr>\n",
              "    <tr>\n",
              "      <th>date</th>\n",
              "      <th></th>\n",
              "      <th></th>\n",
              "      <th></th>\n",
              "      <th></th>\n",
              "      <th></th>\n",
              "      <th></th>\n",
              "    </tr>\n",
              "  </thead>\n",
              "  <tbody>\n",
              "    <tr>\n",
              "      <th>2016-05-03</th>\n",
              "      <td>-1.05</td>\n",
              "      <td>-0.66</td>\n",
              "      <td>-0.49</td>\n",
              "      <td>0.001</td>\n",
              "      <td>95.18</td>\n",
              "      <td>1.644596</td>\n",
              "    </tr>\n",
              "    <tr>\n",
              "      <th>2016-05-04</th>\n",
              "      <td>-0.66</td>\n",
              "      <td>-0.15</td>\n",
              "      <td>0.06</td>\n",
              "      <td>0.001</td>\n",
              "      <td>94.19</td>\n",
              "      <td>-1.040134</td>\n",
              "    </tr>\n",
              "    <tr>\n",
              "      <th>2016-05-05</th>\n",
              "      <td>-0.08</td>\n",
              "      <td>-0.50</td>\n",
              "      <td>0.09</td>\n",
              "      <td>0.001</td>\n",
              "      <td>93.24</td>\n",
              "      <td>-1.008600</td>\n",
              "    </tr>\n",
              "    <tr>\n",
              "      <th>2016-05-06</th>\n",
              "      <td>0.38</td>\n",
              "      <td>0.05</td>\n",
              "      <td>0.24</td>\n",
              "      <td>0.001</td>\n",
              "      <td>92.72</td>\n",
              "      <td>-0.557701</td>\n",
              "    </tr>\n",
              "    <tr>\n",
              "      <th>2016-05-09</th>\n",
              "      <td>0.05</td>\n",
              "      <td>0.36</td>\n",
              "      <td>-1.48</td>\n",
              "      <td>0.001</td>\n",
              "      <td>92.79</td>\n",
              "      <td>0.075496</td>\n",
              "    </tr>\n",
              "  </tbody>\n",
              "</table>\n",
              "</div>"
            ],
            "text/plain": [
              "            market_excess_returns   SMB   HML  risk_free_rate  amazon_price  \\\n",
              "date                                                                          \n",
              "2016-05-03                  -1.05 -0.66 -0.49           0.001         95.18   \n",
              "2016-05-04                  -0.66 -0.15  0.06           0.001         94.19   \n",
              "2016-05-05                  -0.08 -0.50  0.09           0.001         93.24   \n",
              "2016-05-06                   0.38  0.05  0.24           0.001         92.72   \n",
              "2016-05-09                   0.05  0.36 -1.48           0.001         92.79   \n",
              "\n",
              "            daily_amazon_returns  \n",
              "date                              \n",
              "2016-05-03              1.644596  \n",
              "2016-05-04             -1.040134  \n",
              "2016-05-05             -1.008600  \n",
              "2016-05-06             -0.557701  \n",
              "2016-05-09              0.075496  "
            ]
          },
          "execution_count": 34,
          "metadata": {},
          "output_type": "execute_result"
        }
      ],
      "source": [
        "# Calculate the daily returns of Amazon\n",
        "data['daily_amazon_returns'] = data.amazon_price.pct_change() * 100\n",
        "\n",
        "# Drop the NaN values\n",
        "data = data.dropna()\n",
        "\n",
        "# Print first five rows of data\n",
        "data.head()"
      ]
    },
    {
      "cell_type": "code",
      "execution_count": 35,
      "metadata": {
        "id": "hhlEhY_qGDJC"
      },
      "outputs": [
        {
          "data": {
            "text/html": [
              "<div>\n",
              "<style scoped>\n",
              "    .dataframe tbody tr th:only-of-type {\n",
              "        vertical-align: middle;\n",
              "    }\n",
              "\n",
              "    .dataframe tbody tr th {\n",
              "        vertical-align: top;\n",
              "    }\n",
              "\n",
              "    .dataframe thead th {\n",
              "        text-align: right;\n",
              "    }\n",
              "</style>\n",
              "<table border=\"1\" class=\"dataframe\">\n",
              "  <thead>\n",
              "    <tr style=\"text-align: right;\">\n",
              "      <th></th>\n",
              "      <th>market_excess_returns</th>\n",
              "      <th>SMB</th>\n",
              "      <th>HML</th>\n",
              "      <th>risk_free_rate</th>\n",
              "      <th>amazon_price</th>\n",
              "      <th>daily_amazon_returns</th>\n",
              "      <th>amazon_excess_returns</th>\n",
              "    </tr>\n",
              "    <tr>\n",
              "      <th>date</th>\n",
              "      <th></th>\n",
              "      <th></th>\n",
              "      <th></th>\n",
              "      <th></th>\n",
              "      <th></th>\n",
              "      <th></th>\n",
              "      <th></th>\n",
              "    </tr>\n",
              "  </thead>\n",
              "  <tbody>\n",
              "    <tr>\n",
              "      <th>2016-05-03</th>\n",
              "      <td>-1.05</td>\n",
              "      <td>-0.66</td>\n",
              "      <td>-0.49</td>\n",
              "      <td>0.001</td>\n",
              "      <td>95.18</td>\n",
              "      <td>1.644596</td>\n",
              "      <td>1.643596</td>\n",
              "    </tr>\n",
              "    <tr>\n",
              "      <th>2016-05-04</th>\n",
              "      <td>-0.66</td>\n",
              "      <td>-0.15</td>\n",
              "      <td>0.06</td>\n",
              "      <td>0.001</td>\n",
              "      <td>94.19</td>\n",
              "      <td>-1.040134</td>\n",
              "      <td>-1.041134</td>\n",
              "    </tr>\n",
              "    <tr>\n",
              "      <th>2016-05-05</th>\n",
              "      <td>-0.08</td>\n",
              "      <td>-0.50</td>\n",
              "      <td>0.09</td>\n",
              "      <td>0.001</td>\n",
              "      <td>93.24</td>\n",
              "      <td>-1.008600</td>\n",
              "      <td>-1.009600</td>\n",
              "    </tr>\n",
              "    <tr>\n",
              "      <th>2016-05-06</th>\n",
              "      <td>0.38</td>\n",
              "      <td>0.05</td>\n",
              "      <td>0.24</td>\n",
              "      <td>0.001</td>\n",
              "      <td>92.72</td>\n",
              "      <td>-0.557701</td>\n",
              "      <td>-0.558701</td>\n",
              "    </tr>\n",
              "    <tr>\n",
              "      <th>2016-05-09</th>\n",
              "      <td>0.05</td>\n",
              "      <td>0.36</td>\n",
              "      <td>-1.48</td>\n",
              "      <td>0.001</td>\n",
              "      <td>92.79</td>\n",
              "      <td>0.075496</td>\n",
              "      <td>0.074496</td>\n",
              "    </tr>\n",
              "  </tbody>\n",
              "</table>\n",
              "</div>"
            ],
            "text/plain": [
              "            market_excess_returns   SMB   HML  risk_free_rate  amazon_price  \\\n",
              "date                                                                          \n",
              "2016-05-03                  -1.05 -0.66 -0.49           0.001         95.18   \n",
              "2016-05-04                  -0.66 -0.15  0.06           0.001         94.19   \n",
              "2016-05-05                  -0.08 -0.50  0.09           0.001         93.24   \n",
              "2016-05-06                   0.38  0.05  0.24           0.001         92.72   \n",
              "2016-05-09                   0.05  0.36 -1.48           0.001         92.79   \n",
              "\n",
              "            daily_amazon_returns  amazon_excess_returns  \n",
              "date                                                     \n",
              "2016-05-03              1.644596               1.643596  \n",
              "2016-05-04             -1.040134              -1.041134  \n",
              "2016-05-05             -1.008600              -1.009600  \n",
              "2016-05-06             -0.557701              -0.558701  \n",
              "2016-05-09              0.075496               0.074496  "
            ]
          },
          "execution_count": 35,
          "metadata": {},
          "output_type": "execute_result"
        }
      ],
      "source": [
        "# Calculate the Amazon excess returns\n",
        "data['amazon_excess_returns'] = data['daily_amazon_returns'] - data['risk_free_rate']\n",
        "\n",
        "# Print first five rows of data\n",
        "data.head()"
      ]
    },
    {
      "cell_type": "markdown",
      "metadata": {
        "id": "L6MnPFsrGDJC"
      },
      "source": [
        "### b. Calculate the coefficients of the 3-factors (ie. beta)"
      ]
    },
    {
      "cell_type": "code",
      "execution_count": 36,
      "metadata": {
        "id": "yq7X1DsmGDJC"
      },
      "outputs": [
        {
          "name": "stdout",
          "output_type": "stream",
          "text": [
            "Beta of market_excess_returns=  1.1545046729816602\n",
            "Beta of SMB=  -0.27358778926285166\n",
            "Beta of HML=  -0.7171104348708253\n"
          ]
        }
      ],
      "source": [
        "# Import the statsmodels library\n",
        "import statsmodels.api as sm\n",
        "\n",
        "# Independent variables\n",
        "X = data[['market_excess_returns', 'SMB', 'HML']]\n",
        "\n",
        "# Dependent variable\n",
        "y = data['amazon_excess_returns']\n",
        "\n",
        "# Create a regression model\n",
        "reg = sm.OLS(y, X).fit()\n",
        "\n",
        "# Print beta of market_excess_returns\n",
        "print('Beta of market_excess_returns= ', reg.params[0])\n",
        "\n",
        "# Print beta of SMB\n",
        "print('Beta of SMB= ', reg.params[1])\n",
        "\n",
        "# Print beta of HML\n",
        "print('Beta of HML= ', reg.params[2])"
      ]
    },
    {
      "cell_type": "markdown",
      "metadata": {
        "id": "9aU_lFcnGDJC"
      },
      "source": [
        "### c. Calculate the annualized returns of the 3-factors"
      ]
    },
    {
      "cell_type": "code",
      "execution_count": 37,
      "metadata": {
        "id": "3VHF9YXdGDJC"
      },
      "outputs": [
        {
          "data": {
            "text/plain": [
              "0.13889333362659628"
            ]
          },
          "execution_count": 37,
          "metadata": {},
          "output_type": "execute_result"
        }
      ],
      "source": [
        "# Calculate the annualized market excess returns\n",
        "annualized_market_excess_returns = ((data['market_excess_returns']/100 + 1).cumprod()[-1]) ** (252/len(data)) - 1\n",
        "\n",
        "# Print annualized market excess returns\n",
        "annualized_market_excess_returns"
      ]
    },
    {
      "cell_type": "code",
      "execution_count": 38,
      "metadata": {
        "id": "dAz3l57TGDJC"
      },
      "outputs": [
        {
          "data": {
            "text/plain": [
              "-0.002627390164124943"
            ]
          },
          "execution_count": 38,
          "metadata": {},
          "output_type": "execute_result"
        }
      ],
      "source": [
        "# Calculate the annualized SMB returns\n",
        "annualized_SMB_returns = ((data.SMB/100 + 1).cumprod()[-1]) ** (252/len(data)) - 1\n",
        "\n",
        "# Print annualized_SMB_returns\n",
        "annualized_SMB_returns"
      ]
    },
    {
      "cell_type": "code",
      "execution_count": 39,
      "metadata": {
        "id": "VygRwg-OGDJE"
      },
      "outputs": [
        {
          "data": {
            "text/plain": [
              "-0.048414947762249416"
            ]
          },
          "execution_count": 39,
          "metadata": {},
          "output_type": "execute_result"
        }
      ],
      "source": [
        "# Calculate the annualized HML returns\n",
        "annualized_HML_returns = ((data.HML/100 + 1).cumprod()[-1]) ** (252/len(data)) - 1\n",
        "\n",
        "# Print annualized_HML_returns\n",
        "annualized_HML_returns"
      ]
    },
    {
      "cell_type": "code",
      "execution_count": 40,
      "metadata": {
        "id": "QA7_0E3bGDJE"
      },
      "outputs": [
        {
          "data": {
            "text/plain": [
              "0.01196786051367904"
            ]
          },
          "execution_count": 40,
          "metadata": {},
          "output_type": "execute_result"
        }
      ],
      "source": [
        "# Calculate annualised risk-free rate returns\n",
        "annualized_risk_free_rate_returns = (data.risk_free_rate/100 + 1).cumprod()[-1] ** (252/len(data)) - 1\n",
        "\n",
        "# Print annualised_risk_free_rate_returns\n",
        "annualized_risk_free_rate_returns"
      ]
    },
    {
      "cell_type": "markdown",
      "metadata": {
        "id": "o22FdoqoGDJE"
      },
      "source": [
        "### d. Calculate the annualized expected return of the stock\n",
        "Remember:\n",
        "$ ER_i = R_f + \\beta_1(R_m - R_f) + \\beta_2(SMB) + \\beta_3(HML)$"
      ]
    },
    {
      "cell_type": "code",
      "execution_count": 41,
      "metadata": {
        "id": "TRh7qS03GDJE"
      },
      "outputs": [
        {
          "name": "stdout",
          "output_type": "stream",
          "text": [
            "Expected Returns of Amazon: 20.78\n"
          ]
        }
      ],
      "source": [
        "# Calculate the expected returns of Amazon\n",
        "expected_returns_amazon = annualized_risk_free_rate_returns \\\n",
        "                        + reg.params[0] * annualized_market_excess_returns \\\n",
        "                        + reg.params[1] * annualized_SMB_returns \\\n",
        "                        + reg.params[2] * annualized_HML_returns\n",
        "\n",
        "# Print expected returns of Amazon\n",
        "print('Expected Returns of Amazon: %.2f' % (expected_returns_amazon * 100))"
      ]
    },
    {
      "cell_type": "markdown",
      "metadata": {
        "id": "3vyFj1CfGDJE"
      },
      "source": [
        "## 5. Factor Investing\n",
        "We will now focus on creating and using the momentum factor."
      ]
    },
    {
      "cell_type": "code",
      "execution_count": 42,
      "metadata": {
        "id": "yq7ZVGGAGDJE"
      },
      "outputs": [],
      "source": [
        "import matplotlib.pyplot as plt\n",
        "import datetime as dt\n",
        "\n",
        "# Need to import the matplotlib_converters from pandas,\n",
        "# whenever you try to plot the columns of a dataframe using a for loop\n",
        "from pandas.plotting import register_matplotlib_converters\n",
        "register_matplotlib_converters()"
      ]
    },
    {
      "cell_type": "markdown",
      "metadata": {
        "id": "6NLju5ESGDJE"
      },
      "source": [
        "### a. Open the data and calculate returns"
      ]
    },
    {
      "cell_type": "code",
      "execution_count": 43,
      "metadata": {
        "id": "5QULl-2NGDJE"
      },
      "outputs": [
        {
          "data": {
            "text/html": [
              "<div>\n",
              "<style scoped>\n",
              "    .dataframe tbody tr th:only-of-type {\n",
              "        vertical-align: middle;\n",
              "    }\n",
              "\n",
              "    .dataframe tbody tr th {\n",
              "        vertical-align: top;\n",
              "    }\n",
              "\n",
              "    .dataframe thead th {\n",
              "        text-align: right;\n",
              "    }\n",
              "</style>\n",
              "<table border=\"1\" class=\"dataframe\">\n",
              "  <thead>\n",
              "    <tr style=\"text-align: right;\">\n",
              "      <th></th>\n",
              "      <th>AMZN</th>\n",
              "      <th>BA</th>\n",
              "      <th>BAC</th>\n",
              "      <th>HPQ</th>\n",
              "      <th>MSFT</th>\n",
              "      <th>PG</th>\n",
              "      <th>VZ</th>\n",
              "    </tr>\n",
              "    <tr>\n",
              "      <th>Date</th>\n",
              "      <th></th>\n",
              "      <th></th>\n",
              "      <th></th>\n",
              "      <th></th>\n",
              "      <th></th>\n",
              "      <th></th>\n",
              "      <th></th>\n",
              "    </tr>\n",
              "  </thead>\n",
              "  <tbody>\n",
              "    <tr>\n",
              "      <th>2012-01-03</th>\n",
              "      <td>179.03</td>\n",
              "      <td>74.22</td>\n",
              "      <td>5.80</td>\n",
              "      <td>26.62</td>\n",
              "      <td>26.765</td>\n",
              "      <td>66.83</td>\n",
              "      <td>39.73</td>\n",
              "    </tr>\n",
              "    <tr>\n",
              "      <th>2012-01-04</th>\n",
              "      <td>177.51</td>\n",
              "      <td>74.33</td>\n",
              "      <td>5.81</td>\n",
              "      <td>26.60</td>\n",
              "      <td>27.400</td>\n",
              "      <td>66.80</td>\n",
              "      <td>39.21</td>\n",
              "    </tr>\n",
              "    <tr>\n",
              "      <th>2012-01-05</th>\n",
              "      <td>177.61</td>\n",
              "      <td>73.53</td>\n",
              "      <td>6.31</td>\n",
              "      <td>26.50</td>\n",
              "      <td>27.680</td>\n",
              "      <td>66.52</td>\n",
              "      <td>38.94</td>\n",
              "    </tr>\n",
              "    <tr>\n",
              "      <th>2012-01-06</th>\n",
              "      <td>182.61</td>\n",
              "      <td>73.98</td>\n",
              "      <td>6.18</td>\n",
              "      <td>26.40</td>\n",
              "      <td>28.105</td>\n",
              "      <td>66.36</td>\n",
              "      <td>38.33</td>\n",
              "    </tr>\n",
              "    <tr>\n",
              "      <th>2012-01-09</th>\n",
              "      <td>178.56</td>\n",
              "      <td>74.53</td>\n",
              "      <td>6.27</td>\n",
              "      <td>26.44</td>\n",
              "      <td>27.740</td>\n",
              "      <td>66.64</td>\n",
              "      <td>38.37</td>\n",
              "    </tr>\n",
              "  </tbody>\n",
              "</table>\n",
              "</div>"
            ],
            "text/plain": [
              "              AMZN     BA   BAC    HPQ    MSFT     PG     VZ\n",
              "Date                                                        \n",
              "2012-01-03  179.03  74.22  5.80  26.62  26.765  66.83  39.73\n",
              "2012-01-04  177.51  74.33  5.81  26.60  27.400  66.80  39.21\n",
              "2012-01-05  177.61  73.53  6.31  26.50  27.680  66.52  38.94\n",
              "2012-01-06  182.61  73.98  6.18  26.40  28.105  66.36  38.33\n",
              "2012-01-09  178.56  74.53  6.27  26.44  27.740  66.64  38.37"
            ]
          },
          "execution_count": 43,
          "metadata": {},
          "output_type": "execute_result"
        }
      ],
      "source": [
        "df = pd.read_csv('stocks_and_factors.csv', index_col=[0])\n",
        "df.head()"
      ]
    },
    {
      "cell_type": "code",
      "execution_count": 44,
      "metadata": {
        "id": "rnmUC2E2GDJE"
      },
      "outputs": [
        {
          "name": "stdout",
          "output_type": "stream",
          "text": [
            "<class 'pandas.core.frame.DataFrame'>\n",
            "Index: 1509 entries, 2012-01-03 to 2017-12-29\n",
            "Data columns (total 7 columns):\n",
            " #   Column  Non-Null Count  Dtype  \n",
            "---  ------  --------------  -----  \n",
            " 0   AMZN    1509 non-null   float64\n",
            " 1   BA      1509 non-null   float64\n",
            " 2   BAC     1509 non-null   float64\n",
            " 3   HPQ     1509 non-null   float64\n",
            " 4   MSFT    1509 non-null   float64\n",
            " 5   PG      1509 non-null   float64\n",
            " 6   VZ      1509 non-null   float64\n",
            "dtypes: float64(7)\n",
            "memory usage: 94.3+ KB\n"
          ]
        }
      ],
      "source": [
        "df.info()"
      ]
    },
    {
      "cell_type": "code",
      "execution_count": 45,
      "metadata": {
        "id": "Vy83fKo8GDJE"
      },
      "outputs": [],
      "source": [
        "# Convert the index to datetime format\n",
        "df.index = pd.to_datetime(df.index, format='%Y-%m-%d').date"
      ]
    },
    {
      "cell_type": "code",
      "execution_count": 46,
      "metadata": {
        "id": "GbrkGJLxGDJE"
      },
      "outputs": [
        {
          "data": {
            "text/html": [
              "<div>\n",
              "<style scoped>\n",
              "    .dataframe tbody tr th:only-of-type {\n",
              "        vertical-align: middle;\n",
              "    }\n",
              "\n",
              "    .dataframe tbody tr th {\n",
              "        vertical-align: top;\n",
              "    }\n",
              "\n",
              "    .dataframe thead th {\n",
              "        text-align: right;\n",
              "    }\n",
              "</style>\n",
              "<table border=\"1\" class=\"dataframe\">\n",
              "  <thead>\n",
              "    <tr style=\"text-align: right;\">\n",
              "      <th></th>\n",
              "      <th>AMZN</th>\n",
              "      <th>BA</th>\n",
              "      <th>BAC</th>\n",
              "      <th>HPQ</th>\n",
              "      <th>MSFT</th>\n",
              "      <th>PG</th>\n",
              "      <th>VZ</th>\n",
              "    </tr>\n",
              "  </thead>\n",
              "  <tbody>\n",
              "    <tr>\n",
              "      <th>2012-01-04</th>\n",
              "      <td>-0.008490</td>\n",
              "      <td>0.001482</td>\n",
              "      <td>0.001724</td>\n",
              "      <td>-0.000751</td>\n",
              "      <td>0.023725</td>\n",
              "      <td>-0.000449</td>\n",
              "      <td>-0.013088</td>\n",
              "    </tr>\n",
              "    <tr>\n",
              "      <th>2012-01-05</th>\n",
              "      <td>0.000563</td>\n",
              "      <td>-0.010763</td>\n",
              "      <td>0.086059</td>\n",
              "      <td>-0.003759</td>\n",
              "      <td>0.010219</td>\n",
              "      <td>-0.004192</td>\n",
              "      <td>-0.006886</td>\n",
              "    </tr>\n",
              "    <tr>\n",
              "      <th>2012-01-06</th>\n",
              "      <td>0.028152</td>\n",
              "      <td>0.006120</td>\n",
              "      <td>-0.020602</td>\n",
              "      <td>-0.003774</td>\n",
              "      <td>0.015354</td>\n",
              "      <td>-0.002405</td>\n",
              "      <td>-0.015665</td>\n",
              "    </tr>\n",
              "    <tr>\n",
              "      <th>2012-01-09</th>\n",
              "      <td>-0.022178</td>\n",
              "      <td>0.007434</td>\n",
              "      <td>0.014563</td>\n",
              "      <td>0.001515</td>\n",
              "      <td>-0.012987</td>\n",
              "      <td>0.004219</td>\n",
              "      <td>0.001044</td>\n",
              "    </tr>\n",
              "    <tr>\n",
              "      <th>2012-01-10</th>\n",
              "      <td>0.004368</td>\n",
              "      <td>0.006306</td>\n",
              "      <td>0.057416</td>\n",
              "      <td>0.009455</td>\n",
              "      <td>0.003605</td>\n",
              "      <td>-0.004652</td>\n",
              "      <td>0.005212</td>\n",
              "    </tr>\n",
              "  </tbody>\n",
              "</table>\n",
              "</div>"
            ],
            "text/plain": [
              "                AMZN        BA       BAC       HPQ      MSFT        PG  \\\n",
              "2012-01-04 -0.008490  0.001482  0.001724 -0.000751  0.023725 -0.000449   \n",
              "2012-01-05  0.000563 -0.010763  0.086059 -0.003759  0.010219 -0.004192   \n",
              "2012-01-06  0.028152  0.006120 -0.020602 -0.003774  0.015354 -0.002405   \n",
              "2012-01-09 -0.022178  0.007434  0.014563  0.001515 -0.012987  0.004219   \n",
              "2012-01-10  0.004368  0.006306  0.057416  0.009455  0.003605 -0.004652   \n",
              "\n",
              "                  VZ  \n",
              "2012-01-04 -0.013088  \n",
              "2012-01-05 -0.006886  \n",
              "2012-01-06 -0.015665  \n",
              "2012-01-09  0.001044  \n",
              "2012-01-10  0.005212  "
            ]
          },
          "execution_count": 46,
          "metadata": {},
          "output_type": "execute_result"
        }
      ],
      "source": [
        "# Create a dataframe called df_change to hold the returns of the stocks\n",
        "df_change = df.pct_change()\n",
        "\n",
        "# Drop the rows containing the null values\n",
        "df_change.dropna(inplace=True)\n",
        "df_change.head()"
      ]
    },
    {
      "cell_type": "markdown",
      "metadata": {
        "id": "Yq79boB_GDJE"
      },
      "source": [
        "### b. Plot the cumulative returns"
      ]
    },
    {
      "cell_type": "code",
      "execution_count": 47,
      "metadata": {
        "id": "Jx51he1oGDJE"
      },
      "outputs": [
        {
          "data": {
            "image/png": "[encoded data removed]",
            "text/plain": [
              "<Figure size 1000x700 with 1 Axes>"
            ]
          },
          "metadata": {},
          "output_type": "display_data"
        }
      ],
      "source": [
        "# Plot the percentage returns of  the stocks\n",
        "\n",
        "plt.figure(figsize=(10, 7)) # Set figure size\n",
        "for column in df_change.columns.values: # For each value in each column\n",
        "    plt.plot(df_change.index, (df_change + 1).cumprod()[column] * 100 - 100, label=column) # Calculate the cumulative returns in each column'\n",
        "\n",
        "plt.legend(loc='best', fontsize=12)\n",
        "plt.ylabel('Stock Returns in %',fontsize=14)\n",
        "plt.xlabel('Year',fontsize=14)\n",
        "plt.title('Stock Performance',fontsize=16)\n",
        "plt.grid()\n",
        "plt.show()"
      ]
    },
    {
      "cell_type": "markdown",
      "metadata": {
        "id": "TL6Vjp53GDJF"
      },
      "source": [
        "### c. Calculate the momentum factor\n",
        "We will create our momentum factor here based on the past one year stock performance. We will calculate it as the difference between the price today and the prior 12 month's average stock price. This is slightly different than calculating the 1-year return for the stock. There are many ways to construct a momentum factor, this is just one of those ways."
      ]
    },
    {
      "cell_type": "code",
      "execution_count": 48,
      "metadata": {
        "id": "-o2O-4m7GDJF"
      },
      "outputs": [],
      "source": [
        "# You can assume there are 21-working days per month to generate the yearly average price\n",
        "# days per month * months per year\n",
        "yearly_working_days = 21 * 12\n",
        "\n",
        "# Calculate the momentum values for each stock by subtracting the stock price from the mean value\n",
        "# Remember to use the price data here, not the return data\n",
        "momentum_factor = df - df.rolling(yearly_working_days, min_periods=10).mean()"
      ]
    },
    {
      "cell_type": "code",
      "execution_count": 49,
      "metadata": {
        "id": "hGf-MdvHGDJF"
      },
      "outputs": [
        {
          "data": {
            "text/html": [
              "<div>\n",
              "<style scoped>\n",
              "    .dataframe tbody tr th:only-of-type {\n",
              "        vertical-align: middle;\n",
              "    }\n",
              "\n",
              "    .dataframe tbody tr th {\n",
              "        vertical-align: top;\n",
              "    }\n",
              "\n",
              "    .dataframe thead th {\n",
              "        text-align: right;\n",
              "    }\n",
              "</style>\n",
              "<table border=\"1\" class=\"dataframe\">\n",
              "  <thead>\n",
              "    <tr style=\"text-align: right;\">\n",
              "      <th></th>\n",
              "      <th>AMZN</th>\n",
              "      <th>BA</th>\n",
              "      <th>BAC</th>\n",
              "      <th>HPQ</th>\n",
              "      <th>MSFT</th>\n",
              "      <th>PG</th>\n",
              "      <th>VZ</th>\n",
              "    </tr>\n",
              "  </thead>\n",
              "  <tbody>\n",
              "    <tr>\n",
              "      <th>2012-01-03</th>\n",
              "      <td>NaN</td>\n",
              "      <td>NaN</td>\n",
              "      <td>NaN</td>\n",
              "      <td>NaN</td>\n",
              "      <td>NaN</td>\n",
              "      <td>NaN</td>\n",
              "      <td>NaN</td>\n",
              "    </tr>\n",
              "    <tr>\n",
              "      <th>2012-01-04</th>\n",
              "      <td>NaN</td>\n",
              "      <td>NaN</td>\n",
              "      <td>NaN</td>\n",
              "      <td>NaN</td>\n",
              "      <td>NaN</td>\n",
              "      <td>NaN</td>\n",
              "      <td>NaN</td>\n",
              "    </tr>\n",
              "    <tr>\n",
              "      <th>2012-01-05</th>\n",
              "      <td>NaN</td>\n",
              "      <td>NaN</td>\n",
              "      <td>NaN</td>\n",
              "      <td>NaN</td>\n",
              "      <td>NaN</td>\n",
              "      <td>NaN</td>\n",
              "      <td>NaN</td>\n",
              "    </tr>\n",
              "    <tr>\n",
              "      <th>2012-01-06</th>\n",
              "      <td>NaN</td>\n",
              "      <td>NaN</td>\n",
              "      <td>NaN</td>\n",
              "      <td>NaN</td>\n",
              "      <td>NaN</td>\n",
              "      <td>NaN</td>\n",
              "      <td>NaN</td>\n",
              "    </tr>\n",
              "    <tr>\n",
              "      <th>2012-01-09</th>\n",
              "      <td>NaN</td>\n",
              "      <td>NaN</td>\n",
              "      <td>NaN</td>\n",
              "      <td>NaN</td>\n",
              "      <td>NaN</td>\n",
              "      <td>NaN</td>\n",
              "      <td>NaN</td>\n",
              "    </tr>\n",
              "    <tr>\n",
              "      <th>2012-01-10</th>\n",
              "      <td>NaN</td>\n",
              "      <td>NaN</td>\n",
              "      <td>NaN</td>\n",
              "      <td>NaN</td>\n",
              "      <td>NaN</td>\n",
              "      <td>NaN</td>\n",
              "      <td>NaN</td>\n",
              "    </tr>\n",
              "    <tr>\n",
              "      <th>2012-01-11</th>\n",
              "      <td>NaN</td>\n",
              "      <td>NaN</td>\n",
              "      <td>NaN</td>\n",
              "      <td>NaN</td>\n",
              "      <td>NaN</td>\n",
              "      <td>NaN</td>\n",
              "      <td>NaN</td>\n",
              "    </tr>\n",
              "    <tr>\n",
              "      <th>2012-01-12</th>\n",
              "      <td>NaN</td>\n",
              "      <td>NaN</td>\n",
              "      <td>NaN</td>\n",
              "      <td>NaN</td>\n",
              "      <td>NaN</td>\n",
              "      <td>NaN</td>\n",
              "      <td>NaN</td>\n",
              "    </tr>\n",
              "    <tr>\n",
              "      <th>2012-01-13</th>\n",
              "      <td>NaN</td>\n",
              "      <td>NaN</td>\n",
              "      <td>NaN</td>\n",
              "      <td>NaN</td>\n",
              "      <td>NaN</td>\n",
              "      <td>NaN</td>\n",
              "      <td>NaN</td>\n",
              "    </tr>\n",
              "    <tr>\n",
              "      <th>2012-01-17</th>\n",
              "      <td>2.703000</td>\n",
              "      <td>0.672000</td>\n",
              "      <td>0.105000</td>\n",
              "      <td>-0.123000</td>\n",
              "      <td>0.479500</td>\n",
              "      <td>-0.044000</td>\n",
              "      <td>0.129000</td>\n",
              "    </tr>\n",
              "    <tr>\n",
              "      <th>2012-01-18</th>\n",
              "      <td>9.530000</td>\n",
              "      <td>0.447273</td>\n",
              "      <td>0.386364</td>\n",
              "      <td>0.383636</td>\n",
              "      <td>0.413182</td>\n",
              "      <td>-0.249091</td>\n",
              "      <td>0.108182</td>\n",
              "    </tr>\n",
              "    <tr>\n",
              "      <th>2012-01-19</th>\n",
              "      <td>13.328333</td>\n",
              "      <td>0.868333</td>\n",
              "      <td>0.500833</td>\n",
              "      <td>0.489167</td>\n",
              "      <td>0.277917</td>\n",
              "      <td>-0.182500</td>\n",
              "      <td>0.090000</td>\n",
              "    </tr>\n",
              "    <tr>\n",
              "      <th>2012-01-20</th>\n",
              "      <td>9.053846</td>\n",
              "      <td>0.764615</td>\n",
              "      <td>0.563846</td>\n",
              "      <td>1.356154</td>\n",
              "      <td>1.724231</td>\n",
              "      <td>-0.030000</td>\n",
              "      <td>0.055385</td>\n",
              "    </tr>\n",
              "    <tr>\n",
              "      <th>2012-01-23</th>\n",
              "      <td>3.912857</td>\n",
              "      <td>0.700714</td>\n",
              "      <td>0.690714</td>\n",
              "      <td>1.770000</td>\n",
              "      <td>1.619643</td>\n",
              "      <td>-1.170000</td>\n",
              "      <td>-0.477857</td>\n",
              "    </tr>\n",
              "    <tr>\n",
              "      <th>2012-01-24</th>\n",
              "      <td>4.501333</td>\n",
              "      <td>0.514000</td>\n",
              "      <td>0.682000</td>\n",
              "      <td>1.502667</td>\n",
              "      <td>1.147667</td>\n",
              "      <td>-1.558667</td>\n",
              "      <td>-1.015333</td>\n",
              "    </tr>\n",
              "  </tbody>\n",
              "</table>\n",
              "</div>"
            ],
            "text/plain": [
              "                 AMZN        BA       BAC       HPQ      MSFT        PG  \\\n",
              "2012-01-03        NaN       NaN       NaN       NaN       NaN       NaN   \n",
              "2012-01-04        NaN       NaN       NaN       NaN       NaN       NaN   \n",
              "2012-01-05        NaN       NaN       NaN       NaN       NaN       NaN   \n",
              "2012-01-06        NaN       NaN       NaN       NaN       NaN       NaN   \n",
              "2012-01-09        NaN       NaN       NaN       NaN       NaN       NaN   \n",
              "2012-01-10        NaN       NaN       NaN       NaN       NaN       NaN   \n",
              "2012-01-11        NaN       NaN       NaN       NaN       NaN       NaN   \n",
              "2012-01-12        NaN       NaN       NaN       NaN       NaN       NaN   \n",
              "2012-01-13        NaN       NaN       NaN       NaN       NaN       NaN   \n",
              "2012-01-17   2.703000  0.672000  0.105000 -0.123000  0.479500 -0.044000   \n",
              "2012-01-18   9.530000  0.447273  0.386364  0.383636  0.413182 -0.249091   \n",
              "2012-01-19  13.328333  0.868333  0.500833  0.489167  0.277917 -0.182500   \n",
              "2012-01-20   9.053846  0.764615  0.563846  1.356154  1.724231 -0.030000   \n",
              "2012-01-23   3.912857  0.700714  0.690714  1.770000  1.619643 -1.170000   \n",
              "2012-01-24   4.501333  0.514000  0.682000  1.502667  1.147667 -1.558667   \n",
              "\n",
              "                  VZ  \n",
              "2012-01-03       NaN  \n",
              "2012-01-04       NaN  \n",
              "2012-01-05       NaN  \n",
              "2012-01-06       NaN  \n",
              "2012-01-09       NaN  \n",
              "2012-01-10       NaN  \n",
              "2012-01-11       NaN  \n",
              "2012-01-12       NaN  \n",
              "2012-01-13       NaN  \n",
              "2012-01-17  0.129000  \n",
              "2012-01-18  0.108182  \n",
              "2012-01-19  0.090000  \n",
              "2012-01-20  0.055385  \n",
              "2012-01-23 -0.477857  \n",
              "2012-01-24 -1.015333  "
            ]
          },
          "execution_count": 49,
          "metadata": {},
          "output_type": "execute_result"
        }
      ],
      "source": [
        "# Let us check the momentum values of the stocks\n",
        "# Be sure to examine the head and tail because you will have missing values at the beginning\n",
        "momentum_factor.head(15)"
      ]
    },
    {
      "cell_type": "code",
      "execution_count": 50,
      "metadata": {
        "id": "VmzfHyUiGDJF"
      },
      "outputs": [],
      "source": [
        "# Create two dataframes to hold the buy-sell signals for momentum_buy_stocks and momentum_sell_stocks momentum values of stocks\n",
        "# The momentum_buy_stocks dataframe contains values of the stocks that are more than 0 (ie. price higher today)\n",
        "momentum_buy_stocks = momentum_factor[momentum_factor > 0]\n",
        "\n",
        "# The momentum_sell_stocks dataframe contains values of the stocks that are less than 0 (ie. price lower today)\n",
        "momentum_sell_stocks = momentum_factor[momentum_factor < 0]"
      ]
    },
    {
      "cell_type": "markdown",
      "metadata": {
        "id": "2m3dEsC8GDJF"
      },
      "source": [
        "### d. How does the factor work?\n",
        "\n",
        "This factor model is a momentum based. You buy a stock that has a higher price than the average price over some historical period and you sell a stock that has a lower price than the average price over some historical period. The assumption is that the momentum we calculate will continue going forward. We will purchase all stocks in momemtum_buy and sell all stocks in momentum_sell. All purchases and sales will be allocated the same amount of money so that our final portfolio return is just the mean of the the individual returns."
      ]
    },
    {
      "cell_type": "markdown",
      "metadata": {
        "id": "SA2DH-umGDJF"
      },
      "source": [
        "### e. Calculate our performance"
      ]
    },
    {
      "cell_type": "code",
      "execution_count": 51,
      "metadata": {
        "id": "LF9sYuftGDJF"
      },
      "outputs": [
        {
          "data": {
            "text/html": [
              "<div>\n",
              "<style scoped>\n",
              "    .dataframe tbody tr th:only-of-type {\n",
              "        vertical-align: middle;\n",
              "    }\n",
              "\n",
              "    .dataframe tbody tr th {\n",
              "        vertical-align: top;\n",
              "    }\n",
              "\n",
              "    .dataframe thead th {\n",
              "        text-align: right;\n",
              "    }\n",
              "</style>\n",
              "<table border=\"1\" class=\"dataframe\">\n",
              "  <thead>\n",
              "    <tr style=\"text-align: right;\">\n",
              "      <th></th>\n",
              "      <th>AMZN</th>\n",
              "      <th>BA</th>\n",
              "      <th>BAC</th>\n",
              "      <th>HPQ</th>\n",
              "      <th>MSFT</th>\n",
              "      <th>PG</th>\n",
              "      <th>VZ</th>\n",
              "    </tr>\n",
              "  </thead>\n",
              "  <tbody>\n",
              "    <tr>\n",
              "      <th>2014-10-23</th>\n",
              "      <td>NaN</td>\n",
              "      <td>NaN</td>\n",
              "      <td>0.672750</td>\n",
              "      <td>3.199976</td>\n",
              "      <td>4.540500</td>\n",
              "      <td>2.108730</td>\n",
              "      <td>NaN</td>\n",
              "    </tr>\n",
              "    <tr>\n",
              "      <th>2017-01-17</th>\n",
              "      <td>102.972302</td>\n",
              "      <td>23.540659</td>\n",
              "      <td>6.329333</td>\n",
              "      <td>1.265282</td>\n",
              "      <td>6.885417</td>\n",
              "      <td>1.195675</td>\n",
              "      <td>1.012143</td>\n",
              "    </tr>\n",
              "    <tr>\n",
              "      <th>2014-04-01</th>\n",
              "      <td>19.178929</td>\n",
              "      <td>12.338913</td>\n",
              "      <td>2.664651</td>\n",
              "      <td>7.802937</td>\n",
              "      <td>6.497917</td>\n",
              "      <td>0.734742</td>\n",
              "      <td>NaN</td>\n",
              "    </tr>\n",
              "    <tr>\n",
              "      <th>2013-11-06</th>\n",
              "      <td>78.157631</td>\n",
              "      <td>38.872940</td>\n",
              "      <td>1.255813</td>\n",
              "      <td>4.811329</td>\n",
              "      <td>7.207107</td>\n",
              "      <td>6.337956</td>\n",
              "      <td>2.822893</td>\n",
              "    </tr>\n",
              "    <tr>\n",
              "      <th>2015-02-03</th>\n",
              "      <td>38.361369</td>\n",
              "      <td>19.230290</td>\n",
              "      <td>NaN</td>\n",
              "      <td>2.996722</td>\n",
              "      <td>NaN</td>\n",
              "      <td>2.724683</td>\n",
              "      <td>NaN</td>\n",
              "    </tr>\n",
              "    <tr>\n",
              "      <th>2017-02-14</th>\n",
              "      <td>107.958135</td>\n",
              "      <td>30.863036</td>\n",
              "      <td>7.545921</td>\n",
              "      <td>2.301984</td>\n",
              "      <td>7.942028</td>\n",
              "      <td>3.252063</td>\n",
              "      <td>NaN</td>\n",
              "    </tr>\n",
              "    <tr>\n",
              "      <th>2016-01-27</th>\n",
              "      <td>84.922643</td>\n",
              "      <td>NaN</td>\n",
              "      <td>NaN</td>\n",
              "      <td>NaN</td>\n",
              "      <td>4.102242</td>\n",
              "      <td>0.307024</td>\n",
              "      <td>1.953968</td>\n",
              "    </tr>\n",
              "    <tr>\n",
              "      <th>2016-05-27</th>\n",
              "      <td>142.173060</td>\n",
              "      <td>NaN</td>\n",
              "      <td>NaN</td>\n",
              "      <td>NaN</td>\n",
              "      <td>2.307798</td>\n",
              "      <td>3.287381</td>\n",
              "      <td>2.768016</td>\n",
              "    </tr>\n",
              "    <tr>\n",
              "      <th>2013-11-05</th>\n",
              "      <td>81.340345</td>\n",
              "      <td>39.595282</td>\n",
              "      <td>1.241766</td>\n",
              "      <td>4.715813</td>\n",
              "      <td>5.700123</td>\n",
              "      <td>5.013036</td>\n",
              "      <td>2.337933</td>\n",
              "    </tr>\n",
              "    <tr>\n",
              "      <th>2014-12-16</th>\n",
              "      <td>NaN</td>\n",
              "      <td>NaN</td>\n",
              "      <td>0.463286</td>\n",
              "      <td>3.917952</td>\n",
              "      <td>3.123365</td>\n",
              "      <td>7.395952</td>\n",
              "      <td>NaN</td>\n",
              "    </tr>\n",
              "    <tr>\n",
              "      <th>2012-08-14</th>\n",
              "      <td>28.409231</td>\n",
              "      <td>0.099744</td>\n",
              "      <td>NaN</td>\n",
              "      <td>NaN</td>\n",
              "      <td>NaN</td>\n",
              "      <td>2.012308</td>\n",
              "      <td>3.631218</td>\n",
              "    </tr>\n",
              "    <tr>\n",
              "      <th>2012-01-30</th>\n",
              "      <td>7.617632</td>\n",
              "      <td>NaN</td>\n",
              "      <td>0.326316</td>\n",
              "      <td>0.652105</td>\n",
              "      <td>1.147632</td>\n",
              "      <td>NaN</td>\n",
              "      <td>NaN</td>\n",
              "    </tr>\n",
              "    <tr>\n",
              "      <th>2014-10-07</th>\n",
              "      <td>NaN</td>\n",
              "      <td>NaN</td>\n",
              "      <td>1.053460</td>\n",
              "      <td>4.003603</td>\n",
              "      <td>5.531571</td>\n",
              "      <td>2.279762</td>\n",
              "      <td>0.956190</td>\n",
              "    </tr>\n",
              "    <tr>\n",
              "      <th>2013-04-15</th>\n",
              "      <td>25.485071</td>\n",
              "      <td>12.191567</td>\n",
              "      <td>2.459278</td>\n",
              "      <td>2.236726</td>\n",
              "      <td>NaN</td>\n",
              "      <td>10.886270</td>\n",
              "      <td>6.522857</td>\n",
              "    </tr>\n",
              "    <tr>\n",
              "      <th>2013-07-26</th>\n",
              "      <td>52.930381</td>\n",
              "      <td>23.507282</td>\n",
              "      <td>3.655837</td>\n",
              "      <td>7.090476</td>\n",
              "      <td>1.594123</td>\n",
              "      <td>7.195762</td>\n",
              "      <td>4.305357</td>\n",
              "    </tr>\n",
              "    <tr>\n",
              "      <th>2015-03-13</th>\n",
              "      <td>43.473611</td>\n",
              "      <td>20.852254</td>\n",
              "      <td>NaN</td>\n",
              "      <td>NaN</td>\n",
              "      <td>NaN</td>\n",
              "      <td>NaN</td>\n",
              "      <td>0.097976</td>\n",
              "    </tr>\n",
              "    <tr>\n",
              "      <th>2013-02-27</th>\n",
              "      <td>30.572917</td>\n",
              "      <td>4.046964</td>\n",
              "      <td>2.186829</td>\n",
              "      <td>1.038075</td>\n",
              "      <td>NaN</td>\n",
              "      <td>9.313492</td>\n",
              "      <td>3.504087</td>\n",
              "    </tr>\n",
              "    <tr>\n",
              "      <th>2017-07-19</th>\n",
              "      <td>180.799401</td>\n",
              "      <td>48.903976</td>\n",
              "      <td>3.267587</td>\n",
              "      <td>2.503226</td>\n",
              "      <td>10.684087</td>\n",
              "      <td>1.043016</td>\n",
              "      <td>NaN</td>\n",
              "    </tr>\n",
              "    <tr>\n",
              "      <th>2015-06-30</th>\n",
              "      <td>80.852242</td>\n",
              "      <td>2.829075</td>\n",
              "      <td>0.622651</td>\n",
              "      <td>NaN</td>\n",
              "      <td>NaN</td>\n",
              "      <td>NaN</td>\n",
              "      <td>NaN</td>\n",
              "    </tr>\n",
              "    <tr>\n",
              "      <th>2012-07-10</th>\n",
              "      <td>19.036260</td>\n",
              "      <td>NaN</td>\n",
              "      <td>NaN</td>\n",
              "      <td>NaN</td>\n",
              "      <td>NaN</td>\n",
              "      <td>NaN</td>\n",
              "      <td>4.761679</td>\n",
              "    </tr>\n",
              "  </tbody>\n",
              "</table>\n",
              "</div>"
            ],
            "text/plain": [
              "                  AMZN         BA       BAC       HPQ       MSFT         PG  \\\n",
              "2014-10-23         NaN        NaN  0.672750  3.199976   4.540500   2.108730   \n",
              "2017-01-17  102.972302  23.540659  6.329333  1.265282   6.885417   1.195675   \n",
              "2014-04-01   19.178929  12.338913  2.664651  7.802937   6.497917   0.734742   \n",
              "2013-11-06   78.157631  38.872940  1.255813  4.811329   7.207107   6.337956   \n",
              "2015-02-03   38.361369  19.230290       NaN  2.996722        NaN   2.724683   \n",
              "2017-02-14  107.958135  30.863036  7.545921  2.301984   7.942028   3.252063   \n",
              "2016-01-27   84.922643        NaN       NaN       NaN   4.102242   0.307024   \n",
              "2016-05-27  142.173060        NaN       NaN       NaN   2.307798   3.287381   \n",
              "2013-11-05   81.340345  39.595282  1.241766  4.715813   5.700123   5.013036   \n",
              "2014-12-16         NaN        NaN  0.463286  3.917952   3.123365   7.395952   \n",
              "2012-08-14   28.409231   0.099744       NaN       NaN        NaN   2.012308   \n",
              "2012-01-30    7.617632        NaN  0.326316  0.652105   1.147632        NaN   \n",
              "2014-10-07         NaN        NaN  1.053460  4.003603   5.531571   2.279762   \n",
              "2013-04-15   25.485071  12.191567  2.459278  2.236726        NaN  10.886270   \n",
              "2013-07-26   52.930381  23.507282  3.655837  7.090476   1.594123   7.195762   \n",
              "2015-03-13   43.473611  20.852254       NaN       NaN        NaN        NaN   \n",
              "2013-02-27   30.572917   4.046964  2.186829  1.038075        NaN   9.313492   \n",
              "2017-07-19  180.799401  48.903976  3.267587  2.503226  10.684087   1.043016   \n",
              "2015-06-30   80.852242   2.829075  0.622651       NaN        NaN        NaN   \n",
              "2012-07-10   19.036260        NaN       NaN       NaN        NaN        NaN   \n",
              "\n",
              "                  VZ  \n",
              "2014-10-23       NaN  \n",
              "2017-01-17  1.012143  \n",
              "2014-04-01       NaN  \n",
              "2013-11-06  2.822893  \n",
              "2015-02-03       NaN  \n",
              "2017-02-14       NaN  \n",
              "2016-01-27  1.953968  \n",
              "2016-05-27  2.768016  \n",
              "2013-11-05  2.337933  \n",
              "2014-12-16       NaN  \n",
              "2012-08-14  3.631218  \n",
              "2012-01-30       NaN  \n",
              "2014-10-07  0.956190  \n",
              "2013-04-15  6.522857  \n",
              "2013-07-26  4.305357  \n",
              "2015-03-13  0.097976  \n",
              "2013-02-27  3.504087  \n",
              "2017-07-19       NaN  \n",
              "2015-06-30       NaN  \n",
              "2012-07-10  4.761679  "
            ]
          },
          "execution_count": 51,
          "metadata": {},
          "output_type": "execute_result"
        }
      ],
      "source": [
        "# We can see that we are purchasing stocks with a value and not purchasing those with a NaN\n",
        "momentum_buy_stocks.sample(20)"
      ]
    },
    {
      "cell_type": "code",
      "execution_count": 52,
      "metadata": {
        "id": "SDtCRis0K6ly"
      },
      "outputs": [
        {
          "data": {
            "text/html": [
              "<div>\n",
              "<style scoped>\n",
              "    .dataframe tbody tr th:only-of-type {\n",
              "        vertical-align: middle;\n",
              "    }\n",
              "\n",
              "    .dataframe tbody tr th {\n",
              "        vertical-align: top;\n",
              "    }\n",
              "\n",
              "    .dataframe thead th {\n",
              "        text-align: right;\n",
              "    }\n",
              "</style>\n",
              "<table border=\"1\" class=\"dataframe\">\n",
              "  <thead>\n",
              "    <tr style=\"text-align: right;\">\n",
              "      <th></th>\n",
              "      <th>AMZN</th>\n",
              "      <th>BA</th>\n",
              "      <th>BAC</th>\n",
              "      <th>HPQ</th>\n",
              "      <th>MSFT</th>\n",
              "      <th>PG</th>\n",
              "      <th>VZ</th>\n",
              "    </tr>\n",
              "  </thead>\n",
              "  <tbody>\n",
              "    <tr>\n",
              "      <th>2012-01-04</th>\n",
              "      <td>-0.008490</td>\n",
              "      <td>0.001482</td>\n",
              "      <td>0.001724</td>\n",
              "      <td>-0.000751</td>\n",
              "      <td>0.023725</td>\n",
              "      <td>-0.000449</td>\n",
              "      <td>-0.013088</td>\n",
              "    </tr>\n",
              "    <tr>\n",
              "      <th>2012-01-05</th>\n",
              "      <td>0.000563</td>\n",
              "      <td>-0.010763</td>\n",
              "      <td>0.086059</td>\n",
              "      <td>-0.003759</td>\n",
              "      <td>0.010219</td>\n",
              "      <td>-0.004192</td>\n",
              "      <td>-0.006886</td>\n",
              "    </tr>\n",
              "    <tr>\n",
              "      <th>2012-01-06</th>\n",
              "      <td>0.028152</td>\n",
              "      <td>0.006120</td>\n",
              "      <td>-0.020602</td>\n",
              "      <td>-0.003774</td>\n",
              "      <td>0.015354</td>\n",
              "      <td>-0.002405</td>\n",
              "      <td>-0.015665</td>\n",
              "    </tr>\n",
              "    <tr>\n",
              "      <th>2012-01-09</th>\n",
              "      <td>-0.022178</td>\n",
              "      <td>0.007434</td>\n",
              "      <td>0.014563</td>\n",
              "      <td>0.001515</td>\n",
              "      <td>-0.012987</td>\n",
              "      <td>0.004219</td>\n",
              "      <td>0.001044</td>\n",
              "    </tr>\n",
              "    <tr>\n",
              "      <th>2012-01-10</th>\n",
              "      <td>0.004368</td>\n",
              "      <td>0.006306</td>\n",
              "      <td>0.057416</td>\n",
              "      <td>0.009455</td>\n",
              "      <td>0.003605</td>\n",
              "      <td>-0.004652</td>\n",
              "      <td>0.005212</td>\n",
              "    </tr>\n",
              "    <tr>\n",
              "      <th>...</th>\n",
              "      <td>...</td>\n",
              "      <td>...</td>\n",
              "      <td>...</td>\n",
              "      <td>...</td>\n",
              "      <td>...</td>\n",
              "      <td>...</td>\n",
              "      <td>...</td>\n",
              "    </tr>\n",
              "    <tr>\n",
              "      <th>2017-12-22</th>\n",
              "      <td>-0.005448</td>\n",
              "      <td>0.000237</td>\n",
              "      <td>0.002012</td>\n",
              "      <td>0.000471</td>\n",
              "      <td>0.000117</td>\n",
              "      <td>0.005018</td>\n",
              "      <td>0.003396</td>\n",
              "    </tr>\n",
              "    <tr>\n",
              "      <th>2017-12-26</th>\n",
              "      <td>0.007190</td>\n",
              "      <td>0.000881</td>\n",
              "      <td>-0.003347</td>\n",
              "      <td>-0.001411</td>\n",
              "      <td>-0.001286</td>\n",
              "      <td>0.003799</td>\n",
              "      <td>0.000564</td>\n",
              "    </tr>\n",
              "    <tr>\n",
              "      <th>2017-12-27</th>\n",
              "      <td>0.004674</td>\n",
              "      <td>0.000880</td>\n",
              "      <td>-0.001679</td>\n",
              "      <td>0.001884</td>\n",
              "      <td>0.003630</td>\n",
              "      <td>-0.004109</td>\n",
              "      <td>0.001127</td>\n",
              "    </tr>\n",
              "    <tr>\n",
              "      <th>2017-12-28</th>\n",
              "      <td>0.003248</td>\n",
              "      <td>0.002469</td>\n",
              "      <td>0.002355</td>\n",
              "      <td>-0.005642</td>\n",
              "      <td>0.000117</td>\n",
              "      <td>-0.000326</td>\n",
              "      <td>0.002815</td>\n",
              "    </tr>\n",
              "    <tr>\n",
              "      <th>2017-12-29</th>\n",
              "      <td>-0.014021</td>\n",
              "      <td>-0.004859</td>\n",
              "      <td>-0.009396</td>\n",
              "      <td>-0.006619</td>\n",
              "      <td>-0.002100</td>\n",
              "      <td>-0.002064</td>\n",
              "      <td>-0.009358</td>\n",
              "    </tr>\n",
              "  </tbody>\n",
              "</table>\n",
              "<p>1508 rows × 7 columns</p>\n",
              "</div>"
            ],
            "text/plain": [
              "                AMZN        BA       BAC       HPQ      MSFT        PG  \\\n",
              "2012-01-04 -0.008490  0.001482  0.001724 -0.000751  0.023725 -0.000449   \n",
              "2012-01-05  0.000563 -0.010763  0.086059 -0.003759  0.010219 -0.004192   \n",
              "2012-01-06  0.028152  0.006120 -0.020602 -0.003774  0.015354 -0.002405   \n",
              "2012-01-09 -0.022178  0.007434  0.014563  0.001515 -0.012987  0.004219   \n",
              "2012-01-10  0.004368  0.006306  0.057416  0.009455  0.003605 -0.004652   \n",
              "...              ...       ...       ...       ...       ...       ...   \n",
              "2017-12-22 -0.005448  0.000237  0.002012  0.000471  0.000117  0.005018   \n",
              "2017-12-26  0.007190  0.000881 -0.003347 -0.001411 -0.001286  0.003799   \n",
              "2017-12-27  0.004674  0.000880 -0.001679  0.001884  0.003630 -0.004109   \n",
              "2017-12-28  0.003248  0.002469  0.002355 -0.005642  0.000117 -0.000326   \n",
              "2017-12-29 -0.014021 -0.004859 -0.009396 -0.006619 -0.002100 -0.002064   \n",
              "\n",
              "                  VZ  \n",
              "2012-01-04 -0.013088  \n",
              "2012-01-05 -0.006886  \n",
              "2012-01-06 -0.015665  \n",
              "2012-01-09  0.001044  \n",
              "2012-01-10  0.005212  \n",
              "...              ...  \n",
              "2017-12-22  0.003396  \n",
              "2017-12-26  0.000564  \n",
              "2017-12-27  0.001127  \n",
              "2017-12-28  0.002815  \n",
              "2017-12-29 -0.009358  \n",
              "\n",
              "[1508 rows x 7 columns]"
            ]
          },
          "execution_count": 52,
          "metadata": {},
          "output_type": "execute_result"
        }
      ],
      "source": [
        "df_change"
      ]
    },
    {
      "cell_type": "code",
      "execution_count": 53,
      "metadata": {
        "id": "tBiAkAEbLDL7"
      },
      "outputs": [
        {
          "data": {
            "text/html": [
              "<div>\n",
              "<style scoped>\n",
              "    .dataframe tbody tr th:only-of-type {\n",
              "        vertical-align: middle;\n",
              "    }\n",
              "\n",
              "    .dataframe tbody tr th {\n",
              "        vertical-align: top;\n",
              "    }\n",
              "\n",
              "    .dataframe thead th {\n",
              "        text-align: right;\n",
              "    }\n",
              "</style>\n",
              "<table border=\"1\" class=\"dataframe\">\n",
              "  <thead>\n",
              "    <tr style=\"text-align: right;\">\n",
              "      <th></th>\n",
              "      <th>AMZN</th>\n",
              "      <th>BA</th>\n",
              "      <th>BAC</th>\n",
              "      <th>HPQ</th>\n",
              "      <th>MSFT</th>\n",
              "      <th>PG</th>\n",
              "      <th>VZ</th>\n",
              "    </tr>\n",
              "  </thead>\n",
              "  <tbody>\n",
              "    <tr>\n",
              "      <th>2012-01-03</th>\n",
              "      <td>False</td>\n",
              "      <td>False</td>\n",
              "      <td>False</td>\n",
              "      <td>False</td>\n",
              "      <td>False</td>\n",
              "      <td>False</td>\n",
              "      <td>False</td>\n",
              "    </tr>\n",
              "    <tr>\n",
              "      <th>2012-01-04</th>\n",
              "      <td>False</td>\n",
              "      <td>False</td>\n",
              "      <td>False</td>\n",
              "      <td>False</td>\n",
              "      <td>False</td>\n",
              "      <td>False</td>\n",
              "      <td>False</td>\n",
              "    </tr>\n",
              "    <tr>\n",
              "      <th>2012-01-05</th>\n",
              "      <td>False</td>\n",
              "      <td>False</td>\n",
              "      <td>False</td>\n",
              "      <td>False</td>\n",
              "      <td>False</td>\n",
              "      <td>False</td>\n",
              "      <td>False</td>\n",
              "    </tr>\n",
              "    <tr>\n",
              "      <th>2012-01-06</th>\n",
              "      <td>False</td>\n",
              "      <td>False</td>\n",
              "      <td>False</td>\n",
              "      <td>False</td>\n",
              "      <td>False</td>\n",
              "      <td>False</td>\n",
              "      <td>False</td>\n",
              "    </tr>\n",
              "    <tr>\n",
              "      <th>2012-01-09</th>\n",
              "      <td>False</td>\n",
              "      <td>False</td>\n",
              "      <td>False</td>\n",
              "      <td>False</td>\n",
              "      <td>False</td>\n",
              "      <td>False</td>\n",
              "      <td>False</td>\n",
              "    </tr>\n",
              "    <tr>\n",
              "      <th>...</th>\n",
              "      <td>...</td>\n",
              "      <td>...</td>\n",
              "      <td>...</td>\n",
              "      <td>...</td>\n",
              "      <td>...</td>\n",
              "      <td>...</td>\n",
              "      <td>...</td>\n",
              "    </tr>\n",
              "    <tr>\n",
              "      <th>2017-12-22</th>\n",
              "      <td>True</td>\n",
              "      <td>True</td>\n",
              "      <td>True</td>\n",
              "      <td>True</td>\n",
              "      <td>True</td>\n",
              "      <td>True</td>\n",
              "      <td>True</td>\n",
              "    </tr>\n",
              "    <tr>\n",
              "      <th>2017-12-26</th>\n",
              "      <td>True</td>\n",
              "      <td>True</td>\n",
              "      <td>True</td>\n",
              "      <td>True</td>\n",
              "      <td>True</td>\n",
              "      <td>True</td>\n",
              "      <td>True</td>\n",
              "    </tr>\n",
              "    <tr>\n",
              "      <th>2017-12-27</th>\n",
              "      <td>True</td>\n",
              "      <td>True</td>\n",
              "      <td>True</td>\n",
              "      <td>True</td>\n",
              "      <td>True</td>\n",
              "      <td>True</td>\n",
              "      <td>True</td>\n",
              "    </tr>\n",
              "    <tr>\n",
              "      <th>2017-12-28</th>\n",
              "      <td>True</td>\n",
              "      <td>True</td>\n",
              "      <td>True</td>\n",
              "      <td>True</td>\n",
              "      <td>True</td>\n",
              "      <td>True</td>\n",
              "      <td>True</td>\n",
              "    </tr>\n",
              "    <tr>\n",
              "      <th>2017-12-29</th>\n",
              "      <td>True</td>\n",
              "      <td>True</td>\n",
              "      <td>True</td>\n",
              "      <td>True</td>\n",
              "      <td>True</td>\n",
              "      <td>True</td>\n",
              "      <td>True</td>\n",
              "    </tr>\n",
              "  </tbody>\n",
              "</table>\n",
              "<p>1509 rows × 7 columns</p>\n",
              "</div>"
            ],
            "text/plain": [
              "             AMZN     BA    BAC    HPQ   MSFT     PG     VZ\n",
              "2012-01-03  False  False  False  False  False  False  False\n",
              "2012-01-04  False  False  False  False  False  False  False\n",
              "2012-01-05  False  False  False  False  False  False  False\n",
              "2012-01-06  False  False  False  False  False  False  False\n",
              "2012-01-09  False  False  False  False  False  False  False\n",
              "...           ...    ...    ...    ...    ...    ...    ...\n",
              "2017-12-22   True   True   True   True   True   True   True\n",
              "2017-12-26   True   True   True   True   True   True   True\n",
              "2017-12-27   True   True   True   True   True   True   True\n",
              "2017-12-28   True   True   True   True   True   True   True\n",
              "2017-12-29   True   True   True   True   True   True   True\n",
              "\n",
              "[1509 rows x 7 columns]"
            ]
          },
          "execution_count": 53,
          "metadata": {},
          "output_type": "execute_result"
        }
      ],
      "source": [
        "momentum_buy_stocks.notnull()"
      ]
    },
    {
      "cell_type": "code",
      "execution_count": 54,
      "metadata": {
        "id": "XI5D91b5GDJF"
      },
      "outputs": [
        {
          "data": {
            "text/plain": [
              "2012-01-03         NaN\n",
              "2012-01-04    0.000000\n",
              "2012-01-05    0.000000\n",
              "2012-01-06    0.000000\n",
              "2012-01-09    0.000000\n",
              "2012-01-10    0.000000\n",
              "2012-01-11    0.000000\n",
              "2012-01-12    0.000000\n",
              "2012-01-13    0.000000\n",
              "2012-01-17    0.000614\n",
              "2012-01-18    0.016107\n",
              "2012-01-19    0.008183\n",
              "2012-01-20    0.012396\n",
              "2012-01-23    0.007629\n",
              "2012-01-24    0.001900\n",
              "2012-01-25    0.002043\n",
              "2012-01-26    0.002030\n",
              "2012-01-27    0.002495\n",
              "2012-01-30   -0.003175\n",
              "2012-01-31    0.003197\n",
              "2012-02-01    0.022714\n",
              "2012-02-02   -0.000683\n",
              "2012-02-03    0.018707\n",
              "2012-02-06   -0.000351\n",
              "2012-02-07   -0.001412\n",
              "dtype: float64"
            ]
          },
          "execution_count": 54,
          "metadata": {},
          "output_type": "execute_result"
        }
      ],
      "source": [
        "# Calculate the factor performance using the returns and signals\n",
        "# We buy the buy_stocks and sell the sell_stocks\n",
        "momentum_performance = ((df_change * momentum_buy_stocks.notnull()) - (df_change * momentum_sell_stocks.notnull())).mean(axis=1)\n",
        "momentum_performance.head(25)"
      ]
    },
    {
      "cell_type": "code",
      "execution_count": 55,
      "metadata": {
        "id": "sF-zOtyzGDJF"
      },
      "outputs": [
        {
          "data": {
            "image/png": "[encoded data removed]",
            "text/plain": [
              "<Figure size 1500x700 with 1 Axes>"
            ]
          },
          "metadata": {},
          "output_type": "display_data"
        }
      ],
      "source": [
        "# Plot our performance\n",
        "plt.figure(figsize=(15, 7))\n",
        "plt.plot(((momentum_performance + 1).cumprod()-1) * 100, label='Momentum Factor Performance')\n",
        "plt.legend(loc='best', fontsize=12)\n",
        "plt.ylabel('Returns in %', fontsize=14)\n",
        "plt.xlabel('Year', fontsize=14)\n",
        "plt.title('Momentum Factor Returns', fontsize=16)\n",
        "plt.ylim(0, 1000)\n",
        "plt.grid()\n",
        "plt.show()"
      ]
    },
    {
      "cell_type": "markdown",
      "metadata": {
        "id": "fPctgdCKGDJF"
      },
      "source": [
        "## 6. Portfolio performance\n",
        "In this last section we will examine a few different methods for evaluating portfolio performance.\n",
        "- Annualized returns\n",
        "- Annualized volatility\n",
        "- Sharpe ratio\n",
        "- Beta\n",
        "- Treynor ratio\n",
        "- Information ratio\n",
        "- Maximum drawdown"
      ]
    },
    {
      "cell_type": "markdown",
      "metadata": {
        "id": "3BCllhPnGDJF"
      },
      "source": [
        "### a. Get the data"
      ]
    },
    {
      "cell_type": "code",
      "execution_count": 56,
      "metadata": {
        "id": "P2LJoi53GDJF"
      },
      "outputs": [
        {
          "data": {
            "text/html": [
              "<div>\n",
              "<style scoped>\n",
              "    .dataframe tbody tr th:only-of-type {\n",
              "        vertical-align: middle;\n",
              "    }\n",
              "\n",
              "    .dataframe tbody tr th {\n",
              "        vertical-align: top;\n",
              "    }\n",
              "\n",
              "    .dataframe thead th {\n",
              "        text-align: right;\n",
              "    }\n",
              "</style>\n",
              "<table border=\"1\" class=\"dataframe\">\n",
              "  <thead>\n",
              "    <tr style=\"text-align: right;\">\n",
              "      <th></th>\n",
              "      <th>portfolio</th>\n",
              "      <th>market</th>\n",
              "    </tr>\n",
              "    <tr>\n",
              "      <th>Date</th>\n",
              "      <th></th>\n",
              "      <th></th>\n",
              "    </tr>\n",
              "  </thead>\n",
              "  <tbody>\n",
              "    <tr>\n",
              "      <th>2012-01-03</th>\n",
              "      <td>0.000000</td>\n",
              "      <td>0.000188</td>\n",
              "    </tr>\n",
              "    <tr>\n",
              "      <th>2012-01-04</th>\n",
              "      <td>0.000000</td>\n",
              "      <td>0.002944</td>\n",
              "    </tr>\n",
              "    <tr>\n",
              "      <th>2012-01-05</th>\n",
              "      <td>0.000000</td>\n",
              "      <td>-0.002537</td>\n",
              "    </tr>\n",
              "    <tr>\n",
              "      <th>2012-01-06</th>\n",
              "      <td>0.000000</td>\n",
              "      <td>0.002262</td>\n",
              "    </tr>\n",
              "    <tr>\n",
              "      <th>2012-01-09</th>\n",
              "      <td>-0.003117</td>\n",
              "      <td>0.008886</td>\n",
              "    </tr>\n",
              "  </tbody>\n",
              "</table>\n",
              "</div>"
            ],
            "text/plain": [
              "            portfolio    market\n",
              "Date                           \n",
              "2012-01-03   0.000000  0.000188\n",
              "2012-01-04   0.000000  0.002944\n",
              "2012-01-05   0.000000 -0.002537\n",
              "2012-01-06   0.000000  0.002262\n",
              "2012-01-09  -0.003117  0.008886"
            ]
          },
          "execution_count": 56,
          "metadata": {},
          "output_type": "execute_result"
        }
      ],
      "source": [
        "# Create a dataframe returns to store the returns of the portfolio\n",
        "returns = pd.read_csv('portfolio_performance.csv', index_col=0)\n",
        "\n",
        "# Convert the index to datetime format\n",
        "returns.index = pd.to_datetime(returns.index)\n",
        "\n",
        "returns.head()"
      ]
    },
    {
      "cell_type": "code",
      "execution_count": 57,
      "metadata": {
        "id": "iJQ4JPPXGDJF"
      },
      "outputs": [
        {
          "data": {
            "text/html": [
              "<div>\n",
              "<style scoped>\n",
              "    .dataframe tbody tr th:only-of-type {\n",
              "        vertical-align: middle;\n",
              "    }\n",
              "\n",
              "    .dataframe tbody tr th {\n",
              "        vertical-align: top;\n",
              "    }\n",
              "\n",
              "    .dataframe thead th {\n",
              "        text-align: right;\n",
              "    }\n",
              "</style>\n",
              "<table border=\"1\" class=\"dataframe\">\n",
              "  <thead>\n",
              "    <tr style=\"text-align: right;\">\n",
              "      <th></th>\n",
              "      <th>portfolio</th>\n",
              "      <th>market</th>\n",
              "    </tr>\n",
              "  </thead>\n",
              "  <tbody>\n",
              "    <tr>\n",
              "      <th>count</th>\n",
              "      <td>1508.000000</td>\n",
              "      <td>1499.000000</td>\n",
              "    </tr>\n",
              "    <tr>\n",
              "      <th>mean</th>\n",
              "      <td>0.000142</td>\n",
              "      <td>0.000522</td>\n",
              "    </tr>\n",
              "    <tr>\n",
              "      <th>std</th>\n",
              "      <td>0.004397</td>\n",
              "      <td>0.007597</td>\n",
              "    </tr>\n",
              "    <tr>\n",
              "      <th>min</th>\n",
              "      <td>-0.027984</td>\n",
              "      <td>-0.039414</td>\n",
              "    </tr>\n",
              "    <tr>\n",
              "      <th>25%</th>\n",
              "      <td>-0.001903</td>\n",
              "      <td>-0.002967</td>\n",
              "    </tr>\n",
              "    <tr>\n",
              "      <th>50%</th>\n",
              "      <td>0.000030</td>\n",
              "      <td>0.000448</td>\n",
              "    </tr>\n",
              "    <tr>\n",
              "      <th>75%</th>\n",
              "      <td>0.002058</td>\n",
              "      <td>0.004608</td>\n",
              "    </tr>\n",
              "    <tr>\n",
              "      <th>max</th>\n",
              "      <td>0.027052</td>\n",
              "      <td>0.039034</td>\n",
              "    </tr>\n",
              "  </tbody>\n",
              "</table>\n",
              "</div>"
            ],
            "text/plain": [
              "         portfolio       market\n",
              "count  1508.000000  1499.000000\n",
              "mean      0.000142     0.000522\n",
              "std       0.004397     0.007597\n",
              "min      -0.027984    -0.039414\n",
              "25%      -0.001903    -0.002967\n",
              "50%       0.000030     0.000448\n",
              "75%       0.002058     0.004608\n",
              "max       0.027052     0.039034"
            ]
          },
          "execution_count": 57,
          "metadata": {},
          "output_type": "execute_result"
        }
      ],
      "source": [
        "returns.describe()"
      ]
    },
    {
      "cell_type": "code",
      "execution_count": 58,
      "metadata": {
        "id": "Bmkcv783GDJF"
      },
      "outputs": [
        {
          "name": "stdout",
          "output_type": "stream",
          "text": [
            "0.03234994280923537\n",
            "0.06876919108037777\n"
          ]
        }
      ],
      "source": [
        "print(returns['portfolio'].mean() / returns['portfolio'].std())\n",
        "print(returns['market'].mean() / returns['market'].std())"
      ]
    },
    {
      "cell_type": "markdown",
      "metadata": {
        "id": "OCqqX_17GDJG"
      },
      "source": [
        "### b. Annualized volatility\n",
        "$Annual\\ volatility = \\sqrt{252}*\\sqrt{variance}$ <br>\n",
        "$Annual\\ volatility = \\sqrt{252}*\\sigma$"
      ]
    },
    {
      "cell_type": "code",
      "execution_count": 59,
      "metadata": {
        "id": "d1IoeYojGDJG"
      },
      "outputs": [
        {
          "data": {
            "text/plain": [
              "'The annualized volatility is 6.98%'"
            ]
          },
          "execution_count": 59,
          "metadata": {},
          "output_type": "execute_result"
        }
      ],
      "source": [
        "# Calculate the daily standard deviation\n",
        "trading_days = 252\n",
        "\n",
        "daily_std_dev = returns['portfolio'].std()\n",
        "\n",
        "# Calculate the annualized volatility\n",
        "annual_volatility = daily_std_dev * np.sqrt(trading_days) * 100\n",
        "'The annualized volatility is %.2f%%' % annual_volatility"
      ]
    },
    {
      "cell_type": "markdown",
      "metadata": {
        "id": "IDdPR-fIGDJG"
      },
      "source": [
        "### c. Sharpe ratio\n",
        "The Sharpe ratio is the excess return calculated as total returns minus the risk-free rate of return per unit of volatility. Generally, risk-free return is the return on the risk-free assets such as government bonds. The excess returns are due to the 'extra risk' taken by the investor on investing in risky assets.\n",
        "\n",
        "It tells whether the returns on a portfolio are due to good investment decision or the result of excessive risk taken. Higher Sharpe ratio is always preferable over the lower ones.\n",
        "\n",
        "The Sharpe Ratio can be used to compare the portfolio with the benchmark to get to know how your portfolio is repaying for the risk taken on the investment.\n",
        "\n",
        "$Sharpe\\ ratio = \\frac{R_p - R_f}{\\sigma_p}$\n",
        "\n",
        "where: <br>\n",
        "$R_p$ is the portfolio return <br>\n",
        "$R_f$ is the risk free return <br>\n",
        "$\\sigma_p$ is the standard deviation of the portfolio"
      ]
    },
    {
      "cell_type": "code",
      "execution_count": 60,
      "metadata": {
        "id": "jEn-VjCsGDJG"
      },
      "outputs": [],
      "source": [
        "# The annual risk-free rate of 2% is assumed\n",
        "risk_free_rate = 0.02"
      ]
    },
    {
      "cell_type": "code",
      "execution_count": 61,
      "metadata": {
        "id": "5OiCQRi1GDJG"
      },
      "outputs": [
        {
          "data": {
            "text/plain": [
              "'The Sharpe ratio is 0.23'"
            ]
          },
          "execution_count": 61,
          "metadata": {},
          "output_type": "execute_result"
        }
      ],
      "source": [
        "# Calculate the daily risk-free return by dividing the annual risk-free return by number of trading days\n",
        "daily_risk_free_return = risk_free_rate/trading_days\n",
        "\n",
        "# Calculate the excess returns by subtracting the daily returns by daily risk-free return\n",
        "excess_daily_returns = returns['portfolio'] - daily_risk_free_return\n",
        "\n",
        "# Calculate the sharpe ratio using the given formula\n",
        "# It is multiplied by square root of trading days to get the annualized value\n",
        "sharpe_ratio = (excess_daily_returns.mean() / excess_daily_returns.std()) * np.sqrt(trading_days)\n",
        "'The Sharpe ratio is %.2f' % sharpe_ratio"
      ]
    },
    {
      "cell_type": "markdown",
      "metadata": {
        "id": "liJJFIOuGDJG"
      },
      "source": [
        "### d. Beta\n",
        "Beta will capture the relationship between the portfolio returns and teh market returns.\n",
        "\n",
        "$Beta = \\frac{Cov(R_p, R_m)}{Var(R_m)}$\n"
      ]
    },
    {
      "cell_type": "code",
      "execution_count": 62,
      "metadata": {
        "id": "5nXOawmeGDJG"
      },
      "outputs": [
        {
          "data": {
            "text/plain": [
              "'The beta is 0.17'"
            ]
          },
          "execution_count": 62,
          "metadata": {},
          "output_type": "execute_result"
        }
      ],
      "source": [
        "# Calculate the covariance between market returns and portfolio returns\n",
        "covariance_matrix = returns[['market', 'portfolio']].cov()\n",
        "covariance_value = covariance_matrix.iloc[0]['portfolio']\n",
        "\n",
        "# Calculate the market variance\n",
        "market_variance = returns['market'].var()\n",
        "\n",
        "# Calculate the beta value using the given formula\n",
        "beta = covariance_value/market_variance\n",
        "'The beta is %.2f' % beta"
      ]
    },
    {
      "cell_type": "markdown",
      "metadata": {
        "id": "jsnSYvoYGDJG"
      },
      "source": [
        "### e. Treynor ratio\n",
        "Treynor ratio is the variation in the denominator of the Sharpe ratio by replacing the total standard deviation with the beta of the portfolio and thus compares performance to the overall market. It also highlights the risk-adjusted performance of the portfolio. Higher the Treynor ratio, more suitable the investment is. The ratio is based on historical returns data.\n",
        "\n",
        "$Treynor\\ ratio = \\frac{R_p - R_f}{\\beta_p}$"
      ]
    },
    {
      "cell_type": "code",
      "execution_count": 63,
      "metadata": {
        "id": "MGir2u3KGDJG"
      },
      "outputs": [
        {
          "data": {
            "text/plain": [
              "'The treynor ratio is 0.10'"
            ]
          },
          "execution_count": 63,
          "metadata": {},
          "output_type": "execute_result"
        }
      ],
      "source": [
        "# Calculate the Treynor ratio using the above formula\n",
        "# It is multiplied by trading days to get the annualized value\n",
        "treynor_ratio = (excess_daily_returns.mean()*trading_days)/beta\n",
        "'The treynor ratio is %.2f' % treynor_ratio"
      ]
    },
    {
      "cell_type": "markdown",
      "metadata": {
        "id": "HhraPSyzGDJG"
      },
      "source": [
        "### f. Information ratio\n",
        "Information ratio tells the portfolio's return in excess of the benchmark's return with respect to the volatility of these returns.  It tells an investor how much excess return is generated from the excess risk taken with respect to its benchmark. A Higher ratio implies that the fund is more consistent and better performing. The range between 0.4-0.6 is considered good and the value greater than 1 is considered excellent but is found quite rare.\n",
        "\n",
        "$Information\\ ratio = \\frac{R_p - R_m}{\\sigma_{pm}}$\n",
        "\n",
        "where: <br>\n",
        "$R_p$ is the return on the portfolio <br>\n",
        "$R_m$ is the return on the market <br>\n",
        "$\\sigma_{pm}$ is the standard deviation between the portfolio and market returns"
      ]
    },
    {
      "cell_type": "code",
      "execution_count": 64,
      "metadata": {
        "id": "THYloDtnGDJG"
      },
      "outputs": [
        {
          "data": {
            "text/plain": [
              "'The information raio is -0.79'"
            ]
          },
          "execution_count": 64,
          "metadata": {},
          "output_type": "execute_result"
        }
      ],
      "source": [
        "# Calculate the Information Ratio using the above formula\n",
        "average_daily_returns = returns['portfolio'].mean()\n",
        "information_ratio = (average_daily_returns - returns['market'].mean()) / (returns['portfolio'] - returns['market']).std() * np.sqrt(trading_days)\n",
        "'The information raio is %.2f' % information_ratio"
      ]
    },
    {
      "cell_type": "markdown",
      "metadata": {
        "id": "3A7ViTRJGDJG"
      },
      "source": [
        "### g. Maximum drawdown\n",
        "The maximum drawdown is a measure to assess the risk of a given portfolio by measuring the peak-to-trough decline in the value of the portfolio. The value is presented as a percentage of the peak value.\n",
        "\n",
        "$Maximum\\ drawdown = \\frac{L - P}{P}$\n",
        "\n",
        "where: <br>\n",
        "$L$ is the lowest value before the new high <br>\n",
        "$P$ is the maximum value before the largest drop\n",
        "\n",
        "Maximum Drawdown only measures the size of the largest loss but it doesn't say how frequently the losses are occurring and how much time it took to recover from those losses. A low value of maximum drawdown is preferred as it indicates that losses from the investment in the portfolio are less. This will become more clear as we calculate this measure."
      ]
    },
    {
      "cell_type": "code",
      "execution_count": 65,
      "metadata": {
        "id": "7x_8Jcd4GDJG"
      },
      "outputs": [
        {
          "data": {
            "text/plain": [
              "'The maximum drawdown is -10.90%'"
            ]
          },
          "execution_count": 65,
          "metadata": {},
          "output_type": "execute_result"
        }
      ],
      "source": [
        "# Cumulative product of portfolio returns\n",
        "cumprod_ret = (returns['portfolio']+1).cumprod()*100\n",
        "\n",
        "# Cumulative product of market returns\n",
        "cumprod_market_ret = (returns['market']+1).cumprod()*100\n",
        "\n",
        "# Convert the index in datetime format\n",
        "cumprod_ret.index = pd.to_datetime(cumprod_ret.index)\n",
        "\n",
        "# Define a variable trough_index to store the index of lowest value before new high\n",
        "trough_index = (np.maximum.accumulate(cumprod_ret) - cumprod_ret).idxmax()\n",
        "\n",
        "# Define a variable peak_index to store the index of maximum value before largest drop\n",
        "peak_index = cumprod_ret.loc[:trough_index].idxmax()\n",
        "\n",
        "# Calculate the maximum drawdown using the given formula\n",
        "maximum_drawdown = 100 * ((cumprod_ret[trough_index] - cumprod_ret[peak_index]) / cumprod_ret[peak_index])\n",
        "'The maximum drawdown is %.2f%%' % maximum_drawdown"
      ]
    },
    {
      "cell_type": "code",
      "execution_count": 66,
      "metadata": {
        "id": "KKVQB0xeGDJG"
      },
      "outputs": [
        {
          "data": {
            "image/png": "[encoded data removed]",
            "text/plain": [
              "<Figure size 1000x700 with 1 Axes>"
            ]
          },
          "metadata": {},
          "output_type": "display_data"
        }
      ],
      "source": [
        "# Define the figure size for the plot\n",
        "plt.figure(figsize=(10, 7))\n",
        "\n",
        "# Plot the cumulative product of returns\n",
        "plt.plot(cumprod_ret)\n",
        "\n",
        "# Plot to represent the peak and trough, represented by red dots.\n",
        "plt.plot([peak_index, trough_index], [cumprod_ret[peak_index], cumprod_ret[trough_index]], 'o', color='r', markersize=5)\n",
        "\n",
        "# Define the label for the title of the figure\n",
        "plt.title(\"Cumulative Returns\", fontsize=16)\n",
        "\n",
        "# Define the labels for x-axis and y-axis\n",
        "plt.ylabel('Returns in %', fontsize=14)\n",
        "plt.xlabel('Year', fontsize=14)\n",
        "\n",
        "# Define the label for the legend\n",
        "plt.legend([\"Cumulative Returns\", \"Peak and Trough\"], fontsize=14)\n",
        "\n",
        "# Define the tick size for x-axis and y-axis\n",
        "plt.xticks(fontsize=12)\n",
        "plt.yticks(fontsize=12)\n",
        "\n",
        "# Plot the grid lines\n",
        "plt.grid(which=\"major\", color='k', linestyle='-.', linewidth=0.5)\n",
        "\n",
        "plt.show()"
      ]
    },
    {
      "cell_type": "code",
      "execution_count": null,
      "metadata": {
        "id": "f8_-FtH5GDJG"
      },
      "outputs": [],
      "source": []
    }
  ],
  "metadata": {
    "colab": {
      "provenance": []
    },
    "kernelspec": {
      "display_name": "Python 3 (ipykernel)",
      "language": "python",
      "name": "python3"
    },
    "language_info": {
      "codemirror_mode": {
        "name": "ipython",
        "version": 3
      },
      "file_extension": ".py",
      "mimetype": "text/x-python",
      "name": "python",
      "nbconvert_exporter": "python",
      "pygments_lexer": "ipython3",
      "version": "3.11.5"
    },
    "vscode": {
      "interpreter": {
        "hash": "40d3a090f54c6569ab1632332b64b2c03c39dcf918b08424e98f38b5ae0af88f"
      }
    }
  },
  "nbformat": 4,
  "nbformat_minor": 0
}
